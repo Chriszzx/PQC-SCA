{
 "cells": [
  {
   "cell_type": "code",
   "execution_count": 1,
   "id": "1374331a",
   "metadata": {},
   "outputs": [
    {
     "name": "stderr",
     "output_type": "stream",
     "text": [
      "ERROR: Could not find a version that satisfies the requirement cw_wrapper (from versions: none)\n",
      "ERROR: No matching distribution found for cw_wrapper\n",
      "\n",
      "[notice] A new release of pip available: 22.3.1 -> 24.0\n",
      "[notice] To update, run: python.exe -m pip install --upgrade pip\n"
     ]
    }
   ],
   "source": [
    "!pip install cw_wrapper"
   ]
  },
  {
   "cell_type": "code",
   "execution_count": 2,
   "id": "a61c1b28",
   "metadata": {},
   "outputs": [
    {
     "name": "stderr",
     "output_type": "stream",
     "text": [
      "C:\\Users\\admin\\AppData\\Local\\Temp\\ipykernel_2412\\1672292181.py:3: TqdmExperimentalWarning: Using `tqdm.autonotebook.tqdm` in notebook mode. Use `tqdm.tqdm` instead to force console mode (e.g. in jupyter console)\n",
      "  from tqdm.autonotebook import tqdm\n"
     ]
    },
    {
     "ename": "ModuleNotFoundError",
     "evalue": "No module named 'cw_wrapper'",
     "output_type": "error",
     "traceback": [
      "\u001b[1;31m---------------------------------------------------------------------------\u001b[0m",
      "\u001b[1;31mModuleNotFoundError\u001b[0m                       Traceback (most recent call last)",
      "Cell \u001b[1;32mIn[2], line 4\u001b[0m\n\u001b[0;32m      2\u001b[0m \u001b[38;5;28;01mimport\u001b[39;00m \u001b[38;5;21;01mnumpy\u001b[39;00m \u001b[38;5;28;01mas\u001b[39;00m \u001b[38;5;21;01mnp\u001b[39;00m\n\u001b[0;32m      3\u001b[0m \u001b[38;5;28;01mfrom\u001b[39;00m \u001b[38;5;21;01mtqdm\u001b[39;00m\u001b[38;5;21;01m.\u001b[39;00m\u001b[38;5;21;01mautonotebook\u001b[39;00m \u001b[38;5;28;01mimport\u001b[39;00m tqdm\n\u001b[1;32m----> 4\u001b[0m \u001b[38;5;28;01mfrom\u001b[39;00m \u001b[38;5;21;01mcw_wrapper\u001b[39;00m \u001b[38;5;28;01mimport\u001b[39;00m CWScope, SS1xTarget, make_random_hex\n",
      "\u001b[1;31mModuleNotFoundError\u001b[0m: No module named 'cw_wrapper'"
     ]
    }
   ],
   "source": [
    "import time\n",
    "import numpy as np\n",
    "from tqdm.autonotebook import tqdm\n",
    "from cw_wrapper import CWScope, SS1xTarget, make_random_hex"
   ]
  },
  {
   "cell_type": "code",
   "execution_count": null,
   "id": "3b4e85c7",
   "metadata": {},
   "outputs": [],
   "source": [
    "# Connecting ChipWhisperer scope and target\n",
    "scope = CWScope()\n",
    "scope.connect(ss_version=\"1.1\")\n"
   ]
  },
  {
   "cell_type": "code",
   "execution_count": null,
   "id": "a090a5a3",
   "metadata": {},
   "outputs": [],
   "source": [
    "scope.print_scope_status()"
   ]
  },
  {
   "cell_type": "code",
   "execution_count": null,
   "id": "270876f0",
   "metadata": {},
   "outputs": [],
   "source": [
    "#%%   # jupyter block separator\\\n",
    "\n",
    "# Programming target\n",
    "scope.programming_target(\"kyber-CW308_STM32F3.hex\", \"STM32F\", reset_target_after_programming=True)"
   ]
  },
  {
   "cell_type": "code",
   "execution_count": null,
   "id": "bda80064",
   "metadata": {},
   "outputs": [],
   "source": [
    "#%%   # jupyter block separator\n",
    "\n",
    "# Getting SimpleSerial object and printing commands\n",
    "dut: SS1xTarget = scope.get_simple_serial_target()\n",
    "scope.reset_target_via_VCC()   # scope.reset_target_via_UFO_nRST()\n",
    "time.sleep(1)  # Wait for the target device to be ready\n",
    "\n",
    "# Key setting\n",
    "# fixed_key = \"2AEF4FBF1020489FFD01F8369D353698\"\n",
    "# dut.ss_write(\"k\", 16, fixed_key, following_ack=True)"
   ]
  },
  {
   "cell_type": "code",
   "execution_count": null,
   "id": "e878c4ee",
   "metadata": {},
   "outputs": [],
   "source": [
    "dut.get_simpleserial_commands()"
   ]
  },
  {
   "cell_type": "code",
   "execution_count": null,
   "id": "f00c43eb",
   "metadata": {},
   "outputs": [],
   "source": [
    "samples = scope.get_status(verbose=False)[\"samples\"]\n",
    "samples"
   ]
  },
  {
   "cell_type": "code",
   "execution_count": null,
   "id": "fd153502",
   "metadata": {},
   "outputs": [],
   "source": [
    "scope.get_status()"
   ]
  },
  {
   "cell_type": "code",
   "execution_count": null,
   "id": "c53cc028",
   "metadata": {},
   "outputs": [],
   "source": [
    "scope.set_scope_detail(samples=600, scale='clkgen_x4', offset=0)"
   ]
  },
  {
   "cell_type": "code",
   "execution_count": null,
   "id": "8447e598",
   "metadata": {},
   "outputs": [],
   "source": [
    "scope.get_last_trig_cnt()"
   ]
  },
  {
   "cell_type": "code",
   "execution_count": null,
   "id": "9984342b",
   "metadata": {},
   "outputs": [],
   "source": [
    "total_trace = 100000\n",
    "samples = 600\n",
    "traces = np.zeros(shape = (total_trace, samples), dtype = np.float32)\n",
    "\n",
    "cnt = 0"
   ]
  },
  {
   "cell_type": "code",
   "execution_count": null,
   "id": "3d3e2dd6",
   "metadata": {},
   "outputs": [],
   "source": [
    "f = open(\"a_b_zeta.txt\", 'r')\n",
    "lines = f.readlines()\n",
    "f.close()"
   ]
  },
  {
   "cell_type": "code",
   "execution_count": null,
   "id": "e6d754c8",
   "metadata": {},
   "outputs": [],
   "source": [
    "for i in range(len(lines)):\n",
    "    lines[i] = lines[i][:-1].strip()\n",
    "lines    "
   ]
  },
  {
   "cell_type": "code",
   "execution_count": null,
   "id": "33546234",
   "metadata": {},
   "outputs": [],
   "source": [
    "a = []\n",
    "b = []\n",
    "zeta = []\n",
    "\n",
    "for i in range(len(lines)):\n",
    "    temp = []\n",
    "    \n",
    "    for k, one in enumerate(lines[i].split()):\n",
    "        if k<4:\n",
    "            temp.append(hex(int(one, 16)))\n",
    "            if k==3:\n",
    "                a.append(temp)\n",
    "                temp = []\n",
    "        elif k<8:\n",
    "            temp.append(hex(int(one, 16)))\n",
    "            if k==7:\n",
    "                b.append(temp)\n",
    "                temp = []\n",
    "        else:\n",
    "            temp.append(hex(int(one, 16)))\n",
    "            if k==9:\n",
    "                zeta.append(temp)\n",
    "                temp = []      \n",
    "    "
   ]
  },
  {
   "cell_type": "code",
   "execution_count": null,
   "id": "500b36c6",
   "metadata": {},
   "outputs": [],
   "source": [
    "print(b[0][0])"
   ]
  },
  {
   "cell_type": "code",
   "execution_count": null,
   "id": "a2d62e4f",
   "metadata": {},
   "outputs": [],
   "source": [
    "print(\"%02x\" % (int(b[0][0], 16)))"
   ]
  },
  {
   "cell_type": "code",
   "execution_count": null,
   "id": "c961a094",
   "metadata": {},
   "outputs": [],
   "source": [
    "a"
   ]
  },
  {
   "cell_type": "code",
   "execution_count": null,
   "id": "f885d9ab",
   "metadata": {},
   "outputs": [],
   "source": [
    "input_key =''\n",
    "\n",
    "for i in a[0]:\n",
    "    input_key += '%02x' % (int(i, 16))\n",
    "input_key"
   ]
  },
  {
   "cell_type": "code",
   "execution_count": null,
   "id": "b2a77f14",
   "metadata": {},
   "outputs": [],
   "source": [
    "dut.ss_write('k', 4, input_key, following_ack = False)"
   ]
  },
  {
   "cell_type": "code",
   "execution_count": null,
   "id": "ce5b23a1",
   "metadata": {},
   "outputs": [],
   "source": [
    "what = dut.ss_read('r', 4, following_ack = True)\n",
    "print(what)"
   ]
  },
  {
   "cell_type": "code",
   "execution_count": null,
   "id": "7ea2898f",
   "metadata": {},
   "outputs": [],
   "source": [
    "dut.ss_write('c', 0, '', following_ack = False)\n",
    "what = dut.ss_read('r', 4, following_ack = True)\n",
    "print(what)"
   ]
  },
  {
   "cell_type": "code",
   "execution_count": null,
   "id": "f12d5f53",
   "metadata": {},
   "outputs": [],
   "source": [
    "from tqdm.notebook import tqdm\n",
    "\n",
    "cnt = 0\n",
    "tqdm_progress = tqdm(range(total_trace))\n",
    "\n",
    "while cnt < total_trace:\n",
    "    scope.arm()\n",
    "    print(b[cnt])\n",
    "    input_b = ''\n",
    "    \n",
    "    # 넘겨 줄때는 input_b와 같은 바이트 형식으로 넘겨줘야 한다.\n",
    "    # 그러면 ['0x2', '0xb', '0xfe', '0xb2'] 와 같은 형태가\n",
    "    # 020bfeb2와 같은 형태로 넘어가게 되고\n",
    "    # 받는 쪽에서는 02 0b fe b2 로 받게 된다.\n",
    "    for i in b[cnt]:\n",
    "        input_b += \"%02x\" % (int(i, 16))\n",
    "    print(input_b)\n",
    "    dut.ss_write('p', 4, input_b, following_ack = False)\n",
    "\n",
    "    c = dut.ss_read('r', 4, following_ack=True)\n",
    "    print(c)\n",
    "    \n",
    "    t = scope.get_waveform()\n",
    "\n",
    "    if t is None:\n",
    "        continue\n",
    "\n",
    "    traces[cnt] = t\n",
    "    tqdm_progress.update(1)\n",
    "    cnt += 1\n",
    "    # # Real time plot (jupyter)\n",
    "    # ax.clear()\n",
    "    # ax.plot(t)\n",
    "    # fig.canvas.draw()\n",
    "    pass        "
   ]
  },
  {
   "cell_type": "code",
   "execution_count": null,
   "id": "6c15c8ca",
   "metadata": {},
   "outputs": [],
   "source": [
    "print(scope.get_last_trig_cnt())"
   ]
  },
  {
   "cell_type": "code",
   "execution_count": null,
   "id": "4f6c4ebc",
   "metadata": {},
   "outputs": [],
   "source": [
    "np.save(\"traces.npy\", traces)"
   ]
  },
  {
   "cell_type": "code",
   "execution_count": null,
   "id": "0d4d7713",
   "metadata": {},
   "outputs": [],
   "source": [
    "scope.get_last_trig_cnt()"
   ]
  },
  {
   "cell_type": "code",
   "execution_count": null,
   "id": "541d5e50",
   "metadata": {},
   "outputs": [],
   "source": [
    "traces.shape"
   ]
  },
  {
   "cell_type": "code",
   "execution_count": null,
   "id": "556dc93f",
   "metadata": {},
   "outputs": [],
   "source": [
    "import matplotlib.pyplot as  plt\n",
    "%matplotlib notebook\n",
    "# plt.figure(figsize=(111))\n",
    "plt.plot(traces[13])\n",
    "plt.show()\n",
    "# ax, fig = plt.subplots(5, 1, figsize=(15,30))\n",
    "\n",
    "# for i in range(5):\n",
    "#     fig[i].plot(traces[i])\n",
    "# plt.show()    "
   ]
  },
  {
   "cell_type": "code",
   "execution_count": null,
   "id": "c3e47299",
   "metadata": {},
   "outputs": [],
   "source": [
    "ax, fig = plt.subplots(5, 1, figsize=(15,30))\n",
    "\n",
    "for i in range(5):\n",
    "    fig[i].plot(traces[i])\n",
    "plt.show()    "
   ]
  },
  {
   "cell_type": "code",
   "execution_count": null,
   "id": "9dac66d5",
   "metadata": {},
   "outputs": [],
   "source": [
    "np.mean(traces, axis=1)"
   ]
  },
  {
   "cell_type": "code",
   "execution_count": null,
   "id": "3e66ff89",
   "metadata": {},
   "outputs": [],
   "source": [
    "p = make_random_hex(4)\n",
    "p"
   ]
  },
  {
   "cell_type": "code",
   "execution_count": null,
   "id": "05e7357b",
   "metadata": {},
   "outputs": [],
   "source": [
    "len(p)//2"
   ]
  },
  {
   "cell_type": "code",
   "execution_count": null,
   "id": "7dd703d5",
   "metadata": {},
   "outputs": [],
   "source": [
    "#%%   # jupyter block separator\n",
    "\n",
    "# # Real time plot (jupyter)\n",
    "# %matplotlib notebook\n",
    "# import matplotlib.pyplot as plt\n",
    "# fig = plt.figure()\n",
    "# ax = fig.add_subplot(111)\n",
    "# plt.ion()\n",
    "# fig.show()\n",
    "# fig.canvas.draw()\n",
    "\n",
    "# Initializing measurement parameters\n",
    "total_trace = 500\n",
    "samples = scope.get_status(verbose=False)[\"samples\"]\n",
    "\n",
    "# Allocating placeholders\n",
    "traces = np.empty(shape=(total_trace, samples), dtype=np.float32)\n",
    "plains, ciphers = [], []\n",
    "\n",
    "# Measuring power traces\n",
    "cnt = 0\n",
    "# tqdm 설정\n",
    "tqdm_progress = tqdm(range(total_trace))\n",
    "\n",
    "# cnt는 카운터야\n",
    "# 우리가 cnt < total_trace --> 500개 까지 트레이스를 제대로 받아오는지를 cnt를 통해서 확인한다.\n",
    "# cnt가 확인용\n",
    "while cnt < total_trace:\n",
    "    # 평문 랜덤하게 설정\n",
    "    p = make_random_hex(16)\n",
    "    # 파형 따기 전에 준비신호 무조건 넣어야함\n",
    "    scope.arm()\n",
    "    # 평문 넣고 'p' 시리얼 실행\n",
    "    dut.ss_write('p', 16, p, following_ack=False)\n",
    "    # 읽어 오는거\n",
    "    c = dut.ss_read('r', 16, following_ack=True)\n",
    "    # 파형 수집한거 갖고 오기\n",
    "    t = scope.get_waveform()\n",
    "    \n",
    "    # 가끔식 오류가 뜬다.\n",
    "    # 파형을 가져 온느 단계에서 의도치 않은 상황이 발생 된다.\n",
    "    # 근데 그런거는 우리가 몰라.\n",
    "    # cnt를 업하기 전에 확인을해\n",
    "    # t 파형을 제대로 갖고 왔는지\n",
    "    # c 암호문을 제대로 갖고 왔는지\n",
    "    # 이거 둘 중에 하나라도 못갖고 왔어 -> 비정상\n",
    "    # 그래서 cnt를 업시킺지 않고 똑가은 거를 다시 따\n",
    "    if t is None or c is None:\n",
    "        continue\n",
    "        \n",
    "    #\n",
    "    plains.append(p)\n",
    "    ciphers.append(c)\n",
    "    traces[cnt] = t\n",
    "    tqdm_progress.update(1)\n",
    "    cnt += 1\n",
    "    # # Real time plot (jupyter)\n",
    "    # ax.clear()\n",
    "    # ax.plot(t)\n",
    "    # fig.canvas.draw()\n",
    "    pass\n",
    "\n",
    "plains = np.array(plains)\n",
    "ciphers = np.array(ciphers)\n",
    "\n"
   ]
  },
  {
   "cell_type": "code",
   "execution_count": null,
   "id": "0912e21e",
   "metadata": {},
   "outputs": [],
   "source": []
  },
  {
   "cell_type": "code",
   "execution_count": null,
   "id": "3f687e11",
   "metadata": {},
   "outputs": [],
   "source": [
    "print(\"trace : \", traces.shape)\n",
    "\n",
    "import matplotlib.pyplot as plt\n",
    "\n",
    "plt.plot(traces[0])\n",
    "\n",
    "\n"
   ]
  },
  {
   "cell_type": "code",
   "execution_count": null,
   "id": "ae425983",
   "metadata": {},
   "outputs": [],
   "source": [
    "#%%   # jupyter block separator\n",
    "\n",
    "# Saving power traces and metadata\n",
    "np.save(\"./traces.npy\", traces)\n",
    "np.save(\"./plains.npy\", plains)\n",
    "np.save(\"./ciphers.npy\", ciphers)"
   ]
  }
 ],
 "metadata": {
  "kernelspec": {
   "display_name": "Python 3 (ipykernel)",
   "language": "python",
   "name": "python3"
  },
  "language_info": {
   "codemirror_mode": {
    "name": "ipython",
    "version": 3
   },
   "file_extension": ".py",
   "mimetype": "text/x-python",
   "name": "python",
   "nbconvert_exporter": "python",
   "pygments_lexer": "ipython3",
   "version": "3.10.8"
  }
 },
 "nbformat": 4,
 "nbformat_minor": 5
}

{
 "cells": [
  {
   "cell_type": "code",
   "execution_count": 2,
   "id": "7369b268",
   "metadata": {
    "ExecuteTime": {
     "end_time": "2023-12-01T06:24:12.711169Z",
     "start_time": "2023-12-01T06:24:12.695854Z"
    }
   },
   "outputs": [
    {
     "name": "stdout",
     "output_type": "stream",
     "text": [
      "(30, 500)\n",
      "[193 195  -1  -1  -1 212 177  -1 150   6  50 149 108 227  53 137 251 209\n",
      " 178  -1  25 153 195 145 140  82  -1   3 138 207 166   8  52  60 123  41\n",
      "  73  -1   7  -1   3 123 242  32 218 101  82 201  -1   6  76 238 209  45\n",
      " 135  -1 212 115  -1  -1 227  98  37  -1 137  25   3 109 155  -1  66  -1\n",
      "  -1 185 227  52 230 170  -1 205 142 144 203  -1  16 227 102 144 122  -1\n",
      " 170 252  -1 224  94   7 168  59  15 106  87  -1 183  -1  81  89 222  -1\n",
      "  -1  34  39  78  54  -1 181 127  43  91 154 121  68 183 126 251 231 176\n",
      "  53  -1 108   7  58 141  -1   5 249 107  -1  43  -1  -1  26 113 125  -1\n",
      " 176 203  97 104 164 190   6  67 130  44  37  35  24  57 133 145  79  50\n",
      " 224  -1 187 168 154  41  -1 143 155  58  -1 162 187 218  52  68 179 123\n",
      " 235 117  -1  15 245 159 163  31  58  -1  -1 129 173  -1  -1 135 164 211\n",
      "  14 230  61 239  -1  -1  -1 196 134  73  14 179  -1 123 140  84  50  81\n",
      " 116 110  42 127  -1 118 182 240 185  -1  -1 123  64  13  -1  13  -1  17\n",
      " 245 133  20  -1 158 213  -1  97  -1  -1   5  25  58  -1  94 199 236 162\n",
      "  -1 197  92  -1 144 158 139 124 126 171  -1 146 211  13 239  43   6 172\n",
      " 201 219 126 221  21 164 190 206 130  -1 187 251 195   4  66  52  -1  -1\n",
      " 102 153  -1 174 111 142  73  -1 248  15  -1 227 121  64  -1 135  21 194\n",
      "  -1  -1  13  41 232  67 191  -1  21  -1  -1 195 240 210  81  77  -1 197\n",
      " 214 145 204 184  68  -1 241  52  78  26  -1 235  63 114 177 145  49  -1\n",
      "  -1  -1  -1  15 181 227  19 141  -1 109  -1 179 218 250  77 243 203  -1\n",
      " 247  -1  28 201  58  94  -1 174  15 177  -1 255   3 211   7   1  40 137\n",
      "  37 199   7  84  -1  53  18 161  80 197  -1 101 113  18  -1 163  -1  52\n",
      "  33   7  -1 205  60  21  28  -1 195  -1 103  27  20 120  -1 183 154  -1\n",
      "  28  24 123 225 225  29  22  28  64 194 109  41  70  34   1  -1 205  -1\n",
      " 128  -1 212  -1 151   3 125  -1  52  -1  38  31 215 235 101 108 189  92\n",
      "   3 237 156 126 215 101 210  67  83 158 109  41 221  -1 219 156 179  76\n",
      "  47  94  80 141  23   4 112 176 106  -1  96  14  58  51 215 220  64 246\n",
      "  -1 176 168  40 179 183 188  22  78 116  -1  -1 125  88]\n"
     ]
    }
   ],
   "source": [
    "import numpy as np\n",
    "file = np.load(r\"D:\\Demonstrate\\Dilithium\\attack_show\\coefficient_result.npy\")\n",
    "print(file.shape)\n",
    "print(file[0])"
   ]
  },
  {
   "cell_type": "code",
   "execution_count": 1,
   "id": "c6e2353c",
   "metadata": {
    "ExecuteTime": {
     "end_time": "2023-12-01T06:38:39.429835Z",
     "start_time": "2023-12-01T06:38:39.424877Z"
    }
   },
   "outputs": [],
   "source": [
    "## 根据预测的结果，输出0-1标志矩阵： 0表示预测结果有效；1表示预测的结果无效\n",
    "def limit_fun(result):\n",
    "    file_num = result.shape[0]     ## 多少个文件\n",
    "    trace_num = result.shape[1]    ## 每个文件有多少条曲线\n",
    "    limit_index = np.zeros([file_num*trace_num],dtype = int)\n",
    "    for i in range(file_num):\n",
    "        for j in range(trace_num):\n",
    "            if result[i,j] == -1:\n",
    "                limit_index[i*trace_num+j] = 1\n",
    "    return limit_index"
   ]
  },
  {
   "cell_type": "code",
   "execution_count": 2,
   "id": "bf8f1a1d",
   "metadata": {
    "ExecuteTime": {
     "end_time": "2023-12-01T06:39:18.810721Z",
     "start_time": "2023-12-01T06:39:17.739381Z"
    },
    "scrolled": true
   },
   "outputs": [
    {
     "name": "stderr",
     "output_type": "stream",
     "text": [
      "100%|██████████| 500/500 [00:00<00:00, 8315.07it/s]\n",
      "100%|██████████| 500/500 [00:00<00:00, 8636.55it/s]\n",
      "100%|██████████| 500/500 [00:00<00:00, 10333.70it/s]"
     ]
    },
    {
     "name": "stdout",
     "output_type": "stream",
     "text": [
      "每组trace数量： (316, 257)    (298, 257)    (295, 257)     (287, 257)\n",
      "***第0组S1的第0个系数***\n",
      "使用曲线500条         预测准确率： 1.0\n",
      "***第0组S1的第1个系数***\n",
      "使用曲线500条         预测准确率： 1.0\n",
      "***第0组S1的第2个系数***\n",
      "使用曲线500条         预测准确率： 1.0\n",
      "***第0组S1的第3个系数***\n",
      "使用曲线500条         预测准确率： 1.0\n"
     ]
    },
    {
     "name": "stderr",
     "output_type": "stream",
     "text": [
      "\n"
     ]
    }
   ],
   "source": [
    "import numpy as np\n",
    "from tqdm import trange\n",
    "import numba as nb\n",
    "import time\n",
    "import sys\n",
    "sys.path.append(r\"D:\\Demonstrate\\Dilithium\\attack_show\\dilithium-py-main\")   ## 注意这里\n",
    "from dilithium import Dilithium,DEFAULT_PARAMETERS\n",
    "\n",
    "## 解包函数\n",
    "def Z_unpack(blocknum,label_file_url):   # blocknum是块数\n",
    "    D=Dilithium(DEFAULT_PARAMETERS[\"dilithium2\"])\n",
    "    data=np.load(label_file_url+\"\\meta_data_part{0}.npz\".format(blocknum),allow_pickle=True)\n",
    "    sm=data['sm']\n",
    "    Z_array=np.zeros([len(sm),4,256],dtype=int)\n",
    "    # 每一条曲线的z的多项式系数，一个z是4*256的\n",
    "    C_array=np.zeros([len(sm),256],dtype=int)\n",
    "    # 每一条曲线的c的多项式系数，一个z是1*256的\n",
    "\n",
    "    for j in range(len(sm)):#对每一条曲线进行遍历\n",
    "        z=bytes.fromhex(sm[j][:4840])\n",
    "        C,Z_poly,h=D._unpack_sig(sig_bytes=z)\n",
    "        C_tall=D._sample_in_ball(C)\n",
    "        C_array[j]=np.array(C_tall.coeffs,dtype=int)\n",
    "        for p in range(4):\n",
    "            Z_array[j][p]=np.array(Z_poly[p][0].coeffs,dtype=int)\n",
    "    return C_array,Z_array\n",
    "##########   带模的多项式乘法    ##########################\n",
    "def poly_multi(X,m):\n",
    "    n = X.shape[0]\n",
    "    D1 = np.zeros((n,n),dtype = int)  \n",
    "    D2 = np.zeros((n,n),dtype = int)\n",
    "    \n",
    "    for j in range(m+1):    ## 矩阵运算法    coeff_front\n",
    "        D1[m][j] = X[m-j]\n",
    "\n",
    "    X = X[::-1]\n",
    "    for j in range(m+1,n):   ## 矩阵运算法    生成coeff_behind\n",
    "        D2[m][j] = X[j-m-1]\n",
    "\n",
    "    s1_coeff = (D1-D2)[m]\n",
    "    return s1_coeff \n",
    "\n",
    "## 获取Z值函数： 得到每条trace上y=0所对应的z值\n",
    "def get_z_ij(Z,index,predict,file_num):    \n",
    "    z_ij = np.zeros((500,2),dtype = int)\n",
    "    for i in range(500):\n",
    "        z_ij[i,0] = Z[i,index[i],predict[i]]\n",
    "        z_ij[i,1] = index[i]\n",
    "    #np.save(r\"D:\\Introduction\\竞赛\\data\\result\\z_ij_coeff_part{0}.npy\".format(file_num),z_ij)\n",
    "    return z_ij   ##(500,2)\n",
    "\n",
    "## 获得一个npz文件(500条曲线)的S1的系数\n",
    "def combine_coeff(C,predict,file_num):\n",
    "    cs1_coeff = np.zeros((500,256),dtype=int)\n",
    "    \n",
    "    for i in trange(500):\n",
    "        cs1_coeff[i] = poly_multi(C[i],predict[i])\n",
    "    return cs1_coeff    ## (500,256)\n",
    "\n",
    "def get_coeff_of_CS_z(file_number,label_file_url,predict_file):\n",
    "    final_data = np.zeros([500*file_number,258],dtype = int)     ## 最终get_coeff_of_CS_z输出文件，把z_ij和CS1合并\n",
    "    for file_num in range(file_number):\n",
    "        \n",
    "        label = np.load(label_file_url+\"\\meta_data_part{0}.npz\".format(file_num),allow_pickle=True)\n",
    "        predict_file = predict_file   ## (10,500)  这里是多个预测文件合并为一个；后期可能调整\n",
    "        C,Z = Z_unpack(file_num,label_file_url)     # (500, 256)  # (500, 4, 256)   \n",
    "        \n",
    "        index = label['index']   # (500,)\n",
    "        predict = predict_file[file_num]    ## 后期可能调整\n",
    "\n",
    "        final_data[500*file_num:500*file_num+500,256:] = get_z_ij(Z,index,predict,file_num)   ## step1. 获得Z_ij的值  (500,2)\n",
    "        final_data[500*file_num:500*file_num+500,0:256] = combine_coeff(C,predict,file_num)    ## step2. 获得CS1的值  (500,256)\n",
    "    return final_data     # (500*file_number, 258)\n",
    "\n",
    "## 把CS1系数和Z_ij的组合矩阵按照index划分为4组\n",
    "def split_cs1_coeff(final_data,index_error):\n",
    "    csz_0 = np.zeros((1,257),dtype = int)   ##  用来存放第一个多项式的 C*S1的系数 和 z值（前256是系数，最后一个是z值）\n",
    "    csz_1 = np.zeros((1,257),dtype = int)   ##  用来存放第二个...\n",
    "    csz_2 = np.zeros((1,257),dtype = int)\n",
    "    csz_3 = np.zeros((1,257),dtype = int)\n",
    "    \n",
    "    for i in range(final_data.shape[0]):\n",
    "        if index_error[i] == 0:             ## 检验位，排除预测为-1的\n",
    "            if final_data[i,-1] == 0:\n",
    "                csz_0 = np.vstack((csz_0,final_data[i,:257]))\n",
    "            elif final_data[i,-1] == 1:\n",
    "                csz_1 = np.vstack((csz_1,final_data[i,:257]))\n",
    "            elif final_data[i,-1] == 2:\n",
    "                csz_2 = np.vstack((csz_2,final_data[i,:257]))\n",
    "            else:\n",
    "                csz_3 = np.vstack((csz_3,final_data[i,:257]))\n",
    "    print(\"每组trace数量：\",csz_0.shape,\"  \",csz_1.shape,\"  \",csz_2.shape,\"   \",csz_3.shape)  ##检查每个分类多少条\n",
    "    return csz_0[1:],csz_1[1:],csz_2[1:],csz_3[1:]   # (500*file_number, 257)\n",
    "\n",
    "### 最小二乘法\n",
    "def leastSquares(cz_i,use_trace_num):   \n",
    "    c = cz_i[:use_trace_num,:256]\n",
    "    z = cz_i[:use_trace_num,-1]\n",
    "    meddle = np.dot(c.T,c)  # c^T  * c\n",
    "    meddle2 = np.linalg.inv(meddle) # (c^T  * c)^-1\n",
    "    meddle3 = np.dot(meddle2,c.T)  # (C^T * C)^-1  *  C^T\n",
    "    \n",
    "    return np.dot(meddle3,z)   # (C^T * C)^-1  *  C^T  * Z\n",
    "\n",
    "## 检验准确率\n",
    "def accuracy(predict_S1,real_S1_url,group_num,which):\n",
    "    real_S1 = np.load(real_S1_url)[group_num][which]\n",
    "    n = predict_S1.shape[0]\n",
    "    count = 0\n",
    "    predict_S1 = np.round(predict_S1)\n",
    "    for i in range(n):\n",
    "        if predict_S1[i] - real_S1[i] == 0:\n",
    "            count += 1\n",
    "    accuracy = count/n\n",
    "    return(accuracy)\n",
    "\n",
    "def main(file_number,label_file_url,predict_file,use_trace_num,index_error):\n",
    "    final_data = get_coeff_of_CS_z(file_number,label_file_url,predict_file) \n",
    "    csz_0,csz_1,csz_2,csz_3 = split_cs1_coeff(final_data,index_error)\n",
    "    predict_S1_0 = leastSquares(csz_0,use_trace_num)\n",
    "    predict_S1_1 = leastSquares(csz_1,use_trace_num)\n",
    "    predict_S1_2 = leastSquares(csz_2,use_trace_num)\n",
    "    predict_S1_3 = leastSquares(csz_3,use_trace_num)\n",
    "    return predict_S1_0,predict_S1_1,predict_S1_2,predict_S1_3\n",
    "##################################################################################################################################\n",
    "######################################### API ####################################################################################\n",
    "if __name__ == '__main__':\n",
    "    group_number = 0       ###  攻击第几组\n",
    "    file_number =  3     ## 使用多少个npy文件\n",
    "    use_trace_num =   500                           ## 使用多少数量trace\n",
    "             \n",
    "    label_file_url = r\"D:\\Demonstrate\\Dilithium\\attack_show\\meta_data\"                                             \n",
    "    predict_file =  np.load(r\"D:\\Demonstrate\\Dilithium\\attack_show\\coefficient_result.npy\")#result\n",
    "    index_error  =  limit_fun(predict_file)#np.load(r\"index_error.npy\")#index_error\n",
    "######################################    output   #############################################\n",
    "    predict_S1_0,predict_S1_1,predict_S1_2,predict_S1_3 = main(file_number,label_file_url,predict_file,use_trace_num,index_error) \n",
    "##################  预测结果写入txt文件  #######################################################\n",
    "#     predict_S1 = np.hstack((predict_S1_0,predict_S1_1,predict_S1_2,predict_S1_3))\n",
    "#     print(\"shape:\",predict_S1.shape)\n",
    "#     np.savetxt('predict_s1_group{}.txt'.format(group_number), predict_S1, fmt='%d')\n",
    "##################   检验准确率   ##############################################################\n",
    "    real_S1_url = r\"D:\\Demonstrate\\Dilithium\\attack_show\\s1.npy\"\n",
    "    accuracy(predict_S1_0,real_S1_url,0,0)\n",
    "    accuracy(predict_S1_1,real_S1_url,0,1)\n",
    "    accuracy(predict_S1_2,real_S1_url,0,2)\n",
    "    accuracy(predict_S1_3,real_S1_url,0,3)\n",
    "    \n",
    "    print(\"***第{}组S1的第0个系数***\".format(group_number))\n",
    "    print(\"使用曲线{}条\".format(use_trace_num),\"        预测准确率：\",accuracy(predict_S1_0,real_S1_url,group_number,0))\n",
    "    print(\"***第{}组S1的第1个系数***\".format(group_number))\n",
    "    print(\"使用曲线{}条\".format(use_trace_num),\"        预测准确率：\",accuracy(predict_S1_1,real_S1_url,group_number,1))\n",
    "    print(\"***第{}组S1的第2个系数***\".format(group_number))\n",
    "    print(\"使用曲线{}条\".format(use_trace_num),\"        预测准确率：\",accuracy(predict_S1_2,real_S1_url,group_number,2))\n",
    "    print(\"***第{}组S1的第3个系数***\".format(group_number))\n",
    "    print(\"使用曲线{}条\".format(use_trace_num),\"        预测准确率：\",accuracy(predict_S1_3,real_S1_url,group_number,3))"
   ]
  },
  {
   "cell_type": "code",
   "execution_count": 3,
   "id": "7c3792d3",
   "metadata": {
    "ExecuteTime": {
     "end_time": "2023-12-01T06:33:22.344786Z",
     "start_time": "2023-12-01T06:33:22.336280Z"
    }
   },
   "outputs": [
    {
     "name": "stdout",
     "output_type": "stream",
     "text": [
      "(10, 4, 256)\n",
      "[-1 -1 -1  1 -1  2  0 -1  1 -2  1 -1  1  1  0  1 -1 -2 -2 -1  2 -1 -2  2\n",
      " -2 -1 -2  1 -1 -2  2  1  2 -1  1  0  1  1  0  0 -2 -1 -2  2  2  2 -1  0\n",
      " -1 -2 -2  0  1  0  0  0  2 -1  1 -2  0  1  2 -1  1  0  0  2  0 -1 -1  2\n",
      " -1  0 -2  2  1 -1 -2 -1  0  0  1  2 -2  2  2  2  0  1  2 -1  0  1  2  1\n",
      "  1  1  1  0  1 -2  0  1  2  1  2  2  0  2 -1 -1 -1  0  2  1 -2 -2 -2  1\n",
      "  0 -2  0  2  2  2 -1  0 -2 -1 -1 -1  1  0 -1 -2 -2  1  1  2 -2 -2 -2 -2\n",
      "  2  2  2 -2  0  1  0 -2  2  2  0  0 -2 -1  0  1  0 -2 -2 -1 -2 -2 -2 -2\n",
      "  2  0  1  2  1 -1  0 -1  2 -2  1 -2 -1  1 -1  0 -1  0  0  1  2  0  0  2\n",
      "  2  2 -2 -1 -2 -1  1  2  2  1  1  2 -1 -2 -1  1  0  2  1  0  0 -2  1  1\n",
      " -2 -1  2  2 -2 -1  0  1  1 -2 -2 -2  2  2  0  2 -2 -2  2 -2 -2 -2  0  1\n",
      " -1  2  2  1  0 -2  1 -2  0 -1 -1  0  2 -1  1 -2]\n",
      "[0 0 0 0 0 0 0 0 0 0 0 0 0 0 0 0 0 0 0 0 0 0 0 0 0 0 0 0 0 0 0 0 0 0 0 0 0\n",
      " 0 0 0 0 0 0 0 0 0 0 0 0 0 0 0 0 0 0 0 0 0 0 0 0 0 0 0 0 0 0 0 0 0 0 0 0 0\n",
      " 0 0 0 0 0 0 0 0 0 0 0 0 0 0 0 0 0 0 0 0 0 0 0 0 0 0 0 0 0 0 0 0 0 0 0 0 0\n",
      " 0 0 0 0 0 0 0 0 0 0 0 0 0 0 0 0 0 0 0 0 0 0 0 0 0 0 0 0 0 0 0 0 0 0 0 0 0\n",
      " 0 0 0 0 0 0 0 0 0 0 0 0 0 0 0 0 0 0 0 0 0 0 0 0 0 0 0 0 0 0 0 0 0 0 0 0 0\n",
      " 0 0 0 0 0 0 0 0 0 0 0 0 0 0 0 0 0 0 0 0 0 0 0 0 0 0 0 0 0 0 0 0 0 0 0 0 0\n",
      " 0 0 0 0 0 0 0 0 0 0 0 0 0 0 0 0 0 0 0 0 0 0 0 0 0 0 0 0 0 0 0 0 0 0]\n"
     ]
    }
   ],
   "source": [
    "real = np.load(r\"D:\\Demonstrate\\Dilithium\\attack_show\\s1.npy\")\n",
    "print(real.shape)\n",
    "print(real[0,0])\n",
    "print(real[1,0])"
   ]
  },
  {
   "cell_type": "code",
   "execution_count": null,
   "id": "b7858855",
   "metadata": {},
   "outputs": [],
   "source": []
  }
 ],
 "metadata": {
  "kernelspec": {
   "display_name": "Python 3 (ipykernel)",
   "language": "python",
   "name": "python3"
  },
  "language_info": {
   "codemirror_mode": {
    "name": "ipython",
    "version": 3
   },
   "file_extension": ".py",
   "mimetype": "text/x-python",
   "name": "python",
   "nbconvert_exporter": "python",
   "pygments_lexer": "ipython3",
   "version": "3.10.8"
  }
 },
 "nbformat": 4,
 "nbformat_minor": 5
}

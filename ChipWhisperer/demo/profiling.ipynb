{
 "cells": [
  {
   "cell_type": "code",
   "execution_count": 1,
   "id": "d9d5472d",
   "metadata": {},
   "outputs": [],
   "source": [
    "SCOPETYPE = 'OPENADC'\n",
    "PLATFORM = 'CW308_STM32F4'\n",
    "SS_VER = 'SS_VER_1_1'"
   ]
  },
  {
   "cell_type": "code",
   "execution_count": 2,
   "id": "0db9a6d9",
   "metadata": {},
   "outputs": [
    {
     "name": "stdout",
     "output_type": "stream",
     "text": [
      "INFO: Found ChipWhisperer😍\n"
     ]
    }
   ],
   "source": [
    "%run \"./Setup_Scripts/Setup_Generic.ipynb\""
   ]
  },
  {
   "cell_type": "code",
   "execution_count": 45,
   "id": "06dcc0d7",
   "metadata": {
    "scrolled": true
   },
   "outputs": [
    {
     "name": "stdout",
     "output_type": "stream",
     "text": [
      "SS_VER set to SS_VER_1_1\r\n",
      "SS_VER set to SS_VER_1_1\n",
      "make[1]: '.dep' is up to date.\r\n",
      "SS_VER set to SS_VER_1_1\n",
      ".\n",
      "Welcome to another exciting ChipWhisperer target build!!\n",
      "arm-none-eabi-gcc (GNU Arm Embedded Toolchain 10-2020-q4-major) 10.2.1 20201103 (release)\r\n",
      "Copyright (C) 2020 Free Software Foundation, Inc.\r\n",
      "This is free software; see the source for copying conditions.  There is NO\r\n",
      "warranty; not even for MERCHANTABILITY or FITNESS FOR A PARTICULAR PURPOSE.\r\n",
      "\r\n",
      ".\n",
      "Compiling:\n",
      "    main.c ...Done!\n",
      ".\n",
      "Compiling:\n",
      "    sign.c ...Done!\n",
      ".\n",
      "Compiling:\n",
      "    packing.c ...Done!\n",
      ".\n",
      "Compiling:\n",
      "    polyvec.c ...Done!\n",
      ".\n",
      "Compiling:\n",
      "    poly.c ...Done!\n",
      ".\n",
      "Compiling:\n",
      "    ntt.c ...Done!\n",
      ".\n",
      "Compiling:\n",
      "    reduce.c ...Done!\n",
      ".\n",
      "Compiling:\n",
      "    rounding.c ...Done!\n",
      ".\n",
      "Compiling:\n",
      "    fips202.c ...Done!\n",
      ".\n",
      "Compiling:\n",
      "    symmetric-shake.c ...Done!\n",
      ".\n",
      "Compiling:\n",
      "    aes256ctr.c ...Done!\n",
      ".\n",
      "Compiling:\n",
      "    ../../hardware/victims/firmware/./simpleserial/simpleserial.c ...Done!\n",
      ".\n",
      "Compiling:\n",
      "    ../../hardware/victims/firmware/./hal/stm32f4/stm32f4_hal.c ...Done!\n",
      ".\n",
      "Compiling:\n",
      "    ../../hardware/victims/firmware/./hal/stm32f4/stm32f4_hal_lowlevel.c ...Done!\n",
      ".\n",
      "Compiling:\n",
      "    ../../hardware/victims/firmware/./hal/stm32f4/stm32f4_sysmem.c ...Done!\n",
      ".\n",
      "Compiling:\n",
      "    ../../hardware/victims/firmware/./hal/stm32f4/stm32f4xx_hal_rng.c ...Done!\n",
      ".\n",
      "Assembling: ../../hardware/victims/firmware/./hal/stm32f4/stm32f4_startup.S\n",
      "arm-none-eabi-gcc -c -mcpu=cortex-m4 -I. -x assembler-with-cpp -mthumb -mfloat-abi=soft -fmessage-length=0 -ffunction-sections -DF_CPU=7372800 -Wa,-gstabs,-adhlns=objdir-CW308_STM32F4/stm32f4_startup.lst -I../../hardware/victims/firmware/./simpleserial/ -I../../hardware/victims/firmware/./hal -I../../hardware/victims/firmware/./hal/stm32f4 -I../../hardware/victims/firmware/./hal/stm32f4/CMSIS -I../../hardware/victims/firmware/./hal/stm32f4/CMSIS/core -I../../hardware/victims/firmware/./hal/stm32f4/CMSIS/device -I../../hardware/victims/firmware/./hal/stm32f4/Legacy -I../../hardware/victims/firmware/./crypto/ ../../hardware/victims/firmware/./hal/stm32f4/stm32f4_startup.S -o objdir-CW308_STM32F4/stm32f4_startup.o\r\n",
      ".\n",
      "LINKING:\n",
      "    simple-test-CW308_STM32F4.elf ...Done!\n",
      ".\n",
      "Creating load file for Flash: simple-test-CW308_STM32F4.hex\n",
      "arm-none-eabi-objcopy -O ihex -R .eeprom -R .fuse -R .lock -R .signature simple-test-CW308_STM32F4.elf simple-test-CW308_STM32F4.hex\r\n",
      ".\n",
      "Creating load file for Flash: simple-test-CW308_STM32F4.bin\n",
      "arm-none-eabi-objcopy -O binary -R .eeprom -R .fuse -R .lock -R .signature simple-test-CW308_STM32F4.elf simple-test-CW308_STM32F4.bin\r\n",
      ".\n",
      "Creating load file for EEPROM: simple-test-CW308_STM32F4.eep\n",
      "arm-none-eabi-objcopy -j .eeprom --set-section-flags=.eeprom=\"alloc,load\" \\\r\n",
      "--change-section-lma .eeprom=0 --no-change-warnings -O ihex simple-test-CW308_STM32F4.elf simple-test-CW308_STM32F4.eep || exit 0\r\n",
      ".\n",
      "Creating Extended Listing: simple-test-CW308_STM32F4.lss\n",
      "arm-none-eabi-objdump -h -S -z simple-test-CW308_STM32F4.elf > simple-test-CW308_STM32F4.lss\r\n",
      ".\n",
      "Creating Symbol Table: simple-test-CW308_STM32F4.sym\n",
      "arm-none-eabi-nm -n simple-test-CW308_STM32F4.elf > simple-test-CW308_STM32F4.sym\r\n",
      "SS_VER set to SS_VER_1_1\n",
      "Size after:\n",
      "   text\t   data\t    bss\t    dec\t    hex\tfilename\r\n",
      "  23532\t   1096\t  11364\t  35992\t   8c98\tsimple-test-CW308_STM32F4.elf\r\n",
      "+--------------------------------------------------------\n",
      "+ Default target does full rebuild each time.\n",
      "+ Specify buildtarget == allquick == to avoid full rebuild\n",
      "+--------------------------------------------------------\n",
      "+--------------------------------------------------------\n",
      "+ Built for platform CW308T: STM32F4 Target with:\n",
      "+ CRYPTO_TARGET = NONE\n",
      "+ CRYPTO_OPTIONS = NONE\n",
      "+--------------------------------------------------------\n"
     ]
    },
    {
     "name": "stderr",
     "output_type": "stream",
     "text": [
      "In file included from ../../hardware/victims/firmware/./hal/stm32f4/stm32f4_hal.c:3:\n",
      "../../hardware/victims/firmware/./hal/stm32f4/stm32f4_hal_lowlevel.h:108: warning: \"STM32F415xx\" redefined\n",
      "  108 | #define STM32F415xx\n",
      "      | \n",
      "<command-line>: note: this is the location of the previous definition\n",
      "In file included from ../../hardware/victims/firmware/./hal/stm32f4/stm32f4_hal_lowlevel.c:39:\n",
      "../../hardware/victims/firmware/./hal/stm32f4/stm32f4_hal_lowlevel.h:108: warning: \"STM32F415xx\" redefined\n",
      "  108 | #define STM32F415xx\n",
      "      | \n",
      "<command-line>: note: this is the location of the previous definition\n"
     ]
    }
   ],
   "source": [
    "%%bash -s \"$PLATFORM\" \"$SS_VER\"\n",
    "cd ../tracesCapture/20230818_dilithuim_new_new\n",
    "make PLATFORM=$1 CRYPTO_TARGET=NONE SS_VER=$2"
   ]
  },
  {
   "cell_type": "code",
   "execution_count": 3,
   "id": "e0dd8b96",
   "metadata": {
    "scrolled": true
   },
   "outputs": [
    {
     "name": "stdout",
     "output_type": "stream",
     "text": [
      "Detected known STMF32: STM32F40xxx/41xxx\n",
      "Extended erase (0x44), this can take ten seconds or more\n",
      "Attempting to program 24627 bytes at 0x8000000\n",
      "STM32F Programming flash...\n",
      "STM32F Reading flash...\n",
      "Verified flash OK, 24627 bytes\n"
     ]
    }
   ],
   "source": [
    "cw.program_target(scope, prog, \"../tracesCapture/20230818_dilithuim_new_new/simple-test-{}.hex\".format(PLATFORM))"
   ]
  },
  {
   "cell_type": "code",
   "execution_count": 4,
   "id": "032d9605",
   "metadata": {},
   "outputs": [],
   "source": [
    "import ctypes\n",
    "import numpy as np\n",
    "from picosdk.ps5000a import ps5000a as ps\n",
    "import matplotlib.pyplot as plt\n",
    "from picosdk.functions import adc2mV, assert_pico_ok, mV2adc\n",
    "\n",
    "# Create chandle and status ready for use\n",
    "chandle = ctypes.c_int16()\n",
    "status = {}\n",
    "\n",
    "# Open 5000 series PicoScope\n",
    "# Resolution set to 12 Bit\n",
    "# 设置示波器的BIT，默认为12BIT\n",
    "resolution =ps.PS5000A_DEVICE_RESOLUTION[\"PS5000A_DR_12BIT\"]\n",
    "# Returns handle to chandle for use in future API functions\n",
    "status[\"openunit\"] = ps.ps5000aOpenUnit(ctypes.byref(chandle), None, resolution)\n",
    "\n",
    "try:\n",
    "    assert_pico_ok(status[\"openunit\"])\n",
    "except: # PicoNotOkError:\n",
    "    powerStatus = status[\"openunit\"]\n",
    "    if powerStatus == 286:\n",
    "        status[\"changePowerSource\"] = ps.ps5000aChangePowerSource(chandle, powerStatus)\n",
    "    elif powerStatus == 282:\n",
    "        status[\"changePowerSource\"] = ps.ps5000aChangePowerSource(chandle, powerStatus)\n",
    "    else:\n",
    "        raise\n",
    "    assert_pico_ok(status[\"changePowerSource\"])"
   ]
  },
  {
   "cell_type": "code",
   "execution_count": 5,
   "id": "79f7f6a3",
   "metadata": {},
   "outputs": [],
   "source": [
    "# Set up channel A\n",
    "# handle = chandle\n",
    "\n",
    "# 注意这里要改成直流电！\n",
    "channel = ps.PS5000A_CHANNEL[\"PS5000A_CHANNEL_A\"]\n",
    "# enabled = 1\n",
    "coupling_type = ps.PS5000A_COUPLING[\"PS5000A_DC\"]\n",
    "# 更改A通道（采集触发信号的通道）的范围\n",
    "chARange = ps.PS5000A_RANGE[\"PS5000A_20V\"]\n",
    "# analogue offset = 0 V\n",
    "status[\"setChA\"] = ps.ps5000aSetChannel(chandle, channel, 1, coupling_type, chARange, 0)\n",
    "assert_pico_ok(status[\"setChA\"])\n",
    "\n",
    "# Set up channel B\n",
    "# handle = chandle\n",
    "channel = ps.PS5000A_CHANNEL[\"PS5000A_CHANNEL_B\"]\n",
    "# enabled = 1\n",
    "\n",
    "# 注意这里要改成交流电！!!!!!!!!!!!!!!!!!!!!!!!!!!!!!!!!!!!!!!!\n",
    "coupling_type2 = ps.PS5000A_COUPLING[\"PS5000A_AC\"]\n",
    "#chBRange = ps.PS5000A_RANGE[\"PS5000A_2V\"]\n",
    "# 更改B通道（采出来数据的通道）的范围\n",
    "chBRange = ps.PS5000A_RANGE[\"PS5000A_200MV\"]\n",
    "# analogue offset = 0 V\n",
    "status[\"setChB\"] = ps.ps5000aSetChannel(chandle, channel, 1, coupling_type2, chBRange, 0)\n",
    "assert_pico_ok(status[\"setChB\"])\n",
    "\n",
    "# find maximum ADC count value\n",
    "# handle = chandle\n",
    "# pointer to value = ctypes.byref(maxADC)\n",
    "maxADC = ctypes.c_int16()\n",
    "status[\"maximumValue\"] = ps.ps5000aMaximumValue(chandle, ctypes.byref(maxADC))\n",
    "assert_pico_ok(status[\"maximumValue\"])\n",
    "\n",
    "# Set up single trigger\n",
    "# handle = chandle\n",
    "# enabled = 1\n",
    "source = ps.PS5000A_CHANNEL[\"PS5000A_CHANNEL_A\"]\n",
    "threshold = int(mV2adc(2500,chARange, maxADC))\n",
    "# direction = PS5000A_RISING = 2\n",
    "# delay = 0 s\n",
    "# auto Trigger = 1000 ms\n",
    "#status[\"trigger\"] = ps.ps5000aSetSimpleTrigger(chandle, 1, source, threshold, 2, 0, 1000)\n",
    "status[\"trigger\"] = ps.ps5000aSetSimpleTrigger(chandle, 1, source, threshold, 2, 0, 10000)\n",
    "\n",
    "assert_pico_ok(status[\"trigger\"])\n",
    "\n",
    "# Set number of pre and post trigger samples to be collected\n",
    "#####################参数###############################################\n",
    "# 在触发之前采集的数量\n",
    "preTriggerSamples = 0\n",
    "# 在触发之后采集的数量\n",
    "\n",
    "postTriggerSamples = 46000\n",
    "#####################################################################\n",
    "maxSamples = preTriggerSamples + postTriggerSamples\n",
    "\n",
    "# Get timebase information\n",
    "# Warning: When using this example it may not be possible to access all Timebases as all channels are enabled by default when opening the scope.  \n",
    "# To access these Timebases, set any unused analogue channels to off.\n",
    "# handle = chandle\n",
    "\n",
    "#####################参数#############################\n",
    "#timebase = 8\n",
    "# 通过timebase来控制采样率\n",
    "# 采样率的计算可以查手册，也可以用pico3000的那个控件来查看\n",
    "timebase = 10\n",
    "######################################################\n",
    "#timebase = 8  , 20.8 MHZ\n",
    "# noSamples = maxSamples\n",
    "# pointer to timeIntervalNanoseconds = ctypes.byref(timeIntervalns)\n",
    "# pointer to maxSamples = ctypes.byref(returnedMaxSamples)\n",
    "# segment index = 0\n",
    "timeIntervalns = ctypes.c_float()\n",
    "returnedMaxSamples = ctypes.c_int32()\n",
    "status[\"getTimebase2\"] = ps.ps5000aGetTimebase2(chandle, timebase, maxSamples, ctypes.byref(timeIntervalns), ctypes.byref(returnedMaxSamples), 0)\n",
    "assert_pico_ok(status[\"getTimebase2\"])"
   ]
  },
  {
   "cell_type": "code",
   "execution_count": 6,
   "id": "c59cc4ef",
   "metadata": {},
   "outputs": [],
   "source": [
    "%matplotlib notebook\n",
    "import matplotlib.pylab as plt"
   ]
  },
  {
   "cell_type": "code",
   "execution_count": 7,
   "id": "f7b40c9e",
   "metadata": {},
   "outputs": [],
   "source": [
    "import random"
   ]
  },
  {
   "cell_type": "code",
   "execution_count": 8,
   "id": "43feb0c9",
   "metadata": {},
   "outputs": [],
   "source": [
    "def convert_msg(m,length):\n",
    "    res = []\n",
    "    for j in range(0,length): \n",
    "        s = m[j*2:j*2+2]\n",
    "        s = \"0x\" + s\n",
    "        res.append(int(s,16))\n",
    "        #print(s,end=',')\n",
    "    \n",
    "    return res"
   ]
  },
  {
   "cell_type": "code",
   "execution_count": null,
   "id": "d4fece31",
   "metadata": {
    "scrolled": true
   },
   "outputs": [],
   "source": [
    "convert_msg(\"225d5ce2ceac61930a07503fb59f7c2f936a3e075481da3ca299a80f8c5df9223a\", 33)\n"
   ]
  },
  {
   "cell_type": "code",
   "execution_count": null,
   "id": "c3c9360d",
   "metadata": {},
   "outputs": [],
   "source": [
    "下面是攻击集部分"
   ]
  },
  {
   "cell_type": "code",
   "execution_count": 42,
   "id": "771e22aa",
   "metadata": {
    "scrolled": false
   },
   "outputs": [
    {
     "data": {
      "application/vnd.jupyter.widget-view+json": {
       "model_id": "e9ae608885eb48178482500b071da0d7",
       "version_major": 2,
       "version_minor": 0
      },
      "text/plain": [
       "  0%|          | 0/700 [00:00<?, ?it/s]"
      ]
     },
     "metadata": {},
     "output_type": "display_data"
    },
    {
     "name": "stderr",
     "output_type": "stream",
     "text": [
      "D:\\ChipWhisperer5_64\\cw\\home\\portable\\WPy64-3771\\python-3.7.7.amd64\\lib\\site-packages\\ipykernel_launcher.py:29: TqdmDeprecationWarning: Please use `tqdm.notebook.trange` instead of `tqdm.tnrange`\n"
     ]
    },
    {
     "data": {
      "application/vnd.jupyter.widget-view+json": {
       "model_id": "8bb9729f2aab4122986045ebeebe6677",
       "version_major": 2,
       "version_minor": 0
      },
      "text/plain": [
       "  0%|          | 0/700 [00:00<?, ?it/s]"
      ]
     },
     "metadata": {},
     "output_type": "display_data"
    }
   ],
   "source": [
    "from tqdm import tnrange\n",
    "from tqdm.auto import tqdm\n",
    "import gc\n",
    "################这里是参数部分，可以修改##############################\n",
    "traces_per_part = 700  # 每一块文件多少条曲线\n",
    "part = 1  # 分成多少块文件\n",
    "BATCH = 9\n",
    "part_start_index = 0  # 序号从多少块开始。如果是初始采集，就设置为0\n",
    "\n",
    "#################################################################\n",
    "filename_of_traces = \"F:/dilithium采集-比赛用/攻击集/第{0}组_new/traces_batch{0}\".format(BATCH)\t# 曲线文件的文件名前缀\n",
    "infile = open(\"F:/dilithium采集-比赛用/攻击集/第{0}组_new/meta_data_new_batch{0}_700.txt\".format(BATCH))\n",
    "MLEN = 33\n",
    "SEEDBYTES = 32\n",
    "rhoprime_len = 48\n",
    "global_counter = 0\n",
    "total_traces = part * traces_per_part  # 总共要采集的曲线数目\n",
    "pbar = tqdm(total=total_traces)\n",
    "L = 4\n",
    "\n",
    "\n",
    "def mainProcess(num_of_traces, myfile):\n",
    "\n",
    "    traces_array = np.empty(shape=(traces_per_part,maxSamples),dtype=np.float64)\n",
    "    text_in_array = np.empty(shape=(traces_per_part,33),dtype=np.uint8)\n",
    "    text_out_array = np.empty(shape=(traces_per_part,1),dtype=np.uint8)\n",
    "    \n",
    "\n",
    "    for index_i in tnrange(num_of_traces):\n",
    "        reset_target(scope)\n",
    "        global global_counter\n",
    "        global pbar\n",
    "        msg_input = []\n",
    "\n",
    "        line = infile.readline()\n",
    "        while(line.find('counter=') == -1):\n",
    "            line = infile.readline()\n",
    "            \n",
    "        counter  = line\n",
    "\n",
    "        line = infile.readline()\n",
    "        line = infile.readline()\n",
    "        \n",
    "        index_rhoprime = line.find('rhoprime=') + 9\n",
    "        \n",
    "\n",
    "        msg_input += convert_msg(line[index_rhoprime:index_rhoprime+rhoprime_len*2], rhoprime_len)\n",
    "\n",
    "        line = infile.readline()\n",
    "\n",
    "        \n",
    "        nonce_index = line.find('nonce=') + 6\n",
    "        nonce = int(line[nonce_index:nonce_index+4],16)\n",
    "        nonce = (nonce - 1) * L\n",
    "        line = infile.readline()\n",
    "        mark_index_st = line.find('mark_index=') + 11\n",
    "        mark_index = int(line[mark_index_st:mark_index_st+1])\n",
    "\n",
    "        \n",
    "        nonce += int(mark_index)\n",
    "        \n",
    "        #nonce 是uint16 需小端序输入\n",
    "        nonce_bytes = nonce.to_bytes(2, 'little')\n",
    "       \n",
    "        msg_input += [int(nonce_bytes[0])]\n",
    "        msg_input += [int(nonce_bytes[1])]\n",
    "\n",
    "\n",
    "        \n",
    "        line = infile.readline()\n",
    "        r_f4bytes_st = line.find('r_f4bytes') + 13\n",
    "        r_f4bytes = line[r_f4bytes_st:-1]\n",
    "        r_f4bytes = list(convert_msg(r_f4bytes,16))\n",
    "\n",
    "        line = infile.readline()\n",
    "        r_l4bytes_st = line.find('r_l4bytes') + 13\n",
    "        r_l4bytes = line[r_l4bytes_st:-1]\n",
    "        r_l4bytes = list(convert_msg(r_l4bytes,16))\n",
    "\n",
    "        \n",
    "        global_counter += 1\n",
    "\n",
    "        target.simpleserial_write('z', bytearray(msg_input))\n",
    "        time.sleep(0.01)\n",
    "        \n",
    "        status[\"runBlock\"] = ps.ps5000aRunBlock(chandle, preTriggerSamples, postTriggerSamples, timebase, None, 0, None, None)\n",
    "        assert_pico_ok(status[\"runBlock\"])\n",
    "        \n",
    "        ready = ctypes.c_int16(0)\n",
    "        check = ctypes.c_int16(0)\n",
    "        while ready.value == check.value:\n",
    "            status[\"isReady\"] = ps.ps5000aIsReady(chandle, ctypes.byref(ready))\n",
    "        bufferAMax = (ctypes.c_int16 * maxSamples)()\n",
    "        bufferAMin = (ctypes.c_int16 * maxSamples)() \n",
    "        bufferBMax = (ctypes.c_int16 * maxSamples)()\n",
    "        bufferBMin = (ctypes.c_int16 * maxSamples)()\n",
    "        source = ps.PS5000A_CHANNEL[\"PS5000A_CHANNEL_A\"]\n",
    "        status[\"setDataBuffersA\"] = ps.ps5000aSetDataBuffers(chandle, source, ctypes.byref(bufferAMax), ctypes.byref(bufferAMin), maxSamples, 0, 0)\n",
    "        assert_pico_ok(status[\"setDataBuffersA\"])\n",
    "        source = ps.PS5000A_CHANNEL[\"PS5000A_CHANNEL_B\"]\n",
    "        status[\"setDataBuffersB\"] = ps.ps5000aSetDataBuffers(chandle, source, ctypes.byref(bufferBMax), ctypes.byref(bufferBMin), maxSamples, 0, 0)\n",
    "        assert_pico_ok(status[\"setDataBuffersB\"])\n",
    "        overflow = ctypes.c_int16()\n",
    "        cmaxSamples = ctypes.c_int32(maxSamples)\n",
    "        \n",
    "        \n",
    "        status[\"getValues\"] = ps.ps5000aGetValues(chandle, 0, ctypes.byref(cmaxSamples), 0, 0, 0, ctypes.byref(overflow))\n",
    "        assert_pico_ok(status[\"getValues\"])\n",
    "        adc2mVChAMax =  adc2mV(bufferAMax, chARange, maxADC)\n",
    "        adc2mVChBMax =  adc2mV(bufferBMax, chBRange, maxADC)\n",
    "        # ❗❗❗❗❗❗❗❗❗❗❗❗❗❗❗❗❗❗❗❗❗❗❗❗❗❗❗❗❗❗❗❗\n",
    "        # 正式采集之前，先采集一条曲线的触发信号，并画图观察触发的上升沿和下降沿是否全部捕捉到，若看不到下降沿，则尝试增大postTriggerSamples\n",
    "        #plt.plot(adc2mVChAMax[:])\t# 画图观察触发信号是否正常\n",
    "        #plt.plot(adc2mVChBMax[:])\t# 画图观察数据信号\n",
    "        if adc2mVChBMax[0] == 32512 and adc2mVChBMax[-1] == 32512:\n",
    "            raise Exception('示波器采集错误，请重新采集')\n",
    "        #time.sleep(0.01)\n",
    "        recv_msg = list(target.simpleserial_read('r', 32))\n",
    "        for i in range(16):\n",
    "            assert r_f4bytes[i] == recv_msg[i]\n",
    "            assert r_l4bytes[i] == recv_msg[i+16]\n",
    "            \n",
    "\n",
    "        traces_array[index_i] = np.array(adc2mVChBMax[:])\n",
    "\n",
    "\n",
    "                \n",
    "        \n",
    "        \n",
    "        global_counter += 1\n",
    "        pbar.update(1)\n",
    "    return traces_array, text_in_array, text_out_array\n",
    "\n",
    "\n",
    "# 先找到和part_start_index对应的counter\n",
    "while(global_counter != traces_per_part * part_start_index):\n",
    "    line = infile.readline()   \n",
    "    if(line.find('counter=')!= -1):\n",
    "        global_counter += 1\n",
    "\n",
    "\n",
    "#print(\"here\",global_counter )\n",
    "for p in range(part):  # 遍历所有的part\n",
    "    traces_arr, text_in_arr, text_out_arr = mainProcess(traces_per_part, infile)\n",
    "    np.save(filename_of_traces + \"_part{0}.npy\".format(p + part_start_index), traces_arr)\n",
    "    #np.save(filename_of_traces + \"_textinPart{0}.npy\".format(p + part_start_index), text_in_arr)\n",
    "    #np.save(filename_of_traces + \"_textoutPart{0}.npy\".format(p + part_start_index), text_out_arr)\n",
    "    del traces_arr\n",
    "    del text_in_arr\n",
    "    del text_out_arr\n",
    "    gc.collect()\n",
    "pbar.close()\n",
    "infile.close()"
   ]
  },
  {
   "cell_type": "code",
   "execution_count": 115,
   "id": "4f7a08c3",
   "metadata": {},
   "outputs": [],
   "source": [
    "下面是profiling"
   ]
  },
  {
   "cell_type": "code",
   "execution_count": 32,
   "id": "ef942ef8",
   "metadata": {},
   "outputs": [
    {
     "data": {
      "application/vnd.jupyter.widget-view+json": {
       "model_id": "de90ecdf7fe24249b89f52903d1d1174",
       "version_major": 2,
       "version_minor": 0
      },
      "text/plain": [
       "  0%|          | 0/40000 [00:00<?, ?it/s]"
      ]
     },
     "metadata": {},
     "output_type": "display_data"
    },
    {
     "name": "stderr",
     "output_type": "stream",
     "text": [
      "D:\\ChipWhisperer5_64\\cw\\home\\portable\\WPy64-3771\\python-3.7.7.amd64\\lib\\site-packages\\ipykernel_launcher.py:29: TqdmDeprecationWarning: Please use `tqdm.notebook.trange` instead of `tqdm.tnrange`\n"
     ]
    },
    {
     "data": {
      "application/vnd.jupyter.widget-view+json": {
       "model_id": "d2eb9695a03a4603925a130691cf37c0",
       "version_major": 2,
       "version_minor": 0
      },
      "text/plain": [
       "  0%|          | 0/500 [00:00<?, ?it/s]"
      ]
     },
     "metadata": {},
     "output_type": "display_data"
    },
    {
     "data": {
      "application/vnd.jupyter.widget-view+json": {
       "model_id": "d4ebb16206ad47b7b4c41d1170aa5bd9",
       "version_major": 2,
       "version_minor": 0
      },
      "text/plain": [
       "  0%|          | 0/500 [00:00<?, ?it/s]"
      ]
     },
     "metadata": {},
     "output_type": "display_data"
    },
    {
     "data": {
      "application/vnd.jupyter.widget-view+json": {
       "model_id": "972f89cf250d43d3aa1eab363fa85de5",
       "version_major": 2,
       "version_minor": 0
      },
      "text/plain": [
       "  0%|          | 0/500 [00:00<?, ?it/s]"
      ]
     },
     "metadata": {},
     "output_type": "display_data"
    },
    {
     "data": {
      "application/vnd.jupyter.widget-view+json": {
       "model_id": "aec504dca1f442be88203480437515de",
       "version_major": 2,
       "version_minor": 0
      },
      "text/plain": [
       "  0%|          | 0/500 [00:00<?, ?it/s]"
      ]
     },
     "metadata": {},
     "output_type": "display_data"
    },
    {
     "data": {
      "application/vnd.jupyter.widget-view+json": {
       "model_id": "627c1788b33841128b75555b4afcf287",
       "version_major": 2,
       "version_minor": 0
      },
      "text/plain": [
       "  0%|          | 0/500 [00:00<?, ?it/s]"
      ]
     },
     "metadata": {},
     "output_type": "display_data"
    },
    {
     "data": {
      "application/vnd.jupyter.widget-view+json": {
       "model_id": "39ab23b99a5149d6b5d55beaf8c175cc",
       "version_major": 2,
       "version_minor": 0
      },
      "text/plain": [
       "  0%|          | 0/500 [00:00<?, ?it/s]"
      ]
     },
     "metadata": {},
     "output_type": "display_data"
    },
    {
     "data": {
      "application/vnd.jupyter.widget-view+json": {
       "model_id": "26c655bf72224d39a381d4e310458e26",
       "version_major": 2,
       "version_minor": 0
      },
      "text/plain": [
       "  0%|          | 0/500 [00:00<?, ?it/s]"
      ]
     },
     "metadata": {},
     "output_type": "display_data"
    },
    {
     "data": {
      "application/vnd.jupyter.widget-view+json": {
       "model_id": "d2264988e6eb4f62afa2bc1e39caca96",
       "version_major": 2,
       "version_minor": 0
      },
      "text/plain": [
       "  0%|          | 0/500 [00:00<?, ?it/s]"
      ]
     },
     "metadata": {},
     "output_type": "display_data"
    },
    {
     "data": {
      "application/vnd.jupyter.widget-view+json": {
       "model_id": "c96f9cdcb11b4a33bb9c5b2b9cc89324",
       "version_major": 2,
       "version_minor": 0
      },
      "text/plain": [
       "  0%|          | 0/500 [00:00<?, ?it/s]"
      ]
     },
     "metadata": {},
     "output_type": "display_data"
    },
    {
     "data": {
      "application/vnd.jupyter.widget-view+json": {
       "model_id": "f90f8105f1ce4e1798740fa44b43ea68",
       "version_major": 2,
       "version_minor": 0
      },
      "text/plain": [
       "  0%|          | 0/500 [00:00<?, ?it/s]"
      ]
     },
     "metadata": {},
     "output_type": "display_data"
    },
    {
     "data": {
      "application/vnd.jupyter.widget-view+json": {
       "model_id": "68ca722a881a4bf18197dbf5551769d8",
       "version_major": 2,
       "version_minor": 0
      },
      "text/plain": [
       "  0%|          | 0/500 [00:00<?, ?it/s]"
      ]
     },
     "metadata": {},
     "output_type": "display_data"
    },
    {
     "data": {
      "application/vnd.jupyter.widget-view+json": {
       "model_id": "0849cc87d1a94c7593cf9f60b550d50f",
       "version_major": 2,
       "version_minor": 0
      },
      "text/plain": [
       "  0%|          | 0/500 [00:00<?, ?it/s]"
      ]
     },
     "metadata": {},
     "output_type": "display_data"
    },
    {
     "data": {
      "application/vnd.jupyter.widget-view+json": {
       "model_id": "3ddf5de2f25e42cb88101a09589866fc",
       "version_major": 2,
       "version_minor": 0
      },
      "text/plain": [
       "  0%|          | 0/500 [00:00<?, ?it/s]"
      ]
     },
     "metadata": {},
     "output_type": "display_data"
    },
    {
     "data": {
      "application/vnd.jupyter.widget-view+json": {
       "model_id": "cd73cacada5b4f1bbb205f50a79cd8e7",
       "version_major": 2,
       "version_minor": 0
      },
      "text/plain": [
       "  0%|          | 0/500 [00:00<?, ?it/s]"
      ]
     },
     "metadata": {},
     "output_type": "display_data"
    },
    {
     "data": {
      "application/vnd.jupyter.widget-view+json": {
       "model_id": "4bdaa492754146b69ed5b3b0e0fb975f",
       "version_major": 2,
       "version_minor": 0
      },
      "text/plain": [
       "  0%|          | 0/500 [00:00<?, ?it/s]"
      ]
     },
     "metadata": {},
     "output_type": "display_data"
    },
    {
     "data": {
      "application/vnd.jupyter.widget-view+json": {
       "model_id": "1e778af3691a4cea83bfe0836c8f75f5",
       "version_major": 2,
       "version_minor": 0
      },
      "text/plain": [
       "  0%|          | 0/500 [00:00<?, ?it/s]"
      ]
     },
     "metadata": {},
     "output_type": "display_data"
    },
    {
     "data": {
      "application/vnd.jupyter.widget-view+json": {
       "model_id": "2e420780880e466f8239c829847779a8",
       "version_major": 2,
       "version_minor": 0
      },
      "text/plain": [
       "  0%|          | 0/500 [00:00<?, ?it/s]"
      ]
     },
     "metadata": {},
     "output_type": "display_data"
    },
    {
     "data": {
      "application/vnd.jupyter.widget-view+json": {
       "model_id": "29a2a09b2a0b4e2abda43266079d0ec6",
       "version_major": 2,
       "version_minor": 0
      },
      "text/plain": [
       "  0%|          | 0/500 [00:00<?, ?it/s]"
      ]
     },
     "metadata": {},
     "output_type": "display_data"
    },
    {
     "data": {
      "application/vnd.jupyter.widget-view+json": {
       "model_id": "d293d11daada46449578216773c80437",
       "version_major": 2,
       "version_minor": 0
      },
      "text/plain": [
       "  0%|          | 0/500 [00:00<?, ?it/s]"
      ]
     },
     "metadata": {},
     "output_type": "display_data"
    },
    {
     "data": {
      "application/vnd.jupyter.widget-view+json": {
       "model_id": "985424ef818a40f19464cb283e5b250c",
       "version_major": 2,
       "version_minor": 0
      },
      "text/plain": [
       "  0%|          | 0/500 [00:00<?, ?it/s]"
      ]
     },
     "metadata": {},
     "output_type": "display_data"
    },
    {
     "data": {
      "application/vnd.jupyter.widget-view+json": {
       "model_id": "42afe74ccf644327af309228820f386f",
       "version_major": 2,
       "version_minor": 0
      },
      "text/plain": [
       "  0%|          | 0/500 [00:00<?, ?it/s]"
      ]
     },
     "metadata": {},
     "output_type": "display_data"
    },
    {
     "data": {
      "application/vnd.jupyter.widget-view+json": {
       "model_id": "93c16ced0d5640f0835655edf2f773bf",
       "version_major": 2,
       "version_minor": 0
      },
      "text/plain": [
       "  0%|          | 0/500 [00:00<?, ?it/s]"
      ]
     },
     "metadata": {},
     "output_type": "display_data"
    },
    {
     "data": {
      "application/vnd.jupyter.widget-view+json": {
       "model_id": "da237d02a0ba45bfaef3d81a190fb190",
       "version_major": 2,
       "version_minor": 0
      },
      "text/plain": [
       "  0%|          | 0/500 [00:00<?, ?it/s]"
      ]
     },
     "metadata": {},
     "output_type": "display_data"
    },
    {
     "data": {
      "application/vnd.jupyter.widget-view+json": {
       "model_id": "39e3278700d34489860649a6f5403695",
       "version_major": 2,
       "version_minor": 0
      },
      "text/plain": [
       "  0%|          | 0/500 [00:00<?, ?it/s]"
      ]
     },
     "metadata": {},
     "output_type": "display_data"
    },
    {
     "data": {
      "application/vnd.jupyter.widget-view+json": {
       "model_id": "3f58708b0e5d4c8eb172e7e8d81f4f1e",
       "version_major": 2,
       "version_minor": 0
      },
      "text/plain": [
       "  0%|          | 0/500 [00:00<?, ?it/s]"
      ]
     },
     "metadata": {},
     "output_type": "display_data"
    },
    {
     "data": {
      "application/vnd.jupyter.widget-view+json": {
       "model_id": "22aaae94b865486db01ca1f0b0bbee27",
       "version_major": 2,
       "version_minor": 0
      },
      "text/plain": [
       "  0%|          | 0/500 [00:00<?, ?it/s]"
      ]
     },
     "metadata": {},
     "output_type": "display_data"
    },
    {
     "data": {
      "application/vnd.jupyter.widget-view+json": {
       "model_id": "41ee7229a758447a8f6d8c7eece08e4a",
       "version_major": 2,
       "version_minor": 0
      },
      "text/plain": [
       "  0%|          | 0/500 [00:00<?, ?it/s]"
      ]
     },
     "metadata": {},
     "output_type": "display_data"
    },
    {
     "data": {
      "application/vnd.jupyter.widget-view+json": {
       "model_id": "ae8bedf9d1c54e0e88016e00b215adf0",
       "version_major": 2,
       "version_minor": 0
      },
      "text/plain": [
       "  0%|          | 0/500 [00:00<?, ?it/s]"
      ]
     },
     "metadata": {},
     "output_type": "display_data"
    },
    {
     "data": {
      "application/vnd.jupyter.widget-view+json": {
       "model_id": "be55abaa8474453ebb5f6f9a84f3f149",
       "version_major": 2,
       "version_minor": 0
      },
      "text/plain": [
       "  0%|          | 0/500 [00:00<?, ?it/s]"
      ]
     },
     "metadata": {},
     "output_type": "display_data"
    },
    {
     "data": {
      "application/vnd.jupyter.widget-view+json": {
       "model_id": "c2b4359b97e84d32b04e4245bb26c91e",
       "version_major": 2,
       "version_minor": 0
      },
      "text/plain": [
       "  0%|          | 0/500 [00:00<?, ?it/s]"
      ]
     },
     "metadata": {},
     "output_type": "display_data"
    },
    {
     "data": {
      "application/vnd.jupyter.widget-view+json": {
       "model_id": "5a4806731b8f49f4be79f4905b77d589",
       "version_major": 2,
       "version_minor": 0
      },
      "text/plain": [
       "  0%|          | 0/500 [00:00<?, ?it/s]"
      ]
     },
     "metadata": {},
     "output_type": "display_data"
    },
    {
     "data": {
      "application/vnd.jupyter.widget-view+json": {
       "model_id": "ebffb9fa6ce74b1abb2f03597e73bd22",
       "version_major": 2,
       "version_minor": 0
      },
      "text/plain": [
       "  0%|          | 0/500 [00:00<?, ?it/s]"
      ]
     },
     "metadata": {},
     "output_type": "display_data"
    },
    {
     "data": {
      "application/vnd.jupyter.widget-view+json": {
       "model_id": "e789eee0a5e740b4b1a7222bca551d3a",
       "version_major": 2,
       "version_minor": 0
      },
      "text/plain": [
       "  0%|          | 0/500 [00:00<?, ?it/s]"
      ]
     },
     "metadata": {},
     "output_type": "display_data"
    },
    {
     "data": {
      "application/vnd.jupyter.widget-view+json": {
       "model_id": "94cdaa1930fb41dcad1e7a69a4dfe641",
       "version_major": 2,
       "version_minor": 0
      },
      "text/plain": [
       "  0%|          | 0/500 [00:00<?, ?it/s]"
      ]
     },
     "metadata": {},
     "output_type": "display_data"
    },
    {
     "data": {
      "application/vnd.jupyter.widget-view+json": {
       "model_id": "0ad5c01da5a442d39d896116fc20a544",
       "version_major": 2,
       "version_minor": 0
      },
      "text/plain": [
       "  0%|          | 0/500 [00:00<?, ?it/s]"
      ]
     },
     "metadata": {},
     "output_type": "display_data"
    },
    {
     "data": {
      "application/vnd.jupyter.widget-view+json": {
       "model_id": "393426ec71a74e75b7fcd9aa8d0752d1",
       "version_major": 2,
       "version_minor": 0
      },
      "text/plain": [
       "  0%|          | 0/500 [00:00<?, ?it/s]"
      ]
     },
     "metadata": {},
     "output_type": "display_data"
    },
    {
     "data": {
      "application/vnd.jupyter.widget-view+json": {
       "model_id": "06ab8357b69d444cbd30f4dfb8d74692",
       "version_major": 2,
       "version_minor": 0
      },
      "text/plain": [
       "  0%|          | 0/500 [00:00<?, ?it/s]"
      ]
     },
     "metadata": {},
     "output_type": "display_data"
    },
    {
     "data": {
      "application/vnd.jupyter.widget-view+json": {
       "model_id": "11d502afb9114d49ad5220773ba3da46",
       "version_major": 2,
       "version_minor": 0
      },
      "text/plain": [
       "  0%|          | 0/500 [00:00<?, ?it/s]"
      ]
     },
     "metadata": {},
     "output_type": "display_data"
    },
    {
     "data": {
      "application/vnd.jupyter.widget-view+json": {
       "model_id": "b39f8d4b246c49c0919e421792a4990b",
       "version_major": 2,
       "version_minor": 0
      },
      "text/plain": [
       "  0%|          | 0/500 [00:00<?, ?it/s]"
      ]
     },
     "metadata": {},
     "output_type": "display_data"
    },
    {
     "data": {
      "application/vnd.jupyter.widget-view+json": {
       "model_id": "98f257f2ebaf4e4db1eafb866d6b65b2",
       "version_major": 2,
       "version_minor": 0
      },
      "text/plain": [
       "  0%|          | 0/500 [00:00<?, ?it/s]"
      ]
     },
     "metadata": {},
     "output_type": "display_data"
    },
    {
     "data": {
      "application/vnd.jupyter.widget-view+json": {
       "model_id": "102ea452e7ca47049e8176386f5ef47f",
       "version_major": 2,
       "version_minor": 0
      },
      "text/plain": [
       "  0%|          | 0/500 [00:00<?, ?it/s]"
      ]
     },
     "metadata": {},
     "output_type": "display_data"
    },
    {
     "data": {
      "application/vnd.jupyter.widget-view+json": {
       "model_id": "edd4cdb441c2408f8a659e339d4057ad",
       "version_major": 2,
       "version_minor": 0
      },
      "text/plain": [
       "  0%|          | 0/500 [00:00<?, ?it/s]"
      ]
     },
     "metadata": {},
     "output_type": "display_data"
    },
    {
     "data": {
      "application/vnd.jupyter.widget-view+json": {
       "model_id": "240a2a2ea80b497d81036ab691566dd2",
       "version_major": 2,
       "version_minor": 0
      },
      "text/plain": [
       "  0%|          | 0/500 [00:00<?, ?it/s]"
      ]
     },
     "metadata": {},
     "output_type": "display_data"
    },
    {
     "data": {
      "application/vnd.jupyter.widget-view+json": {
       "model_id": "0adb02064adc4b498452be29cf9c0cfe",
       "version_major": 2,
       "version_minor": 0
      },
      "text/plain": [
       "  0%|          | 0/500 [00:00<?, ?it/s]"
      ]
     },
     "metadata": {},
     "output_type": "display_data"
    },
    {
     "data": {
      "application/vnd.jupyter.widget-view+json": {
       "model_id": "d883789a767747aa87bef48dcc7bc286",
       "version_major": 2,
       "version_minor": 0
      },
      "text/plain": [
       "  0%|          | 0/500 [00:00<?, ?it/s]"
      ]
     },
     "metadata": {},
     "output_type": "display_data"
    },
    {
     "data": {
      "application/vnd.jupyter.widget-view+json": {
       "model_id": "2323533db47e44d7b1e1203afe309ef6",
       "version_major": 2,
       "version_minor": 0
      },
      "text/plain": [
       "  0%|          | 0/500 [00:00<?, ?it/s]"
      ]
     },
     "metadata": {},
     "output_type": "display_data"
    },
    {
     "data": {
      "application/vnd.jupyter.widget-view+json": {
       "model_id": "1878146d8f094491aed57b90ef803922",
       "version_major": 2,
       "version_minor": 0
      },
      "text/plain": [
       "  0%|          | 0/500 [00:00<?, ?it/s]"
      ]
     },
     "metadata": {},
     "output_type": "display_data"
    },
    {
     "data": {
      "application/vnd.jupyter.widget-view+json": {
       "model_id": "b01c1f5e7c244f29a0b1b8564854500f",
       "version_major": 2,
       "version_minor": 0
      },
      "text/plain": [
       "  0%|          | 0/500 [00:00<?, ?it/s]"
      ]
     },
     "metadata": {},
     "output_type": "display_data"
    },
    {
     "data": {
      "application/vnd.jupyter.widget-view+json": {
       "model_id": "a9a61e4f37614322a5cf7d513ac95c50",
       "version_major": 2,
       "version_minor": 0
      },
      "text/plain": [
       "  0%|          | 0/500 [00:00<?, ?it/s]"
      ]
     },
     "metadata": {},
     "output_type": "display_data"
    },
    {
     "data": {
      "application/vnd.jupyter.widget-view+json": {
       "model_id": "bfe82effd7a34548b879eca587b7ace0",
       "version_major": 2,
       "version_minor": 0
      },
      "text/plain": [
       "  0%|          | 0/500 [00:00<?, ?it/s]"
      ]
     },
     "metadata": {},
     "output_type": "display_data"
    },
    {
     "data": {
      "application/vnd.jupyter.widget-view+json": {
       "model_id": "80443e6f3719442486c2e534c7da52f8",
       "version_major": 2,
       "version_minor": 0
      },
      "text/plain": [
       "  0%|          | 0/500 [00:00<?, ?it/s]"
      ]
     },
     "metadata": {},
     "output_type": "display_data"
    },
    {
     "data": {
      "application/vnd.jupyter.widget-view+json": {
       "model_id": "dc16156504304387b91973441077ed86",
       "version_major": 2,
       "version_minor": 0
      },
      "text/plain": [
       "  0%|          | 0/500 [00:00<?, ?it/s]"
      ]
     },
     "metadata": {},
     "output_type": "display_data"
    },
    {
     "data": {
      "application/vnd.jupyter.widget-view+json": {
       "model_id": "98de0c6834c0464eaab070d45160ed14",
       "version_major": 2,
       "version_minor": 0
      },
      "text/plain": [
       "  0%|          | 0/500 [00:00<?, ?it/s]"
      ]
     },
     "metadata": {},
     "output_type": "display_data"
    },
    {
     "data": {
      "application/vnd.jupyter.widget-view+json": {
       "model_id": "8431cd4e39984e9583c5efcbd84c12e6",
       "version_major": 2,
       "version_minor": 0
      },
      "text/plain": [
       "  0%|          | 0/500 [00:00<?, ?it/s]"
      ]
     },
     "metadata": {},
     "output_type": "display_data"
    },
    {
     "data": {
      "application/vnd.jupyter.widget-view+json": {
       "model_id": "964f311f4d904e6eadea521455edda14",
       "version_major": 2,
       "version_minor": 0
      },
      "text/plain": [
       "  0%|          | 0/500 [00:00<?, ?it/s]"
      ]
     },
     "metadata": {},
     "output_type": "display_data"
    },
    {
     "data": {
      "application/vnd.jupyter.widget-view+json": {
       "model_id": "60e6864b0a924b4aaa7e6c9baf425440",
       "version_major": 2,
       "version_minor": 0
      },
      "text/plain": [
       "  0%|          | 0/500 [00:00<?, ?it/s]"
      ]
     },
     "metadata": {},
     "output_type": "display_data"
    },
    {
     "data": {
      "application/vnd.jupyter.widget-view+json": {
       "model_id": "451f51cb09b548629c793905b8f7b3e5",
       "version_major": 2,
       "version_minor": 0
      },
      "text/plain": [
       "  0%|          | 0/500 [00:00<?, ?it/s]"
      ]
     },
     "metadata": {},
     "output_type": "display_data"
    },
    {
     "data": {
      "application/vnd.jupyter.widget-view+json": {
       "model_id": "0e2becd3021e4aabba78bcb3172b889a",
       "version_major": 2,
       "version_minor": 0
      },
      "text/plain": [
       "  0%|          | 0/500 [00:00<?, ?it/s]"
      ]
     },
     "metadata": {},
     "output_type": "display_data"
    },
    {
     "data": {
      "application/vnd.jupyter.widget-view+json": {
       "model_id": "02039b3f12da4a71b11cc2e9e8d1caa1",
       "version_major": 2,
       "version_minor": 0
      },
      "text/plain": [
       "  0%|          | 0/500 [00:00<?, ?it/s]"
      ]
     },
     "metadata": {},
     "output_type": "display_data"
    },
    {
     "data": {
      "application/vnd.jupyter.widget-view+json": {
       "model_id": "7d2387ff980a4652aaf1220e05d0db5c",
       "version_major": 2,
       "version_minor": 0
      },
      "text/plain": [
       "  0%|          | 0/500 [00:00<?, ?it/s]"
      ]
     },
     "metadata": {},
     "output_type": "display_data"
    },
    {
     "data": {
      "application/vnd.jupyter.widget-view+json": {
       "model_id": "31ca2e8f5a5a4a02b374330e0095c310",
       "version_major": 2,
       "version_minor": 0
      },
      "text/plain": [
       "  0%|          | 0/500 [00:00<?, ?it/s]"
      ]
     },
     "metadata": {},
     "output_type": "display_data"
    },
    {
     "data": {
      "application/vnd.jupyter.widget-view+json": {
       "model_id": "48d68b75c869477f9b93b90909380a2e",
       "version_major": 2,
       "version_minor": 0
      },
      "text/plain": [
       "  0%|          | 0/500 [00:00<?, ?it/s]"
      ]
     },
     "metadata": {},
     "output_type": "display_data"
    },
    {
     "data": {
      "application/vnd.jupyter.widget-view+json": {
       "model_id": "461a589d4ddc4e5f8597cc07a8859adc",
       "version_major": 2,
       "version_minor": 0
      },
      "text/plain": [
       "  0%|          | 0/500 [00:00<?, ?it/s]"
      ]
     },
     "metadata": {},
     "output_type": "display_data"
    },
    {
     "data": {
      "application/vnd.jupyter.widget-view+json": {
       "model_id": "0f83039e5b484322a7a57fff5da9f3f8",
       "version_major": 2,
       "version_minor": 0
      },
      "text/plain": [
       "  0%|          | 0/500 [00:00<?, ?it/s]"
      ]
     },
     "metadata": {},
     "output_type": "display_data"
    },
    {
     "data": {
      "application/vnd.jupyter.widget-view+json": {
       "model_id": "842bc726560f4205a8922a3834edab85",
       "version_major": 2,
       "version_minor": 0
      },
      "text/plain": [
       "  0%|          | 0/500 [00:00<?, ?it/s]"
      ]
     },
     "metadata": {},
     "output_type": "display_data"
    },
    {
     "data": {
      "application/vnd.jupyter.widget-view+json": {
       "model_id": "e0ace2024a454e9a9e3adfaea87b12b5",
       "version_major": 2,
       "version_minor": 0
      },
      "text/plain": [
       "  0%|          | 0/500 [00:00<?, ?it/s]"
      ]
     },
     "metadata": {},
     "output_type": "display_data"
    },
    {
     "data": {
      "application/vnd.jupyter.widget-view+json": {
       "model_id": "113bcd144ad74dcca32499cbe59660c3",
       "version_major": 2,
       "version_minor": 0
      },
      "text/plain": [
       "  0%|          | 0/500 [00:00<?, ?it/s]"
      ]
     },
     "metadata": {},
     "output_type": "display_data"
    },
    {
     "data": {
      "application/vnd.jupyter.widget-view+json": {
       "model_id": "b28b5fb19f604006860834e4dbc950f1",
       "version_major": 2,
       "version_minor": 0
      },
      "text/plain": [
       "  0%|          | 0/500 [00:00<?, ?it/s]"
      ]
     },
     "metadata": {},
     "output_type": "display_data"
    },
    {
     "data": {
      "application/vnd.jupyter.widget-view+json": {
       "model_id": "a03e786e292b4c91b12cbb1cb960898e",
       "version_major": 2,
       "version_minor": 0
      },
      "text/plain": [
       "  0%|          | 0/500 [00:00<?, ?it/s]"
      ]
     },
     "metadata": {},
     "output_type": "display_data"
    },
    {
     "data": {
      "application/vnd.jupyter.widget-view+json": {
       "model_id": "162e2e5dec384ebdba8ee7ceaf5d1608",
       "version_major": 2,
       "version_minor": 0
      },
      "text/plain": [
       "  0%|          | 0/500 [00:00<?, ?it/s]"
      ]
     },
     "metadata": {},
     "output_type": "display_data"
    },
    {
     "data": {
      "application/vnd.jupyter.widget-view+json": {
       "model_id": "d439b435b4f24333b9e07bc16102ab3e",
       "version_major": 2,
       "version_minor": 0
      },
      "text/plain": [
       "  0%|          | 0/500 [00:00<?, ?it/s]"
      ]
     },
     "metadata": {},
     "output_type": "display_data"
    },
    {
     "data": {
      "application/vnd.jupyter.widget-view+json": {
       "model_id": "2a925a6fc84346a6947dff97dd066292",
       "version_major": 2,
       "version_minor": 0
      },
      "text/plain": [
       "  0%|          | 0/500 [00:00<?, ?it/s]"
      ]
     },
     "metadata": {},
     "output_type": "display_data"
    },
    {
     "data": {
      "application/vnd.jupyter.widget-view+json": {
       "model_id": "58ff3d6f0a7d40ac9336102178f28c86",
       "version_major": 2,
       "version_minor": 0
      },
      "text/plain": [
       "  0%|          | 0/500 [00:00<?, ?it/s]"
      ]
     },
     "metadata": {},
     "output_type": "display_data"
    },
    {
     "data": {
      "application/vnd.jupyter.widget-view+json": {
       "model_id": "dbafa4fb6bb64b9a980648eb1f9bd87e",
       "version_major": 2,
       "version_minor": 0
      },
      "text/plain": [
       "  0%|          | 0/500 [00:00<?, ?it/s]"
      ]
     },
     "metadata": {},
     "output_type": "display_data"
    },
    {
     "data": {
      "application/vnd.jupyter.widget-view+json": {
       "model_id": "ac30c47b7bf14d71b92c2fdfecbaa527",
       "version_major": 2,
       "version_minor": 0
      },
      "text/plain": [
       "  0%|          | 0/500 [00:00<?, ?it/s]"
      ]
     },
     "metadata": {},
     "output_type": "display_data"
    },
    {
     "data": {
      "application/vnd.jupyter.widget-view+json": {
       "model_id": "d7dbc6565bfe4025b13ce00a2694dfd4",
       "version_major": 2,
       "version_minor": 0
      },
      "text/plain": [
       "  0%|          | 0/500 [00:00<?, ?it/s]"
      ]
     },
     "metadata": {},
     "output_type": "display_data"
    },
    {
     "data": {
      "application/vnd.jupyter.widget-view+json": {
       "model_id": "aa93251a181741cbb98827d520d30d48",
       "version_major": 2,
       "version_minor": 0
      },
      "text/plain": [
       "  0%|          | 0/500 [00:00<?, ?it/s]"
      ]
     },
     "metadata": {},
     "output_type": "display_data"
    },
    {
     "data": {
      "application/vnd.jupyter.widget-view+json": {
       "model_id": "710dcbdd91b0417e9eb8b0c3105d9cf5",
       "version_major": 2,
       "version_minor": 0
      },
      "text/plain": [
       "  0%|          | 0/500 [00:00<?, ?it/s]"
      ]
     },
     "metadata": {},
     "output_type": "display_data"
    },
    {
     "data": {
      "application/vnd.jupyter.widget-view+json": {
       "model_id": "c63dae35edb3453a81014f88070fe1da",
       "version_major": 2,
       "version_minor": 0
      },
      "text/plain": [
       "  0%|          | 0/500 [00:00<?, ?it/s]"
      ]
     },
     "metadata": {},
     "output_type": "display_data"
    },
    {
     "data": {
      "application/vnd.jupyter.widget-view+json": {
       "model_id": "62d6ec172f6f4724b3b9ba5eec51db14",
       "version_major": 2,
       "version_minor": 0
      },
      "text/plain": [
       "  0%|          | 0/500 [00:00<?, ?it/s]"
      ]
     },
     "metadata": {},
     "output_type": "display_data"
    }
   ],
   "source": [
    "from tqdm import tnrange\n",
    "from tqdm.auto import tqdm\n",
    "import gc\n",
    "################这里是参数部分，可以修改##############################\n",
    "traces_per_part = 500  # 每一块文件多少条曲线\n",
    "part = 80  # 分成多少块文件\n",
    "\n",
    "part_start_index = 0  # 序号从多少块开始。如果是初始采集，就设置为0\n",
    "\n",
    "#################################################################\n",
    "filename_of_traces = \"F:/dilithium采集-比赛用/训练集/traces_for_profiling\"\t# 曲线文件的文件名前缀\n",
    "infile = open(\"F:/dilithium采集-比赛用/训练集/meta_data_for_profiling.txt\")\n",
    "MLEN = 33\n",
    "SEEDBYTES = 32\n",
    "rhoprime_len = 48\n",
    "global_counter = 0\n",
    "total_traces = part * traces_per_part  # 总共要采集的曲线数目\n",
    "pbar = tqdm(total=total_traces)\n",
    "L = 4\n",
    "\n",
    "\n",
    "def mainProcess(num_of_traces, myfile):\n",
    "\n",
    "    traces_array = np.empty(shape=(traces_per_part,maxSamples),dtype=np.float64)\n",
    "    text_in_array = np.empty(shape=(traces_per_part,33),dtype=np.uint8)\n",
    "    text_out_array = np.empty(shape=(traces_per_part,1),dtype=np.uint8)\n",
    "    \n",
    "\n",
    "    for index_i in tnrange(num_of_traces):\n",
    "        reset_target(scope)\n",
    "        global global_counter\n",
    "        global pbar\n",
    "        msg_input = []\n",
    "\n",
    "        line = infile.readline()\n",
    "        while(line.find('counter=') == -1):\n",
    "            line = infile.readline()\n",
    "            \n",
    "        counter  = line\n",
    "        \n",
    "        line = infile.readline()\n",
    "        line = infile.readline()\n",
    "        \n",
    "        index_rhoprime = line.find('rhoprime=') + 9\n",
    "        \n",
    "\n",
    "        msg_input += convert_msg(line[index_rhoprime:index_rhoprime+rhoprime_len*2], rhoprime_len)\n",
    "        \n",
    "        line = infile.readline()\n",
    "\n",
    "        \n",
    "        nonce_index = line.find('nonce=') + 6\n",
    "        nonce = int(line[nonce_index:nonce_index+4],16)\n",
    "        #print(nonce)\n",
    "        nonce = (nonce - 1) * L\n",
    "        line = infile.readline()\n",
    "        mark_index_st = line.find('mark_index=') + 11\n",
    "        mark_index = int(line[mark_index_st:mark_index_st+1])\n",
    "\n",
    "        \n",
    "        nonce += int(mark_index)\n",
    "        \n",
    "        #nonce 是uint16 需小端序输入\n",
    "        nonce_bytes = nonce.to_bytes(2, 'little')\n",
    "       \n",
    "        msg_input += [int(nonce_bytes[0])]\n",
    "        msg_input += [int(nonce_bytes[1])]\n",
    "\n",
    "\n",
    "        \n",
    "        line = infile.readline()\n",
    "        r_f4bytes_st = line.find('r_f4bytes') + 13\n",
    "        r_f4bytes = line[r_f4bytes_st:-1]\n",
    "        r_f4bytes = list(convert_msg(r_f4bytes,16))\n",
    "\n",
    "        line = infile.readline()\n",
    "        r_l4bytes_st = line.find('r_l4bytes') + 13\n",
    "        r_l4bytes = line[r_l4bytes_st:-1]\n",
    "        r_l4bytes = list(convert_msg(r_l4bytes,16))\n",
    "\n",
    "        \n",
    "        global_counter += 1\n",
    "\n",
    "        target.simpleserial_write('z', bytearray(msg_input))\n",
    "        time.sleep(0.01)\n",
    "        \n",
    "        status[\"runBlock\"] = ps.ps5000aRunBlock(chandle, preTriggerSamples, postTriggerSamples, timebase, None, 0, None, None)\n",
    "        assert_pico_ok(status[\"runBlock\"])\n",
    "        \n",
    "        ready = ctypes.c_int16(0)\n",
    "        check = ctypes.c_int16(0)\n",
    "        while ready.value == check.value:\n",
    "            status[\"isReady\"] = ps.ps5000aIsReady(chandle, ctypes.byref(ready))\n",
    "        bufferAMax = (ctypes.c_int16 * maxSamples)()\n",
    "        bufferAMin = (ctypes.c_int16 * maxSamples)() \n",
    "        bufferBMax = (ctypes.c_int16 * maxSamples)()\n",
    "        bufferBMin = (ctypes.c_int16 * maxSamples)()\n",
    "        source = ps.PS5000A_CHANNEL[\"PS5000A_CHANNEL_A\"]\n",
    "        status[\"setDataBuffersA\"] = ps.ps5000aSetDataBuffers(chandle, source, ctypes.byref(bufferAMax), ctypes.byref(bufferAMin), maxSamples, 0, 0)\n",
    "        assert_pico_ok(status[\"setDataBuffersA\"])\n",
    "        source = ps.PS5000A_CHANNEL[\"PS5000A_CHANNEL_B\"]\n",
    "        status[\"setDataBuffersB\"] = ps.ps5000aSetDataBuffers(chandle, source, ctypes.byref(bufferBMax), ctypes.byref(bufferBMin), maxSamples, 0, 0)\n",
    "        assert_pico_ok(status[\"setDataBuffersB\"])\n",
    "        overflow = ctypes.c_int16()\n",
    "        cmaxSamples = ctypes.c_int32(maxSamples)\n",
    "        \n",
    "        \n",
    "        status[\"getValues\"] = ps.ps5000aGetValues(chandle, 0, ctypes.byref(cmaxSamples), 0, 0, 0, ctypes.byref(overflow))\n",
    "        assert_pico_ok(status[\"getValues\"])\n",
    "        adc2mVChAMax =  adc2mV(bufferAMax, chARange, maxADC)\n",
    "        adc2mVChBMax =  adc2mV(bufferBMax, chBRange, maxADC)\n",
    "        # ❗❗❗❗❗❗❗❗❗❗❗❗❗❗❗❗❗❗❗❗❗❗❗❗❗❗❗❗❗❗❗❗\n",
    "        # 正式采集之前，先采集一条曲线的触发信号，并画图观察触发的上升沿和下降沿是否全部捕捉到，若看不到下降沿，则尝试增大postTriggerSamples\n",
    "        #plt.plot(adc2mVChAMax[:])\t# 画图观察触发信号是否正常\n",
    "        #plt.plot(adc2mVChBMax[:])\t# 画图观察数据信号\n",
    "        if adc2mVChBMax[0] == 32512 and adc2mVChBMax[-1] == 32512:\n",
    "            raise Exception('示波器采集错误，请重新采集')\n",
    "        #time.sleep(0.01)\n",
    "        recv_msg = list(target.simpleserial_read('r', 32))\n",
    "        for i in range(16):\n",
    "            assert r_f4bytes[i] == recv_msg[i]\n",
    "            assert r_l4bytes[i] == recv_msg[i+16]\n",
    "            \n",
    "\n",
    "        traces_array[index_i] = np.array(adc2mVChBMax[:])\n",
    "\n",
    "\n",
    "                \n",
    "        \n",
    "        \n",
    "        global_counter += 1\n",
    "        pbar.update(1)\n",
    "    return traces_array, text_in_array, text_out_array\n",
    "\n",
    "\n",
    "# 先找到和part_start_index对应的counter\n",
    "while(global_counter != traces_per_part * part_start_index):\n",
    "    line = infile.readline()   \n",
    "    if(line.find('counter=')!= -1):\n",
    "        global_counter += 1\n",
    "\n",
    "\n",
    "#print(\"here\",global_counter )\n",
    "for p in range(part):  # 遍历所有的part\n",
    "    traces_arr, text_in_arr, text_out_arr = mainProcess(traces_per_part, infile)\n",
    "    np.save(filename_of_traces + \"_part{0}.npy\".format(p + part_start_index), traces_arr)\n",
    "    #np.save(filename_of_traces + \"_textinPart{0}.npy\".format(p + part_start_index), text_in_arr)\n",
    "    #np.save(filename_of_traces + \"_textoutPart{0}.npy\".format(p + part_start_index), text_out_arr)\n",
    "    del traces_arr\n",
    "    del text_in_arr\n",
    "    del text_out_arr\n",
    "    gc.collect()\n",
    "pbar.close()\n",
    "infile.close()"
   ]
  },
  {
   "cell_type": "code",
   "execution_count": 17,
   "id": "9997c614",
   "metadata": {},
   "outputs": [
    {
     "data": {
      "text/plain": [
       "11"
      ]
     },
     "execution_count": 17,
     "metadata": {},
     "output_type": "execute_result"
    }
   ],
   "source": [
    "int(\"0x0b\",16)"
   ]
  },
  {
   "cell_type": "code",
   "execution_count": 75,
   "id": "ca24e6ef",
   "metadata": {},
   "outputs": [
    {
     "data": {
      "text/plain": [
       "21"
      ]
     },
     "execution_count": 75,
     "metadata": {},
     "output_type": "execute_result"
    }
   ],
   "source": [
    "gc.collect()"
   ]
  },
  {
   "cell_type": "code",
   "execution_count": 116,
   "id": "6ef3e22d",
   "metadata": {},
   "outputs": [
    {
     "name": "stdout",
     "output_type": "stream",
     "text": [
      "{'openunit': 286, 'changePowerSource': 0, 'setChA': 0, 'setChB': 0, 'maximumValue': 0, 'trigger': 0, 'getTimebase2': 0, 'runBlock': 0, 'isReady': 0, 'setDataBuffersA': 0, 'setDataBuffersB': 0, 'getValues': 0, 'stop': 0, 'close': 0}\n"
     ]
    }
   ],
   "source": [
    "# Stop the scope\n",
    "# handle = chandle\n",
    "status[\"stop\"] = ps.ps5000aStop(chandle)\n",
    "assert_pico_ok(status[\"stop\"])\n",
    "\n",
    "# Close unit Disconnect the scope\n",
    "# handle = chandle\n",
    "status[\"close\"]=ps.ps5000aCloseUnit(chandle)\n",
    "assert_pico_ok(status[\"close\"])\n",
    "\n",
    "# display status returns\n",
    "print(status)"
   ]
  },
  {
   "cell_type": "code",
   "execution_count": null,
   "id": "addc0ace",
   "metadata": {},
   "outputs": [],
   "source": [
    "以下是用gdb 和 openocd 进行 DEBUG"
   ]
  },
  {
   "cell_type": "code",
   "execution_count": null,
   "id": "fcbd64d2",
   "metadata": {},
   "outputs": [],
   "source": [
    "检查是否支持："
   ]
  },
  {
   "cell_type": "code",
   "execution_count": null,
   "id": "e93e0348",
   "metadata": {
    "scrolled": true
   },
   "outputs": [],
   "source": [
    "import chipwhisperer as cw\n",
    "if cw.__version__ < '5.6.1':\n",
    "    print(\"MPSSE not supported.\")\n",
    "else:\n",
    "    scope = cw.scope()\n",
    "    if scope.check_feature(\"MPSSE\"):\n",
    "        print(\"MPSSE supported!\")\n",
    "    else:\n",
    "        print(\"MPSSE not supported.\")\n",
    "    scope.dis()"
   ]
  },
  {
   "cell_type": "code",
   "execution_count": null,
   "id": "01033962",
   "metadata": {},
   "outputs": [],
   "source": [
    "❗"
   ]
  },
  {
   "cell_type": "code",
   "execution_count": null,
   "id": "ce9968ae",
   "metadata": {},
   "outputs": [],
   "source": [
    "import chipwhisperer as cw\n",
    "scope = cw.scope()\n",
    "PID = hex(scope._getNAEUSB().usbtx.device.getProductID())\n",
    "scope.enable_MPSSE(1)\n",
    "scope.dis()"
   ]
  },
  {
   "cell_type": "code",
   "execution_count": null,
   "id": "145f5442",
   "metadata": {},
   "outputs": [],
   "source": [
    "下面是测试自己的固件，注意要make"
   ]
  },
  {
   "cell_type": "code",
   "execution_count": null,
   "id": "0a4ee698",
   "metadata": {},
   "outputs": [],
   "source": [
    "SCOPETYPE = 'OPENADC'\n",
    "PLATFORM = 'CW308_STM32F3'\n",
    "SS_VER = 'SS_VER_1_1'"
   ]
  },
  {
   "cell_type": "code",
   "execution_count": null,
   "id": "8b5651a6",
   "metadata": {},
   "outputs": [],
   "source": []
  },
  {
   "cell_type": "code",
   "execution_count": null,
   "id": "dc7ae606",
   "metadata": {},
   "outputs": [],
   "source": [
    "%%bash -s \"$PLATFORM\" \"$SS_VER\"\n",
    "cd ../tracesCapture/dilithium_firmware_cortex_m_6_4\n",
    "make PLATFORM=$1 CRYPTO_TARGET=NONE SS_VER=$2"
   ]
  },
  {
   "cell_type": "code",
   "execution_count": null,
   "id": "3c21e256",
   "metadata": {},
   "outputs": [],
   "source": [
    "下面是测试能否写入"
   ]
  },
  {
   "cell_type": "code",
   "execution_count": null,
   "id": "a02bec97",
   "metadata": {
    "scrolled": true
   },
   "outputs": [],
   "source": [
    "%%bash -s \"$PID\"\n",
    "\n",
    "# build firmware\n",
    "cd ../tracesCapture/dilithium_firmware_cortex_m_6_4\n",
    "\n",
    "# upload firmware via JTAG\n",
    "openocd -f ../../cw_openocd.cfg -c \"transport select jtag\" -c \"ftdi vid_pid 0x2b3e $1\" -f \"target/stm32f3x.cfg\" -c \"init\" -c \"targets\" -c \"halt\" -c \"flash write_image erase simple-test-CW308_STM32F3.elf\" -c \"flash verify_image simple-test-CW308_STM32F3.elf\" -c \"reset run\" -c \"shutdown\""
   ]
  },
  {
   "cell_type": "code",
   "execution_count": null,
   "id": "eab3ce9c",
   "metadata": {},
   "outputs": [],
   "source": [
    "❗需要直接运行下面这一块，运行这一块会阻塞，监听。如果gdb那边出问题，需要在这里kernel restart,重新来一遍\n",
    "板子不需要拔出"
   ]
  },
  {
   "cell_type": "code",
   "execution_count": null,
   "id": "970a61b2",
   "metadata": {},
   "outputs": [],
   "source": [
    "%%bash -s \"$PID\"\n",
    "\n",
    "cd ../tracesCapture/dilithium_firmware_cortex_m_6_4\n",
    "\n",
    "openocd -f ../../cw_openocd.cfg -c \"transport select jtag\" -c \"ftdi vid_pid 0x2b3e $1\" -f \"target/stm32f3x.cfg\""
   ]
  },
  {
   "cell_type": "code",
   "execution_count": null,
   "id": "24b18568",
   "metadata": {},
   "outputs": [],
   "source": [
    "以下放在终端中运行"
   ]
  },
  {
   "cell_type": "code",
   "execution_count": null,
   "id": "b709c33d",
   "metadata": {},
   "outputs": [],
   "source": [
    "cd tracesCapture/dilithium_firmware_cortex_m_6_4\n",
    "\n",
    "\n",
    "arm-none-eabi-gdb simple-test-CW308_STM32F3.elf -ex \"target extended-remote localhost:3333\" -ex \"monitor reset halt\" -ex \"load\""
   ]
  },
  {
   "cell_type": "code",
   "execution_count": null,
   "id": "450bcb03",
   "metadata": {},
   "outputs": [],
   "source": [
    "以下是测试默认的AES固件"
   ]
  },
  {
   "cell_type": "code",
   "execution_count": null,
   "id": "d6a19600",
   "metadata": {},
   "outputs": [],
   "source": [
    "下面这一块不用运行，但是是测试"
   ]
  },
  {
   "cell_type": "code",
   "execution_count": null,
   "id": "8a07dfb4",
   "metadata": {},
   "outputs": [],
   "source": [
    "%%bash -s \"$PID\"\n",
    "\n",
    "# build firmware\n",
    "cd ../hardware/victims/firmware/simpleserial-aes\n",
    "make PLATFORM=CW308_STM32F3 CRYPTO_TARGET=TINYAES128C SS_VER=SS_VER_1_1 -j\n",
    "\n",
    "# upload firmware via JTAG\n",
    "openocd -f ../../../../cw_openocd.cfg -c \"transport select jtag\" -c \"ftdi vid_pid 0x2b3e $1\" -f \"target/stm32f3x.cfg\" -c \"init\" -c \"targets\" -c \"halt\" -c \"flash write_image erase simpleserial-aes-CW308_STM32F3.elf\" -c \"flash verify_image simpleserial-aes-CW308_STM32F3.elf\" -c \"reset run\" -c \"shutdown\""
   ]
  },
  {
   "cell_type": "code",
   "execution_count": null,
   "id": "5d10cd02",
   "metadata": {},
   "outputs": [],
   "source": [
    "需要直接运行下面这一块，运行这一块会阻塞，监听"
   ]
  },
  {
   "cell_type": "code",
   "execution_count": null,
   "id": "a5bf557b",
   "metadata": {},
   "outputs": [],
   "source": [
    "%%bash -s \"$PID\"\n",
    "\n",
    "cd ../hardware/victims/firmware/simpleserial-aes\n",
    "\n",
    "openocd -f ../../../../cw_openocd.cfg -c \"transport select jtag\" -c \"ftdi vid_pid 0x2b3e $1\" -f \"target/stm32f3x.cfg\""
   ]
  },
  {
   "cell_type": "code",
   "execution_count": null,
   "id": "d3c889c0",
   "metadata": {},
   "outputs": [],
   "source": [
    "这个放在shell中运行，不要放在notebook里运行\n",
    "cd hardware/victims/firmware/simpleserial-aes \n",
    "arm-none-eabi-gdb simpleserial-aes-CW308_STM32F3.elf -ex \"target extended-remote localhost:3333\" -ex \"monitor reset halt\" -ex \"load\" "
   ]
  },
  {
   "cell_type": "code",
   "execution_count": null,
   "id": "04ab63e7",
   "metadata": {},
   "outputs": [],
   "source": [
    "gdb里，想要重启，先load，再s，再start。如果load后直接start，没用，不知道为啥"
   ]
  },
  {
   "cell_type": "code",
   "execution_count": null,
   "id": "8ee4d0d3",
   "metadata": {},
   "outputs": [],
   "source": [
    "a = \"7c9935a0b07694aac6d10e4db6b1add2fd81a25ccb14832dcd739936737f2d00000000210000000a012bf0de55008014bf0de550060000000600000001000000061408affdd5500\"\n",
    "\n",
    "a = a[0:64]\n",
    "\n",
    "print(a)"
   ]
  },
  {
   "cell_type": "code",
   "execution_count": null,
   "id": "3b569b00",
   "metadata": {},
   "outputs": [],
   "source": [
    "seed=[] \n",
    "for i in range(0,32):\n",
    "    seed.append(random.randint(0,255))\n",
    "    \n",
    "for x in seed:\n",
    "    print(hex(x),end=',')"
   ]
  },
  {
   "cell_type": "code",
   "execution_count": null,
   "id": "d83bdf65",
   "metadata": {},
   "outputs": [],
   "source": [
    "msg=[] \n",
    "for i in range(0,33):\n",
    "    msg.append(random.randint(0,255))\n",
    "    \n",
    "for x in msg:\n",
    "    print(hex(x),end=',')"
   ]
  },
  {
   "cell_type": "code",
   "execution_count": null,
   "id": "5fc4c027",
   "metadata": {},
   "outputs": [],
   "source": [
    "a = np.load('F:/dilithuim采集/batch0_textinPart0.npy')\n",
    "print(a)"
   ]
  },
  {
   "cell_type": "code",
   "execution_count": null,
   "id": "2cc8b56c",
   "metadata": {},
   "outputs": [],
   "source": [
    "a = np.load('F:/dilithuim采集/batch0_textoutPart0.npy')\n",
    "print(a)"
   ]
  },
  {
   "cell_type": "code",
   "execution_count": null,
   "id": "116428c7",
   "metadata": {},
   "outputs": [],
   "source": [
    "seed =\"ef99224a03a85a46ef115474ec5b5d620da6795d6efcca4c9135d19958a9de62\"\n",
    "#seed = \"ef99224a03a85a46ef115474ec5b5d620da6795d6efcca4c9135d19958a9de62\"\n",
    "for i in range(0,32): \n",
    "    s = seed[i*2:i*2+2]\n",
    "    s = \"0x\" + s\n",
    "    print(s,end=',')"
   ]
  },
  {
   "cell_type": "code",
   "execution_count": 9,
   "id": "ffd9daa3",
   "metadata": {},
   "outputs": [],
   "source": []
  },
  {
   "cell_type": "code",
   "execution_count": 12,
   "id": "362bc59b",
   "metadata": {},
   "outputs": [],
   "source": [
    "# 拿到原始数据后，运行一下这个，生成元数据文件!!!!!!!!!!\n",
    "# 注意要改名字！！！！！！！！！！！！！！！\n",
    "\n",
    "file1 = open('F:/dilithuim采集/元数据/find_for_profiling.txt', 'r')\n",
    "Lines = file1.readlines()\n",
    "\n",
    "f = open(\"F:/dilithuim采集/元数据/meta_data_for_profiling.txt\", \"w\")\n",
    "f.write(\"THIS IS METADATA\\n\")\n",
    "\n",
    "count = 0\n",
    "\n",
    "\n",
    "for line in Lines:\n",
    "    #print(\"Line{}: {}\".format(count, line.strip()))\n",
    "    content = line.strip()\n",
    "    if(content.find(\"successfully\") == -1):\n",
    "        continue\n",
    "    \n",
    "    seed_start = content.find(\"seed=\") + 5\n",
    "    seed_end = content.find(\"--successfully\")\n",
    "    seed = content[seed_start:seed_end].strip()\n",
    "    \n",
    "    pk_start = content.find(\"pk=\") +3\n",
    "    pk_end= content.find(\"---sk=\")\n",
    "    pk = content[pk_start:pk_end].strip()\n",
    "    \n",
    "    sk_start = content.find(\"sk=\")+3\n",
    "    sk_end= content.find(\"---smlen=\")\n",
    "    sk = content[sk_start:sk_end].strip()\n",
    "    \n",
    "    msg_start = content.find(\"msg=\") + 4\n",
    "    msg_end = content.find(\",seed=\")\n",
    "    msg = content[msg_start:msg_end].strip()\n",
    "    \n",
    "    msg_len_start = content.find(\"---mlen=\")+8\n",
    "    msg_len_end = content.find(\"---sm=\")\n",
    "    msg_len = content[msg_len_start:msg_len_end].strip()\n",
    "    \n",
    "    sm_start = content.find(\"sm=\")+3\n",
    "    sm = content[sm_start:].strip()\n",
    "    \n",
    "    sm_len_start = content.find(\"smlen=\")+6\n",
    "    sm_len_end = content.find(\"---mlen\")\n",
    "    sm_len = content[sm_len_start:sm_len_end].strip()\n",
    "\n",
    "    \n",
    "\n",
    "    f.write(\"count= \" + str(count) +\"\\n\")\n",
    "    f.write(\"seed= \" + seed+\"\\n\")\n",
    "    f.write(\"pk= \" + pk+\"\\n\")\n",
    "    f.write(\"sk= \" + sk+\"\\n\")\n",
    "    f.write(\"msg= \" + msg+\"\\n\")\n",
    "    f.write(\"msg_len= \" + msg_len+\"\\n\")\n",
    "    f.write(\"sm= \" + sm+\"\\n\")\n",
    "    f.write(\"sm_len= \" + sm_len+\"\\n\")\n",
    "    f.write(\"\\n\")\n",
    "    count += 1\n",
    "    \n",
    "f.close()"
   ]
  },
  {
   "cell_type": "code",
   "execution_count": null,
   "id": "918378f3",
   "metadata": {},
   "outputs": [],
   "source": [
    "分割文件"
   ]
  },
  {
   "cell_type": "code",
   "execution_count": 20,
   "id": "3c579475",
   "metadata": {},
   "outputs": [],
   "source": [
    "file1 = open('F:/dilithium采集-比赛用/训练集/meta_data_for_profiling_new.txt', 'r')\n",
    "\n",
    "\n",
    "\n",
    "traces_per_part = 50  # 每一块文件多少条曲线\n",
    "part = 200  # 分成多少块文件\n",
    "part_start_index = 0  # 序号从多少号开始。如果是初始采集，就设置为0\n",
    "\n",
    "\n",
    "\n",
    "for p in range(part):  # 遍历所有的part\n",
    "    f = open(\"F:/dilithium采集-比赛用/训练集/meta_data_for_profiling_part{0}\".format(p) + \".txt\", \"w\")\n",
    "\n",
    "    for tp in range(traces_per_part):\n",
    "        content = file1.readline()\n",
    "        count_start = content.find(\"count=\") + 7\n",
    "        count = content[count_start:].strip()\n",
    "        \n",
    "        \n",
    "        content = file1.readline()\n",
    "        seed_start = content.find(\"seed=\") + 6\n",
    "        seed = content[seed_start:].strip()\n",
    "        \n",
    "        content = file1.readline()\n",
    "        pk_start = content.find(\"pk=\") +4\n",
    "        pk = content[pk_start:].strip()\n",
    "        \n",
    "        \n",
    "        content = file1.readline()\n",
    "        sk_start = content.find(\"sk=\")+4\n",
    "        sk = content[sk_start:].strip()\n",
    "        \n",
    "        \n",
    "        content = file1.readline()\n",
    "        msg_start = content.find(\"msg=\") + 5\n",
    "        msg = content[msg_start:].strip()\n",
    "        \n",
    "        \n",
    "        content = file1.readline()\n",
    "        msg_len_start = content.find(\"msg_len=\")+9\n",
    "        msg_len = content[msg_len_start:].strip()\n",
    "        \n",
    "        content = file1.readline()\n",
    "        sm_start = content.find(\"sm=\")+4\n",
    "        sm = content[sm_start:].strip()\n",
    "        \n",
    "        content = file1.readline()\n",
    "        sm_len_start = content.find(\"sm_len=\")+8\n",
    "        sm_len = content[sm_len_start:].strip()\n",
    "\n",
    "\n",
    "\n",
    "        f.write(\"count= \" + str(count) +\"\\n\")\n",
    "        f.write(\"seed= \" + seed+\"\\n\")\n",
    "        f.write(\"pk= \" + pk+\"\\n\")\n",
    "        f.write(\"sk= \" + sk+\"\\n\")\n",
    "        f.write(\"msg= \" + msg+\"\\n\")\n",
    "        f.write(\"msg_len= \" + msg_len+\"\\n\")\n",
    "        f.write(\"sm= \" + sm+\"\\n\")\n",
    "        f.write(\"sm_len= \" + sm_len+\"\\n\")\n",
    "        f.write(\"\\n\")\n",
    "        content = file1.readline()\n",
    "\n",
    "    f.close()"
   ]
  },
  {
   "cell_type": "code",
   "execution_count": 4,
   "id": "92ab7da2",
   "metadata": {},
   "outputs": [],
   "source": [
    "# 拿到原始数据后，运行一下这个，生成元数据文件!!!!!!!!!!\n",
    "# 注意要改名字！！！！！！！！！！！！！！！\n",
    "\n",
    "file1 = open('F:/dilithuim采集/元数据/20230828.txt', 'r')\n",
    "Lines = file1.readlines()\n",
    "\n",
    "f = open(\"F:/dilithuim采集/元数据/20230828_new.txt\", \"w\")\n",
    "\n",
    "count = 0\n",
    "\n",
    "\n",
    "for line in Lines:\n",
    "    #print(\"Line{}: {}\".format(count, line.strip()))\n",
    "    content = line.strip()\n",
    "    if(content.find(\"successfully\") == -1):\n",
    "        continue\n",
    "    \n",
    "    seed_start = content.find(\"seed=\") + 5\n",
    "    seed_end = content.find(\"--rhoprime\")\n",
    "    seed = content[seed_start:seed_end].strip()\n",
    "    \n",
    "    rhoprime_start = content.find(\"rhoprime=\") + 9\n",
    "    rhoprime_end = content.find(\"--nonce=\")\n",
    "    rhoprime = content[rhoprime_start:rhoprime_end].strip()\n",
    "    \n",
    "    nonce_start = content.find(\"nonce=\") + 6\n",
    "    nonce_end = content.find(\"--y=\")\n",
    "    nonce = content[nonce_start:nonce_end].strip()\n",
    "    \n",
    "    r_f4bytes0_st = content.find(\"r_f4bytes[0]=\") + 13\n",
    "    r_f4bytes0_end = content.find(\"--r_l4bytes[0]\") \n",
    "    f4bytes0 = content[r_f4bytes0_st:r_f4bytes0_end].strip()\n",
    "    \n",
    "    r_l4bytes0_st = content.find(\"r_l4bytes[0]=\") + 13\n",
    "    r_l4bytes0_end = content.find(\"--r_f4bytes[1]\") \n",
    "    l4bytes0 = content[r_l4bytes0_st:r_l4bytes0_end].strip()\n",
    "    \n",
    "    r_f4bytes1_st = content.find(\"r_f4bytes[1]=\") + 13\n",
    "    r_f4bytes1_end = content.find(\"--r_l4bytes[1]\")\n",
    "    f4bytes1 = content[r_f4bytes1_st:r_f4bytes1_end].strip()\n",
    "\n",
    "    r_l4bytes1_st = content.find(\"r_l4bytes[1]=\") + 13\n",
    "    r_l4bytes1_end = content.find(\"--r_f4bytes[2]\")\n",
    "    l4bytes1 = content[r_l4bytes1_st:r_l4bytes1_end].strip()\n",
    "\n",
    "        \n",
    "    r_f4bytes2_st = content.find(\"r_f4bytes[2]=\") + 13\n",
    "    r_f4bytes2_end = content.find(\"--r_l4bytes[2]\")\n",
    "    f4bytes2 = content[r_f4bytes2_st:r_f4bytes2_end].strip()\n",
    "\n",
    "    \n",
    "    r_l4bytes2_st = content.find(\"r_l4bytes[2]=\") + 13\n",
    "    r_l4bytes2_end = content.find(\"--r_f4bytes[3]\")\n",
    "    l4bytes2 = content[r_l4bytes2_st:r_l4bytes2_end].strip()\n",
    "\n",
    "    \n",
    "    r_f4bytes3_st = content.find(\"r_f4bytes[3]=\") + 13\n",
    "    r_f4bytes3_end = content.find(\"--r_l4bytes[3]\")\n",
    "    f4bytes3 = content[r_f4bytes3_st:r_f4bytes3_end].strip()\n",
    "\n",
    "        \n",
    "    r_l4bytes3_st = content.find(\"r_l4bytes[3]\") + 13\n",
    "    r_l4bytes3_end = content.find(\"--successfull\")\n",
    "    l4bytes3 = content[r_l4bytes3_st:r_l4bytes3_end].strip()\n",
    "\n",
    "        \n",
    "    pk_start = content.find(\"pk=\") +3\n",
    "    pk_end= content.find(\"---sk=\")\n",
    "    pk = content[pk_start:pk_end].strip()\n",
    "    \n",
    "    sk_start = content.find(\"sk=\")+3\n",
    "    sk_end= content.find(\"---smlen=\")\n",
    "    sk = content[sk_start:sk_end].strip()\n",
    "    \n",
    "    msg_start = content.find(\"msg=\") + 4\n",
    "    msg_end = content.find(\",seed=\")\n",
    "    msg = content[msg_start:msg_end].strip()\n",
    "    \n",
    "    msg_len_start = content.find(\"---mlen=\")+8\n",
    "    msg_len_end = content.find(\"---sm=\")\n",
    "    msg_len = content[msg_len_start:msg_len_end].strip()\n",
    "    \n",
    "    sm_start = content.find(\"sm=\")+3\n",
    "    sm = content[sm_start:].strip()\n",
    "    \n",
    "    sm_len_start = content.find(\"smlen=\")+6\n",
    "    sm_len_end = content.find(\"---mlen\")\n",
    "    sm_len = content[sm_len_start:sm_len_end].strip()\n",
    "\n",
    "    \n",
    "\n",
    "    f.write(\"count= \" + str(count) +\"\\n\")\n",
    "    f.write(\"seed= \" + seed+\"\\n\")\n",
    "    f.write(\"rhoprime= \" + rhoprime+\"\\n\")\n",
    "    f.write(\"nonce= \" + nonce+\"\\n\")\n",
    "    f.write(\"[0] first 4bytes=\" + f4bytes0 + \"\\n\")\n",
    "    f.write(\"[0] last 4bytes=\" + l4bytes0 + \"\\n\")\n",
    "    f.write(\"[1] first 4bytes=\" + f4bytes1 + \"\\n\")\n",
    "    f.write(\"[1] last 4bytes=\" + l4bytes1 + \"\\n\")\n",
    "    f.write(\"[2] first 4bytes=\" + f4bytes2 + \"\\n\")\n",
    "    f.write(\"[2] last 4bytes=\" + l4bytes2 + \"\\n\")\n",
    "    f.write(\"[3] first 4bytes=\" + f4bytes3 + \"\\n\")\n",
    "    f.write(\"[3] last 4bytes=\" + l4bytes3 + \"\\n\")\n",
    "    f.write(\"pk= \" + pk+\"\\n\")\n",
    "    f.write(\"sk= \" + sk+\"\\n\")\n",
    "    f.write(\"msg= \" + msg+\"\\n\")\n",
    "    f.write(\"msg_len= \" + msg_len+\"\\n\")\n",
    "    f.write(\"sm= \" + sm+\"\\n\")\n",
    "    f.write(\"sm_len= \" + sm_len+\"\\n\")\n",
    "    f.write(\"\\n\")\n",
    "    count += 1\n",
    "    \n",
    "f.close()"
   ]
  },
  {
   "cell_type": "code",
   "execution_count": 109,
   "id": "7cb18eb3",
   "metadata": {},
   "outputs": [
    {
     "data": {
      "text/plain": [
       "'nnihao1.nihao1'"
      ]
     },
     "execution_count": 109,
     "metadata": {},
     "output_type": "execute_result"
    }
   ],
   "source": [
    "\"nnihao{0}.nihao{0}\".format(1)"
   ]
  },
  {
   "cell_type": "code",
   "execution_count": null,
   "id": "a2a4dd45",
   "metadata": {},
   "outputs": [],
   "source": [
    "a = np.load(\"F:/dilithium采集-比赛用/攻击集/第0组/traces_batch0_part0.npy\")\n",
    "plt.plot(a.T)\n",
    "plt.show()"
   ]
  },
  {
   "cell_type": "code",
   "execution_count": null,
   "id": "f0fccdc7",
   "metadata": {},
   "outputs": [],
   "source": []
  }
 ],
 "metadata": {
  "kernelspec": {
   "display_name": "Python 3 (ipykernel)",
   "language": "python",
   "name": "python3"
  },
  "language_info": {
   "codemirror_mode": {
    "name": "ipython",
    "version": 3
   },
   "file_extension": ".py",
   "mimetype": "text/x-python",
   "name": "python",
   "nbconvert_exporter": "python",
   "pygments_lexer": "ipython3",
   "version": "3.7.7"
  }
 },
 "nbformat": 4,
 "nbformat_minor": 5
}

{
 "cells": [
  {
   "cell_type": "markdown",
   "id": "a349fa5f",
   "metadata": {},
   "source": [
    "This file is used for collecting test."
   ]
  },
  {
   "cell_type": "markdown",
   "id": "57235b08",
   "metadata": {},
   "source": [
    "Setup environment."
   ]
  },
  {
   "cell_type": "code",
   "execution_count": 1,
   "id": "923c47b6",
   "metadata": {},
   "outputs": [],
   "source": [
    "SCOPETYPE = 'OPENADC'\n",
    "PLATFORM = 'CW308_STM32F4'\n",
    "SS_VER = 'SS_VER_1_1'"
   ]
  },
  {
   "cell_type": "markdown",
   "id": "8178c756",
   "metadata": {},
   "source": [
    "Run setup script for ChipWhisperer. Make sure the path is correct."
   ]
  },
  {
   "cell_type": "code",
   "execution_count": 2,
   "id": "d8dd433f",
   "metadata": {},
   "outputs": [
    {
     "name": "stdout",
     "output_type": "stream",
     "text": [
      "INFO: Found ChipWhisperer😍\n"
     ]
    }
   ],
   "source": [
    "%run \"../jupyter/Setup_Scripts/Setup_Generic.ipynb\""
   ]
  },
  {
   "cell_type": "markdown",
   "id": "8f69048f",
   "metadata": {},
   "source": [
    "Build target program to target board. You can verify the build status of the target program. "
   ]
  },
  {
   "cell_type": "code",
   "execution_count": 3,
   "id": "e5615907",
   "metadata": {
    "scrolled": true
   },
   "outputs": [
    {
     "name": "stdout",
     "output_type": "stream",
     "text": [
      "SS_VER set to SS_VER_1_1\n",
      "SS_VER set to SS_VER_1_1\n",
      "SS_VER set to SS_VER_1_1\n",
      "SS_VER set to SS_VER_1_1\n",
      "make[1]: '.dep' is up to date.\n",
      "SS_VER set to SS_VER_1_1\n",
      "SS_VER set to SS_VER_1_1\n",
      ".\n",
      "Welcome to another exciting ChipWhisperer target build!!\n",
      "arm-none-eabi-gcc (15:10.3-2021.07-4) 10.3.1 20210621 (release)\n",
      "Copyright (C) 2020 Free Software Foundation, Inc.\n",
      "This is free software; see the source for copying conditions.  There is NO\n",
      "warranty; not even for MERCHANTABILITY or FITNESS FOR A PARTICULAR PURPOSE.\n",
      "\n",
      ".\n",
      "Compiling:\n",
      "-en     main.c ...\n",
      "-e Done!\n",
      ".\n",
      "Compiling:\n",
      "-en     sign.c ...\n",
      "-e Done!\n",
      ".\n",
      "Compiling:\n",
      "-en     packing.c ...\n",
      "-e Done!\n",
      ".\n",
      "Compiling:\n",
      "-en     polyvec.c ...\n",
      "-e Done!\n",
      ".\n",
      "Compiling:\n",
      "-en     poly.c ...\n",
      "-e Done!\n",
      ".\n",
      "Compiling:\n",
      "-en     ntt.c ...\n",
      "-e Done!\n",
      ".\n",
      "Compiling:\n",
      "-en     reduce.c ...\n",
      "-e Done!\n",
      ".\n",
      "Compiling:\n",
      "-en     rounding.c ...\n",
      "-e Done!\n",
      ".\n",
      "Compiling:\n",
      "-en     fips202.c ...\n",
      "-e Done!\n",
      ".\n",
      "Compiling:\n",
      "-en     symmetric-shake.c ...\n",
      "-e Done!\n",
      ".\n",
      "Compiling:\n",
      "-en     aes256ctr.c ...\n",
      "-e Done!\n",
      ".\n",
      "Compiling:\n",
      "-en     ../../hardware/victims/firmware/./simpleserial/simpleserial.c ...\n",
      "-e Done!\n",
      ".\n",
      "Compiling:\n",
      "-en     ../../hardware/victims/firmware/./hal/stm32f4/stm32f4_hal.c ...\n"
     ]
    },
    {
     "name": "stderr",
     "output_type": "stream",
     "text": [
      "In file included from ../../hardware/victims/firmware/./hal/stm32f4/stm32f4_hal.c:3:\n",
      "../../hardware/victims/firmware/./hal/stm32f4/stm32f4_hal_lowlevel.h:108: warning: \"STM32F415xx\" redefined\n",
      "  108 | #define STM32F415xx\n",
      "      | \n",
      "<command-line>: note: this is the location of the previous definition\n"
     ]
    },
    {
     "name": "stdout",
     "output_type": "stream",
     "text": [
      "-e Done!\n",
      ".\n",
      "Compiling:\n",
      "-en     ../../hardware/victims/firmware/./hal/stm32f4/stm32f4_hal_lowlevel.c ...\n"
     ]
    },
    {
     "name": "stderr",
     "output_type": "stream",
     "text": [
      "In file included from ../../hardware/victims/firmware/./hal/stm32f4/stm32f4_hal_lowlevel.c:39:\n",
      "../../hardware/victims/firmware/./hal/stm32f4/stm32f4_hal_lowlevel.h:108: warning: \"STM32F415xx\" redefined\n",
      "  108 | #define STM32F415xx\n",
      "      | \n",
      "<command-line>: note: this is the location of the previous definition\n"
     ]
    },
    {
     "name": "stdout",
     "output_type": "stream",
     "text": [
      "-e Done!\n",
      ".\n",
      "Compiling:\n",
      "-en     ../../hardware/victims/firmware/./hal/stm32f4/stm32f4_sysmem.c ...\n",
      "-e Done!\n",
      ".\n",
      "Compiling:\n",
      "-en     ../../hardware/victims/firmware/./hal/stm32f4/stm32f4xx_hal_rng.c ...\n",
      "-e Done!\n",
      ".\n",
      "Assembling: ../../hardware/victims/firmware/./hal/stm32f4/stm32f4_startup.S\n",
      "arm-none-eabi-gcc -c -mcpu=cortex-m4 -I. -x assembler-with-cpp -mthumb -mfloat-abi=soft -fmessage-length=0 -ffunction-sections -DF_CPU=7372800 -Wa,-gstabs,-adhlns=objdir-CW308_STM32F4/stm32f4_startup.lst -I../../hardware/victims/firmware/./simpleserial/ -I../../hardware/victims/firmware/./simpleserial/ -I../../hardware/victims/firmware/./hal -I../../hardware/victims/firmware/./hal/stm32f4 -I../../hardware/victims/firmware/./hal/stm32f4/CMSIS -I../../hardware/victims/firmware/./hal/stm32f4/CMSIS/core -I../../hardware/victims/firmware/./hal/stm32f4/CMSIS/device -I../../hardware/victims/firmware/./hal/stm32f4/Legacy -I../../hardware/victims/firmware/./crypto/ ../../hardware/victims/firmware/./hal/stm32f4/stm32f4_startup.S -o objdir-CW308_STM32F4/stm32f4_startup.o\n",
      ".\n",
      "LINKING:\n",
      "-en     simple-test-CW308_STM32F4.elf ...\n",
      "-e Done!\n",
      ".\n",
      "Creating load file for Flash: simple-test-CW308_STM32F4.hex\n",
      "arm-none-eabi-objcopy -O ihex -R .eeprom -R .fuse -R .lock -R .signature simple-test-CW308_STM32F4.elf simple-test-CW308_STM32F4.hex\n",
      ".\n",
      "Creating load file for Flash: simple-test-CW308_STM32F4.bin\n",
      "arm-none-eabi-objcopy -O binary -R .eeprom -R .fuse -R .lock -R .signature simple-test-CW308_STM32F4.elf simple-test-CW308_STM32F4.bin\n",
      ".\n",
      "Creating load file for EEPROM: simple-test-CW308_STM32F4.eep\n",
      "arm-none-eabi-objcopy -j .eeprom --set-section-flags=.eeprom=\"alloc,load\" \\\n",
      "--change-section-lma .eeprom=0 --no-change-warnings -O ihex simple-test-CW308_STM32F4.elf simple-test-CW308_STM32F4.eep || exit 0\n",
      ".\n",
      "Creating Extended Listing: simple-test-CW308_STM32F4.lss\n",
      "arm-none-eabi-objdump -h -S -z simple-test-CW308_STM32F4.elf > simple-test-CW308_STM32F4.lss\n",
      ".\n",
      "Creating Symbol Table: simple-test-CW308_STM32F4.sym\n",
      "arm-none-eabi-nm -n simple-test-CW308_STM32F4.elf > simple-test-CW308_STM32F4.sym\n",
      "SS_VER set to SS_VER_1_1\n",
      "SS_VER set to SS_VER_1_1\n",
      "Size after:\n",
      "   text\t   data\t    bss\t    dec\t    hex\tfilename\n",
      "  37356\t   1132\t  44208\t  82696\t  14308\tsimple-test-CW308_STM32F4.elf\n",
      "+--------------------------------------------------------\n",
      "+ Default target does full rebuild each time.\n",
      "+ Specify buildtarget == allquick == to avoid full rebuild\n",
      "+--------------------------------------------------------\n",
      "+--------------------------------------------------------\n",
      "+ Built for platform CW308T: STM32F4 Target with:\n",
      "+ CRYPTO_TARGET = NONE\n",
      "+ CRYPTO_OPTIONS = NONE\n",
      "+--------------------------------------------------------\n"
     ]
    }
   ],
   "source": [
    "%%bash -s \"$PLATFORM\" \"$SS_VER\"\n",
    "cd ../tracescapture/2024dilithium\n",
    "make PLATFORM=$1 CRYPTO_TARGET=NONE SS_VER=$2"
   ]
  },
  {
   "cell_type": "code",
   "execution_count": 4,
   "id": "7ac7f15c",
   "metadata": {
    "scrolled": true
   },
   "outputs": [
    {
     "name": "stdout",
     "output_type": "stream",
     "text": [
      "Detected known STMF32: STM32F40xxx/41xxx\n",
      "Extended erase (0x44), this can take ten seconds or more\n",
      "Attempting to program 38487 bytes at 0x8000000\n",
      "STM32F Programming flash...\n",
      "STM32F Reading flash...\n",
      "Verified flash OK, 38487 bytes\n"
     ]
    }
   ],
   "source": [
    "cw.program_target(scope, prog, \"../tracescapture/2024dilithium/simple-test-{}.hex\".format(PLATFORM))"
   ]
  },
  {
   "cell_type": "markdown",
   "id": "f67a6174",
   "metadata": {},
   "source": [
    "Setup PicoScope. This part is for channels."
   ]
  },
  {
   "cell_type": "code",
   "execution_count": 5,
   "id": "3226da9e",
   "metadata": {},
   "outputs": [],
   "source": [
    "import ctypes\n",
    "\n",
    "from picosdk.ps5000a import ps5000a as ps\n",
    "import matplotlib.pyplot as plt\n",
    "from picosdk.functions import adc2mV, assert_pico_ok, mV2adc\n",
    "\n",
    "# Create chandle and status ready for use\n",
    "chandle = ctypes.c_int16()\n",
    "status = {}\n",
    "\n",
    "# Open 5000 series PicoScope\n",
    "# Resolution set to 12 Bit\n",
    "# 设置示波器的BIT，默认为12BIT\n",
    "resolution =ps.PS5000A_DEVICE_RESOLUTION[\"PS5000A_DR_12BIT\"]\n",
    "# Returns handle to chandle for use in future API functions\n",
    "status[\"openunit\"] = ps.ps5000aOpenUnit(ctypes.byref(chandle), None, resolution)\n",
    "\n",
    "try:\n",
    "    assert_pico_ok(status[\"openunit\"])\n",
    "except: # PicoNotOkError:\n",
    "    powerStatus = status[\"openunit\"]\n",
    "    if powerStatus == 286:\n",
    "        status[\"changePowerSource\"] = ps.ps5000aChangePowerSource(chandle, powerStatus)\n",
    "    elif powerStatus == 282:\n",
    "        status[\"changePowerSource\"] = ps.ps5000aChangePowerSource(chandle, powerStatus)\n",
    "    else:\n",
    "        raise\n",
    "    assert_pico_ok(status[\"changePowerSource\"])"
   ]
  },
  {
   "cell_type": "markdown",
   "id": "db99ec4b",
   "metadata": {},
   "source": [
    "Parameters. Check the official software for correct values."
   ]
  },
  {
   "cell_type": "code",
   "execution_count": 6,
   "id": "c852932a",
   "metadata": {},
   "outputs": [],
   "source": [
    "# Set up channel A\n",
    "# handle = chandle\n",
    "\n",
    "channel = ps.PS5000A_CHANNEL[\"PS5000A_CHANNEL_A\"]\n",
    "# enabled = 1\n",
    "coupling_type = ps.PS5000A_COUPLING[\"PS5000A_DC\"]\n",
    "chARange = ps.PS5000A_RANGE[\"PS5000A_20V\"]\n",
    "# analogue offset = 0 V\n",
    "status[\"setChA\"] = ps.ps5000aSetChannel(chandle, channel, 1, coupling_type, chARange, 0)\n",
    "assert_pico_ok(status[\"setChA\"])\n",
    "\n",
    "# Set up channel B\n",
    "# handle = chandle\n",
    "channel = ps.PS5000A_CHANNEL[\"PS5000A_CHANNEL_B\"]\n",
    "# enabled = 1\n",
    "\n",
    "coupling_type2 = ps.PS5000A_COUPLING[\"PS5000A_AC\"]\n",
    "#chBRange = ps.PS5000A_RANGE[\"PS5000A_2V\"]\n",
    "chBRange = ps.PS5000A_RANGE[\"PS5000A_50MV\"]\n",
    "# analogue offset = 0 V\n",
    "status[\"setChB\"] = ps.ps5000aSetChannel(chandle, channel, 1, coupling_type2, chBRange, 0)\n",
    "assert_pico_ok(status[\"setChB\"])\n",
    "\n",
    "# find maximum ADC count value\n",
    "# handle = chandle\n",
    "# pointer to value = ctypes.byref(maxADC)\n",
    "maxADC = ctypes.c_int16()\n",
    "status[\"maximumValue\"] = ps.ps5000aMaximumValue(chandle, ctypes.byref(maxADC))\n",
    "assert_pico_ok(status[\"maximumValue\"])\n",
    "\n",
    "# Set up single trigger\n",
    "# handle = chandle\n",
    "# enabled = 1\n",
    "source = ps.PS5000A_CHANNEL[\"PS5000A_CHANNEL_A\"]\n",
    "threshold = int(mV2adc(200,chARange, maxADC))\n",
    "# direction = PS5000A_RISING = 2\n",
    "# delay = 0 s\n",
    "# auto Trigger = 1000 ms\n",
    "#status[\"trigger\"] = ps.ps5000aSetSimpleTrigger(chandle, 1, source, threshold, 2, 0, 1000)\n",
    "status[\"trigger\"] = ps.ps5000aSetSimpleTrigger(chandle, 1, source, threshold, 2, 0, 10000)\n",
    "\n",
    "assert_pico_ok(status[\"trigger\"])\n",
    "\n",
    "\n",
    "# Set number of pre and post trigger samples to be collected\n",
    "#####################参数###############################################\n",
    "preTriggerSamples = 0\n",
    "\n",
    "# postTriggerSamples = 46000\n",
    "postTriggerSamples = 10000\n",
    "#####################################################################\n",
    "maxSamples = preTriggerSamples + postTriggerSamples\n",
    "\n",
    "# Get timebase information\n",
    "# Warning: When using this example it may not be possible to access all Timebases as all channels are enabled by default when opening the scope.  \n",
    "# To access these Timebases, set any unused analogue channels to off.\n",
    "# handle = chandle\n",
    "\n",
    "#####################参数#############################\n",
    "#timebase = 8\n",
    "timebase = 8\n",
    "######################################################\n",
    "#timebase = 8  , 20.8 MHZ\n",
    "# noSamples = maxSamples\n",
    "# pointer to timeIntervalNanoseconds = ctypes.byref(timeIntervalns)\n",
    "# pointer to maxSamples = ctypes.byref(returnedMaxSamples)\n",
    "# segment index = 0\n",
    "timeIntervalns = ctypes.c_float()\n",
    "returnedMaxSamples = ctypes.c_int32()\n",
    "status[\"getTimebase2\"] = ps.ps5000aGetTimebase2(chandle, timebase, maxSamples, ctypes.byref(timeIntervalns), ctypes.byref(returnedMaxSamples), 0)\n",
    "assert_pico_ok(status[\"getTimebase2\"])"
   ]
  },
  {
   "cell_type": "markdown",
   "id": "303f9a8c",
   "metadata": {},
   "source": [
    "Helpful functions."
   ]
  },
  {
   "cell_type": "code",
   "execution_count": 7,
   "id": "691850f2",
   "metadata": {
    "scrolled": true
   },
   "outputs": [
    {
     "name": "stdout",
     "output_type": "stream",
     "text": [
      "[146, 171, 195, 50, 136, 226, 84, 161, 149, 187, 90, 205, 87, 51, 10, 227, 45, 134, 218, 108, 102, 192, 116, 15, 63, 132, 103, 133, 173, 142, 136, 21]\n"
     ]
    }
   ],
   "source": [
    "%matplotlib notebook\n",
    "import matplotlib.pylab as plt\n",
    "import random\n",
    "\n",
    "def convert_msg(m,length):\n",
    "    res = []\n",
    "    for j in range(0,length): \n",
    "        s = m[j*2:j*2+2]\n",
    "        s = \"0x\" + s\n",
    "        res.append(int(s,16))\n",
    "        #print(s,end=',')\n",
    "    \n",
    "    return res\n",
    "\n",
    "print(convert_msg(\"92abc33288e254a195bb5acd57330ae32d86da6c66c0740f3f846785ad8e8815\",32))"
   ]
  },
  {
   "cell_type": "markdown",
   "id": "8d1b7d57",
   "metadata": {},
   "source": [
    "You can run this function every time you boot up the program. It just randommly generates several plaintext. Change the parameters if it is necessary."
   ]
  },
  {
   "cell_type": "code",
   "execution_count": 8,
   "id": "13b03f14",
   "metadata": {},
   "outputs": [
    {
     "name": "stdout",
     "output_type": "stream",
     "text": [
      "已成功在'D:\\DCPA\\m.txt'文件中生成了200个32长度的随机字符串。\n"
     ]
    }
   ],
   "source": [
    "import os\n",
    "import random\n",
    "import string\n",
    "\n",
    "def generate_random_hex_string(length):\n",
    "    return ''.join([format(random.randint(0, 15), 'x') for _ in range(length)])\n",
    "\n",
    "def write_random_hex_strings_to_file(file_path, count):\n",
    "    with open(file_path, 'w') as output_file:\n",
    "        for _ in range(count):\n",
    "            random_hex_string = generate_random_hex_string(64)  # 因为两位十六进制代表一位字节，所以长度除以2\n",
    "            output_file.write(f\"{random_hex_string}\\n\")\n",
    "\n",
    "# 使用示例\n",
    "output_file_name = r\"D:\\DCPA\\m.txt\"\n",
    "write_random_hex_strings_to_file(output_file_name, 10000)\n",
    "\n",
    "print(f\"已成功在'{output_file_name}'文件中生成了{200}个32byte长度的随机字符串。\")"
   ]
  },
  {
   "cell_type": "markdown",
   "id": "9b5c1bb9",
   "metadata": {},
   "source": [
    "Load generated plaintext."
   ]
  },
  {
   "cell_type": "code",
   "execution_count": 9,
   "id": "93eec09c",
   "metadata": {},
   "outputs": [],
   "source": [
    "def read_hex_strings_from_file(file_path):\n",
    "    with open(file_path, 'r') as input_file:\n",
    "        hex_strings = [line.strip() for line in input_file]\n",
    "    return hex_strings\n",
    "\n",
    "# 使用示例\n",
    "input_file_name = r\"D:\\DCPA\\m.txt\"\n",
    "hex_list = read_hex_strings_from_file(input_file_name)"
   ]
  },
  {
   "cell_type": "markdown",
   "id": "119d9a4a",
   "metadata": {},
   "source": [
    "Collect traces."
   ]
  },
  {
   "cell_type": "code",
   "execution_count": 10,
   "id": "546f0b11",
   "metadata": {
    "scrolled": true
   },
   "outputs": [
    {
     "name": "stderr",
     "output_type": "stream",
     "text": [
      "C:\\Users\\admin\\AppData\\Local\\Temp\\ipykernel_2764\\4062023421.py:73: TqdmDeprecationWarning: Please use `tqdm.notebook.trange` instead of `tqdm.tnrange`\n",
      "  for p in tnrange(part):  # 遍历所有的part\n"
     ]
    },
    {
     "data": {
      "application/vnd.jupyter.widget-view+json": {
       "model_id": "1e1c82bdc4cd4e79a06d10d4a347c935",
       "version_major": 2,
       "version_minor": 0
      },
      "text/plain": [
       "  0%|          | 0/20 [00:00<?, ?it/s]"
      ]
     },
     "metadata": {},
     "output_type": "display_data"
    },
    {
     "name": "stderr",
     "output_type": "stream",
     "text": [
      "C:\\Users\\admin\\AppData\\Local\\Temp\\ipykernel_2764\\4062023421.py:23: TqdmDeprecationWarning: Please use `tqdm.notebook.trange` instead of `tqdm.tnrange`\n",
      "  for index_i in tnrange(num_of_traces):\n"
     ]
    },
    {
     "data": {
      "application/vnd.jupyter.widget-view+json": {
       "model_id": "0131bdd28b25449596a85ffa80a72ebe",
       "version_major": 2,
       "version_minor": 0
      },
      "text/plain": [
       "  0%|          | 0/500 [00:00<?, ?it/s]"
      ]
     },
     "metadata": {},
     "output_type": "display_data"
    },
    {
     "name": "stderr",
     "output_type": "stream",
     "text": [
      "(ChipWhisperer Target WARNING|File SimpleSerial.py:410) Unexpected start to command: \n"
     ]
    },
    {
     "name": "stdout",
     "output_type": "stream",
     "text": [
      "[0]\n",
      "-1\n"
     ]
    },
    {
     "name": "stderr",
     "output_type": "stream",
     "text": [
      "(ChipWhisperer Target WARNING|File SimpleSerial.py:410) Unexpected start to command: \n"
     ]
    },
    {
     "name": "stdout",
     "output_type": "stream",
     "text": [
      "[0, 1]\n",
      "-1\n"
     ]
    },
    {
     "ename": "KeyboardInterrupt",
     "evalue": "",
     "output_type": "error",
     "traceback": [
      "\u001b[1;31m---------------------------------------------------------------------------\u001b[0m",
      "\u001b[1;31mKeyboardInterrupt\u001b[0m                         Traceback (most recent call last)",
      "Cell \u001b[1;32mIn[10], line 74\u001b[0m\n\u001b[0;32m     71\u001b[0m     \u001b[38;5;28;01mreturn\u001b[39;00m traces_array, text_in_array, text_out_array\n\u001b[0;32m     73\u001b[0m \u001b[38;5;28;01mfor\u001b[39;00m p \u001b[38;5;129;01min\u001b[39;00m tnrange(part):  \u001b[38;5;66;03m# 遍历所有的part\u001b[39;00m\n\u001b[1;32m---> 74\u001b[0m     traces_arr, text_in_arr, text_out_arr \u001b[38;5;241m=\u001b[39m \u001b[43mmainProcess\u001b[49m\u001b[43m(\u001b[49m\u001b[43mtraces_per_part\u001b[49m\u001b[43m)\u001b[49m\n\u001b[0;32m     75\u001b[0m     np\u001b[38;5;241m.\u001b[39msave(filename_of_traces \u001b[38;5;241m+\u001b[39m \u001b[38;5;124m\"\u001b[39m\u001b[38;5;124m_part\u001b[39m\u001b[38;5;132;01m{0}\u001b[39;00m\u001b[38;5;124m.npy\u001b[39m\u001b[38;5;124m\"\u001b[39m\u001b[38;5;241m.\u001b[39mformat(p \u001b[38;5;241m+\u001b[39m part_start_index), traces_arr)\n",
      "Cell \u001b[1;32mIn[10], line 62\u001b[0m, in \u001b[0;36mmainProcess\u001b[1;34m(num_of_traces)\u001b[0m\n\u001b[0;32m     59\u001b[0m \u001b[38;5;66;03m#plt.plot(adc2mVChAMax[:])\u001b[39;00m\n\u001b[0;32m     60\u001b[0m traces_array[index_i] \u001b[38;5;241m=\u001b[39m np\u001b[38;5;241m.\u001b[39marray(adc2mVChBMax[:])\n\u001b[1;32m---> 62\u001b[0m c_tilde \u001b[38;5;241m=\u001b[39m \u001b[43mtarget\u001b[49m\u001b[38;5;241;43m.\u001b[39;49m\u001b[43msimpleserial_read\u001b[49m\u001b[43m(\u001b[49m\u001b[38;5;124;43m'\u001b[39;49m\u001b[38;5;124;43mr\u001b[39;49m\u001b[38;5;124;43m'\u001b[39;49m\u001b[43m,\u001b[49m\u001b[38;5;241;43m32\u001b[39;49m\u001b[43m,\u001b[49m\u001b[43m \u001b[49m\u001b[43mtimeout\u001b[49m\u001b[43m \u001b[49m\u001b[38;5;241;43m=\u001b[39;49m\u001b[43m \u001b[49m\u001b[38;5;241;43m12000\u001b[39;49m\u001b[43m)\u001b[49m\n\u001b[0;32m     63\u001b[0m \u001b[38;5;28;01mif\u001b[39;00m c_tilde \u001b[38;5;129;01mis\u001b[39;00m \u001b[38;5;28;01mNone\u001b[39;00m:\n\u001b[0;32m     64\u001b[0m     error_list\u001b[38;5;241m.\u001b[39mappend(index_i)\n",
      "File \u001b[1;32mc:\\users\\admin\\chipwhisperer5_64\\cw\\home\\portable\\chipwhisperer\\software\\chipwhisperer\\capture\\targets\\SimpleSerial.py:404\u001b[0m, in \u001b[0;36mSimpleSerial.simpleserial_read\u001b[1;34m(self, cmd, pay_len, end, timeout, ack)\u001b[0m\n\u001b[0;32m    402\u001b[0m ascii_len \u001b[38;5;241m=\u001b[39m pay_len \u001b[38;5;241m*\u001b[39m \u001b[38;5;241m2\u001b[39m\n\u001b[0;32m    403\u001b[0m recv_len \u001b[38;5;241m=\u001b[39m cmd_len \u001b[38;5;241m+\u001b[39m ascii_len \u001b[38;5;241m+\u001b[39m \u001b[38;5;28mlen\u001b[39m(end)\n\u001b[1;32m--> 404\u001b[0m response \u001b[38;5;241m=\u001b[39m \u001b[38;5;28;43mself\u001b[39;49m\u001b[38;5;241;43m.\u001b[39;49m\u001b[43mread\u001b[49m\u001b[43m(\u001b[49m\u001b[43mrecv_len\u001b[49m\u001b[43m,\u001b[49m\u001b[43m \u001b[49m\u001b[43mtimeout\u001b[49m\u001b[38;5;241;43m=\u001b[39;49m\u001b[43mtimeout\u001b[49m\u001b[43m)\u001b[49m\n\u001b[0;32m    405\u001b[0m \u001b[38;5;28mself\u001b[39m\u001b[38;5;241m.\u001b[39m_simpleserial_last_read \u001b[38;5;241m=\u001b[39m response\n\u001b[0;32m    407\u001b[0m payload \u001b[38;5;241m=\u001b[39m \u001b[38;5;28mbytearray\u001b[39m(pay_len)\n",
      "File \u001b[1;32mc:\\users\\admin\\chipwhisperer5_64\\cw\\home\\portable\\chipwhisperer\\software\\chipwhisperer\\capture\\targets\\SimpleSerial.py:286\u001b[0m, in \u001b[0;36mSimpleSerial.read\u001b[1;34m(self, num_char, timeout)\u001b[0m\n\u001b[0;32m    284\u001b[0m     \u001b[38;5;28;01mif\u001b[39;00m num_char \u001b[38;5;241m==\u001b[39m \u001b[38;5;241m0\u001b[39m:\n\u001b[0;32m    285\u001b[0m         num_char \u001b[38;5;241m=\u001b[39m \u001b[38;5;28mself\u001b[39m\u001b[38;5;241m.\u001b[39mser\u001b[38;5;241m.\u001b[39minWaiting()\n\u001b[1;32m--> 286\u001b[0m     \u001b[38;5;28;01mreturn\u001b[39;00m \u001b[38;5;28;43mself\u001b[39;49m\u001b[38;5;241;43m.\u001b[39;49m\u001b[43mser\u001b[49m\u001b[38;5;241;43m.\u001b[39;49m\u001b[43mread\u001b[49m\u001b[43m(\u001b[49m\u001b[43mnum_char\u001b[49m\u001b[43m,\u001b[49m\u001b[43m \u001b[49m\u001b[43mtimeout\u001b[49m\u001b[43m)\u001b[49m\n\u001b[0;32m    287\u001b[0m \u001b[38;5;28;01mexcept\u001b[39;00m \u001b[38;5;167;01mException\u001b[39;00m \u001b[38;5;28;01mas\u001b[39;00m e:\n\u001b[0;32m    288\u001b[0m     \u001b[38;5;28mself\u001b[39m\u001b[38;5;241m.\u001b[39mdis()\n",
      "File \u001b[1;32mc:\\users\\admin\\chipwhisperer5_64\\cw\\home\\portable\\chipwhisperer\\software\\chipwhisperer\\capture\\targets\\simpleserial_readers\\_base.py:135\u001b[0m, in \u001b[0;36mSimpleSerialTemplate.read\u001b[1;34m(self, num, timeout)\u001b[0m\n\u001b[0;32m    132\u001b[0m     \u001b[38;5;28;01mreturn\u001b[39;00m ret\u001b[38;5;241m.\u001b[39mdecode(\u001b[38;5;124m'\u001b[39m\u001b[38;5;124mlatin-1\u001b[39m\u001b[38;5;124m'\u001b[39m)\n\u001b[0;32m    134\u001b[0m \u001b[38;5;66;03m# If we didn't get enough data, try to read more from the hardware\u001b[39;00m\n\u001b[1;32m--> 135\u001b[0m data \u001b[38;5;241m=\u001b[39m \u001b[38;5;28mbytearray\u001b[39m(\u001b[38;5;28;43mself\u001b[39;49m\u001b[38;5;241;43m.\u001b[39;49m\u001b[43mhardware_read\u001b[49m\u001b[43m(\u001b[49m\u001b[43mnum\u001b[49m\u001b[43m,\u001b[49m\u001b[43m \u001b[49m\u001b[43mtimeout\u001b[49m\u001b[38;5;241;43m=\u001b[39;49m\u001b[43mtimeout\u001b[49m\u001b[43m)\u001b[49m)\u001b[38;5;241m.\u001b[39mdecode(\u001b[38;5;124m'\u001b[39m\u001b[38;5;124mlatin-1\u001b[39m\u001b[38;5;124m'\u001b[39m)\n\u001b[0;32m    136\u001b[0m \u001b[38;5;28;01mfor\u001b[39;00m c \u001b[38;5;129;01min\u001b[39;00m data:\n\u001b[0;32m    137\u001b[0m     \u001b[38;5;28mself\u001b[39m\u001b[38;5;241m.\u001b[39mterminal_queue\u001b[38;5;241m.\u001b[39mappend([\u001b[38;5;124m'\u001b[39m\u001b[38;5;124min\u001b[39m\u001b[38;5;124m'\u001b[39m, c])\n",
      "File \u001b[1;32mc:\\users\\admin\\chipwhisperer5_64\\cw\\home\\portable\\chipwhisperer\\software\\chipwhisperer\\capture\\targets\\simpleserial_readers\\cwlite.py:72\u001b[0m, in \u001b[0;36mSimpleSerial_ChipWhispererLite.hardware_read\u001b[1;34m(self, num, timeout)\u001b[0m\n\u001b[0;32m     71\u001b[0m \u001b[38;5;28;01mdef\u001b[39;00m \u001b[38;5;21mhardware_read\u001b[39m(\u001b[38;5;28mself\u001b[39m, num, timeout\u001b[38;5;241m=\u001b[39m\u001b[38;5;241m250\u001b[39m):\n\u001b[1;32m---> 72\u001b[0m     \u001b[38;5;28;01mreturn\u001b[39;00m \u001b[38;5;28;43mself\u001b[39;49m\u001b[38;5;241;43m.\u001b[39;49m\u001b[43mcwlite_usart\u001b[49m\u001b[38;5;241;43m.\u001b[39;49m\u001b[43mread\u001b[49m\u001b[43m(\u001b[49m\u001b[43mnum\u001b[49m\u001b[43m,\u001b[49m\u001b[43m \u001b[49m\u001b[43mtimeout\u001b[49m\u001b[43m)\u001b[49m\n",
      "File \u001b[1;32mc:\\users\\admin\\chipwhisperer5_64\\cw\\home\\portable\\chipwhisperer\\software\\chipwhisperer\\hardware\\naeusb\\serial.py:213\u001b[0m, in \u001b[0;36mUSART.read\u001b[1;34m(self, dlen, timeout)\u001b[0m\n\u001b[0;32m    211\u001b[0m     resp\u001b[38;5;241m.\u001b[39mextend(newdata)\n\u001b[0;32m    212\u001b[0m     dlen \u001b[38;5;241m-\u001b[39m\u001b[38;5;241m=\u001b[39m \u001b[38;5;28mlen\u001b[39m(newdata)\n\u001b[1;32m--> 213\u001b[0m waiting \u001b[38;5;241m=\u001b[39m \u001b[38;5;28;43mself\u001b[39;49m\u001b[38;5;241;43m.\u001b[39;49m\u001b[43minWaiting\u001b[49m\u001b[43m(\u001b[49m\u001b[43m)\u001b[49m\n\u001b[0;32m    214\u001b[0m timeout \u001b[38;5;241m-\u001b[39m\u001b[38;5;241m=\u001b[39m \u001b[38;5;241m1\u001b[39m\n\u001b[0;32m    215\u001b[0m \u001b[38;5;66;03m# time.sleep(0.001)\u001b[39;00m\n",
      "File \u001b[1;32mc:\\users\\admin\\chipwhisperer5_64\\cw\\home\\portable\\chipwhisperer\\software\\chipwhisperer\\hardware\\naeusb\\serial.py:179\u001b[0m, in \u001b[0;36mUSART.inWaiting\u001b[1;34m(self)\u001b[0m\n\u001b[0;32m    175\u001b[0m \u001b[38;5;250m\u001b[39m\u001b[38;5;124;03m\"\"\"\u001b[39;00m\n\u001b[0;32m    176\u001b[0m \u001b[38;5;124;03mGet number of bytes waiting to be read.\u001b[39;00m\n\u001b[0;32m    177\u001b[0m \u001b[38;5;124;03m\"\"\"\u001b[39;00m\n\u001b[0;32m    178\u001b[0m \u001b[38;5;66;03m# print \"Checking Waiting...\"\u001b[39;00m\n\u001b[1;32m--> 179\u001b[0m data \u001b[38;5;241m=\u001b[39m \u001b[38;5;28;43mself\u001b[39;49m\u001b[38;5;241;43m.\u001b[39;49m\u001b[43m_usartRxCmd\u001b[49m\u001b[43m(\u001b[49m\u001b[38;5;28;43mself\u001b[39;49m\u001b[38;5;241;43m.\u001b[39;49m\u001b[43mUSART_CMD_NUMWAIT\u001b[49m\u001b[43m,\u001b[49m\u001b[43m \u001b[49m\u001b[43mdlen\u001b[49m\u001b[38;5;241;43m=\u001b[39;49m\u001b[38;5;241;43m4\u001b[39;49m\u001b[43m)\u001b[49m\n\u001b[0;32m    180\u001b[0m \u001b[38;5;66;03m# print data\u001b[39;00m\n\u001b[0;32m    181\u001b[0m \u001b[38;5;28;01mreturn\u001b[39;00m data[\u001b[38;5;241m0\u001b[39m]\n",
      "File \u001b[1;32mc:\\users\\admin\\chipwhisperer5_64\\cw\\home\\portable\\chipwhisperer\\software\\chipwhisperer\\hardware\\naeusb\\serial.py:236\u001b[0m, in \u001b[0;36mUSART._usartRxCmd\u001b[1;34m(self, cmd, dlen)\u001b[0m\n\u001b[0;32m    232\u001b[0m \u001b[38;5;250m\u001b[39m\u001b[38;5;124;03m\"\"\"\u001b[39;00m\n\u001b[0;32m    233\u001b[0m \u001b[38;5;124;03mRead the result of some command (internal function).\u001b[39;00m\n\u001b[0;32m    234\u001b[0m \u001b[38;5;124;03m\"\"\"\u001b[39;00m\n\u001b[0;32m    235\u001b[0m \u001b[38;5;66;03m# windex selects interface, set to 0\u001b[39;00m\n\u001b[1;32m--> 236\u001b[0m \u001b[38;5;28;01mreturn\u001b[39;00m \u001b[38;5;28;43mself\u001b[39;49m\u001b[38;5;241;43m.\u001b[39;49m\u001b[43m_usb\u001b[49m\u001b[38;5;241;43m.\u001b[39;49m\u001b[43mreadCtrl\u001b[49m\u001b[43m(\u001b[49m\u001b[38;5;28;43mself\u001b[39;49m\u001b[38;5;241;43m.\u001b[39;49m\u001b[43mCMD_USART0_CONFIG\u001b[49m\u001b[43m,\u001b[49m\u001b[43m \u001b[49m\u001b[43mcmd\u001b[49m\u001b[43m \u001b[49m\u001b[38;5;241;43m|\u001b[39;49m\u001b[43m \u001b[49m\u001b[43m(\u001b[49m\u001b[38;5;28;43mself\u001b[39;49m\u001b[38;5;241;43m.\u001b[39;49m\u001b[43m_usart_num\u001b[49m\u001b[43m \u001b[49m\u001b[38;5;241;43m<<\u001b[39;49m\u001b[43m \u001b[49m\u001b[38;5;241;43m8\u001b[39;49m\u001b[43m)\u001b[49m\u001b[43m,\u001b[49m\u001b[43m \u001b[49m\u001b[43mdlen\u001b[49m\u001b[43m)\u001b[49m\n",
      "File \u001b[1;32mc:\\users\\admin\\chipwhisperer5_64\\cw\\home\\portable\\chipwhisperer\\software\\chipwhisperer\\hardware\\naeusb\\naeusb.py:749\u001b[0m, in \u001b[0;36mNAEUSB.readCtrl\u001b[1;34m(self, cmd, value, dlen)\u001b[0m\n\u001b[0;32m    745\u001b[0m \u001b[38;5;250m\u001b[39m\u001b[38;5;124;03m\"\"\"\u001b[39;00m\n\u001b[0;32m    746\u001b[0m \u001b[38;5;124;03mRead data from control endpoint\u001b[39;00m\n\u001b[0;32m    747\u001b[0m \u001b[38;5;124;03m\"\"\"\u001b[39;00m\n\u001b[0;32m    748\u001b[0m \u001b[38;5;66;03m# Vendor-specific, IN, interface control transfer\u001b[39;00m\n\u001b[1;32m--> 749\u001b[0m \u001b[38;5;28;01mreturn\u001b[39;00m \u001b[38;5;28;43mself\u001b[39;49m\u001b[38;5;241;43m.\u001b[39;49m\u001b[43musbserializer\u001b[49m\u001b[38;5;241;43m.\u001b[39;49m\u001b[43mreadCtrl\u001b[49m\u001b[43m(\u001b[49m\u001b[43mcmd\u001b[49m\u001b[43m,\u001b[49m\u001b[43m \u001b[49m\u001b[43mvalue\u001b[49m\u001b[43m,\u001b[49m\u001b[43m \u001b[49m\u001b[43mdlen\u001b[49m\u001b[43m)\u001b[49m\n",
      "File \u001b[1;32mc:\\users\\admin\\chipwhisperer5_64\\cw\\home\\portable\\chipwhisperer\\software\\chipwhisperer\\hardware\\naeusb\\naeusb.py:487\u001b[0m, in \u001b[0;36mNAEUSB_Backend.readCtrl\u001b[1;34m(self, cmd, value, dlen)\u001b[0m\n\u001b[0;32m    483\u001b[0m \u001b[38;5;250m\u001b[39m\u001b[38;5;124;03m\"\"\"\u001b[39;00m\n\u001b[0;32m    484\u001b[0m \u001b[38;5;124;03mRead data from control endpoint\u001b[39;00m\n\u001b[0;32m    485\u001b[0m \u001b[38;5;124;03m\"\"\"\u001b[39;00m\n\u001b[0;32m    486\u001b[0m \u001b[38;5;66;03m# Vendor-specific, IN, interface control transfer\u001b[39;00m\n\u001b[1;32m--> 487\u001b[0m response \u001b[38;5;241m=\u001b[39m \u001b[38;5;28;43mself\u001b[39;49m\u001b[38;5;241;43m.\u001b[39;49m\u001b[43mhandle\u001b[49m\u001b[38;5;241;43m.\u001b[39;49m\u001b[43mcontrolRead\u001b[49m\u001b[43m(\u001b[49m\u001b[38;5;241;43m0xC1\u001b[39;49m\u001b[43m,\u001b[49m\u001b[43m \u001b[49m\u001b[43mcmd\u001b[49m\u001b[43m,\u001b[49m\u001b[43m \u001b[49m\u001b[43mvalue\u001b[49m\u001b[43m,\u001b[49m\u001b[43m \u001b[49m\u001b[38;5;241;43m0\u001b[39;49m\u001b[43m,\u001b[49m\u001b[43m \u001b[49m\u001b[43mdlen\u001b[49m\u001b[43m,\u001b[49m\u001b[43m \u001b[49m\u001b[43mtimeout\u001b[49m\u001b[38;5;241;43m=\u001b[39;49m\u001b[38;5;28;43mself\u001b[39;49m\u001b[38;5;241;43m.\u001b[39;49m\u001b[43m_timeout\u001b[49m\u001b[43m)\u001b[49m\n\u001b[0;32m    488\u001b[0m naeusb_logger\u001b[38;5;241m.\u001b[39mdebug(\u001b[38;5;124m\"\u001b[39m\u001b[38;5;124mREAD_CTRL: bmRequestType: \u001b[39m\u001b[38;5;132;01m{:02X}\u001b[39;00m\u001b[38;5;124m, \u001b[39m\u001b[38;5;130;01m\\\u001b[39;00m\n\u001b[0;32m    489\u001b[0m \u001b[38;5;124m            bRequest: \u001b[39m\u001b[38;5;132;01m{:02X}\u001b[39;00m\u001b[38;5;124m, wValue: \u001b[39m\u001b[38;5;132;01m{:04X}\u001b[39;00m\u001b[38;5;124m, wIndex: \u001b[39m\u001b[38;5;132;01m{:04X}\u001b[39;00m\u001b[38;5;124m, data_len: \u001b[39m\u001b[38;5;132;01m{:04X}\u001b[39;00m\u001b[38;5;124m, response: \u001b[39m\u001b[38;5;132;01m{}\u001b[39;00m\u001b[38;5;124m\"\u001b[39m\u001b[38;5;241m.\u001b[39mformat(\u001b[38;5;241m0xC1\u001b[39m, cmd, \\\n\u001b[0;32m    490\u001b[0m                 value, \u001b[38;5;241m0\u001b[39m, dlen, response))\n\u001b[0;32m    491\u001b[0m \u001b[38;5;28;01mreturn\u001b[39;00m response\n",
      "File \u001b[1;32m~\\CHIPWH~1\\cw\\home\\portable\\WPy64-31080\\python-3.10.8.amd64\\lib\\site-packages\\usb1\\__init__.py:1350\u001b[0m, in \u001b[0;36mUSBDeviceHandle.controlRead\u001b[1;34m(self, request_type, request, value, index, length, timeout)\u001b[0m\n\u001b[0;32m   1348\u001b[0m \u001b[38;5;66;03m# pylint: enable=undefined-variable\u001b[39;00m\n\u001b[0;32m   1349\u001b[0m data, data_buffer \u001b[38;5;241m=\u001b[39m create_binary_buffer(length)\n\u001b[1;32m-> 1350\u001b[0m transferred \u001b[38;5;241m=\u001b[39m \u001b[38;5;28;43mself\u001b[39;49m\u001b[38;5;241;43m.\u001b[39;49m\u001b[43m_controlTransfer\u001b[49m\u001b[43m(\u001b[49m\n\u001b[0;32m   1351\u001b[0m \u001b[43m    \u001b[49m\u001b[43mrequest_type\u001b[49m\u001b[43m,\u001b[49m\u001b[43m \u001b[49m\u001b[43mrequest\u001b[49m\u001b[43m,\u001b[49m\u001b[43m \u001b[49m\u001b[43mvalue\u001b[49m\u001b[43m,\u001b[49m\u001b[43m \u001b[49m\u001b[43mindex\u001b[49m\u001b[43m,\u001b[49m\u001b[43m \u001b[49m\u001b[43mdata\u001b[49m\u001b[43m,\u001b[49m\u001b[43m \u001b[49m\u001b[43mlength\u001b[49m\u001b[43m,\u001b[49m\u001b[43m \u001b[49m\u001b[43mtimeout\u001b[49m\u001b[43m,\u001b[49m\n\u001b[0;32m   1352\u001b[0m \u001b[43m\u001b[49m\u001b[43m)\u001b[49m\n\u001b[0;32m   1353\u001b[0m \u001b[38;5;28;01mreturn\u001b[39;00m data_buffer[:transferred]\n",
      "File \u001b[1;32m~\\CHIPWH~1\\cw\\home\\portable\\WPy64-31080\\python-3.10.8.amd64\\lib\\site-packages\\usb1\\__init__.py:1303\u001b[0m, in \u001b[0;36mUSBDeviceHandle._controlTransfer\u001b[1;34m(self, request_type, request, value, index, data, length, timeout)\u001b[0m\n\u001b[0;32m   1301\u001b[0m \u001b[38;5;28;01mdef\u001b[39;00m \u001b[38;5;21m_controlTransfer\u001b[39m(\n\u001b[0;32m   1302\u001b[0m         \u001b[38;5;28mself\u001b[39m, request_type, request, value, index, data, length, timeout):\n\u001b[1;32m-> 1303\u001b[0m     result \u001b[38;5;241m=\u001b[39m \u001b[43mlibusb1\u001b[49m\u001b[38;5;241;43m.\u001b[39;49m\u001b[43mlibusb_control_transfer\u001b[49m\u001b[43m(\u001b[49m\n\u001b[0;32m   1304\u001b[0m \u001b[43m        \u001b[49m\u001b[38;5;28;43mself\u001b[39;49m\u001b[38;5;241;43m.\u001b[39;49m\u001b[43m__handle\u001b[49m\u001b[43m,\u001b[49m\u001b[43m \u001b[49m\u001b[43mrequest_type\u001b[49m\u001b[43m,\u001b[49m\u001b[43m \u001b[49m\u001b[43mrequest\u001b[49m\u001b[43m,\u001b[49m\u001b[43m \u001b[49m\u001b[43mvalue\u001b[49m\u001b[43m,\u001b[49m\u001b[43m \u001b[49m\u001b[43mindex\u001b[49m\u001b[43m,\u001b[49m\u001b[43m \u001b[49m\u001b[43mdata\u001b[49m\u001b[43m,\u001b[49m\u001b[43m \u001b[49m\u001b[43mlength\u001b[49m\u001b[43m,\u001b[49m\n\u001b[0;32m   1305\u001b[0m \u001b[43m        \u001b[49m\u001b[43mtimeout\u001b[49m\u001b[43m,\u001b[49m\n\u001b[0;32m   1306\u001b[0m \u001b[43m    \u001b[49m\u001b[43m)\u001b[49m\n\u001b[0;32m   1307\u001b[0m     mayRaiseUSBError(result)\n\u001b[0;32m   1308\u001b[0m     \u001b[38;5;28;01mreturn\u001b[39;00m result\n",
      "\u001b[1;31mKeyboardInterrupt\u001b[0m: "
     ]
    }
   ],
   "source": [
    "from tqdm import tnrange\n",
    "from tqdm.auto import tqdm\n",
    "import gc\n",
    "import numpy as np\n",
    "\n",
    "traces_per_part = 500  # 每一块文件多少条曲线\n",
    "part = 20  # 分成多少块文件\n",
    "part_start_index = 0  # 序号从多少块开始。如果是初始采集，就设置为0\n",
    "\n",
    "\n",
    "filename_of_traces = r\"D:\\DCPA\\trace\\trace\"\t# 曲线文件的文件名前缀\n",
    "#infile = open(r\"D:\\Demonstrate\\Dilithium\\train\\test.txt\")\n",
    "#infile = open(r\"D:\\DCPA\\pre_file\\test.txt\")\n",
    "total_traces = part * traces_per_part  # 总共要采集的曲线数目\n",
    "error_list = []\n",
    "\n",
    "def mainProcess(num_of_traces):\n",
    "\n",
    "    traces_array = np.empty(shape=(traces_per_part,maxSamples),dtype=np.float64)\n",
    "    text_in_array = hex_list\n",
    "    text_out_array = []\n",
    "\n",
    "    for index_i in tnrange(num_of_traces):\n",
    "        reset_target(scope)\n",
    "        \n",
    "        msg = convert_msg(hex_list[index_i],32)\n",
    "\n",
    "        target.simpleserial_write('p',bytearray(msg))\n",
    "        \n",
    "        status[\"runBlock\"] = ps.ps5000aRunBlock(chandle, preTriggerSamples, postTriggerSamples, timebase, None, 0, None, None)\n",
    "        assert_pico_ok(status[\"runBlock\"])\n",
    "        \n",
    "        ready = ctypes.c_int16(0)\n",
    "        check = ctypes.c_int16(0)\n",
    "        while ready.value == check.value:\n",
    "            status[\"isReady\"] = ps.ps5000aIsReady(chandle, ctypes.byref(ready))\n",
    "        \n",
    "        bufferAMax = (ctypes.c_int16 * maxSamples)()\n",
    "        bufferAMin = (ctypes.c_int16 * maxSamples)() \n",
    "        bufferBMax = (ctypes.c_int16 * maxSamples)()\n",
    "        bufferBMin = (ctypes.c_int16 * maxSamples)()\n",
    "        source = ps.PS5000A_CHANNEL[\"PS5000A_CHANNEL_A\"]\n",
    "        status[\"setDataBuffersA\"] = ps.ps5000aSetDataBuffers(chandle, source, ctypes.byref(bufferAMax), ctypes.byref(bufferAMin), maxSamples, 0, 0)\n",
    "        assert_pico_ok(status[\"setDataBuffersA\"])\n",
    "        source = ps.PS5000A_CHANNEL[\"PS5000A_CHANNEL_B\"]\n",
    "        status[\"setDataBuffersB\"] = ps.ps5000aSetDataBuffers(chandle, source, ctypes.byref(bufferBMax), ctypes.byref(bufferBMin), maxSamples, 0, 0)\n",
    "        assert_pico_ok(status[\"setDataBuffersB\"])\n",
    "        overflow = ctypes.c_int16()\n",
    "        cmaxSamples = ctypes.c_int32(maxSamples)\n",
    "        \n",
    "        status[\"getValues\"] = ps.ps5000aGetValues(chandle, 0, ctypes.byref(cmaxSamples), 0, 0, 0, ctypes.byref(overflow))\n",
    "        assert_pico_ok(status[\"getValues\"])\n",
    "        adc2mVChAMax =  adc2mV(bufferAMax, chARange, maxADC)\n",
    "        adc2mVChBMax =  adc2mV(bufferBMax, chBRange, maxADC)\n",
    "        \n",
    "        if adc2mVChBMax[0] == 32512 and adc2mVChBMax[-1] == 32512:\n",
    "            raise Exception('示波器采集错误，请重新采集')\n",
    "        \n",
    "        #plt.plot(adc2mVChAMax[:])\n",
    "        traces_array[index_i] = np.array(adc2mVChBMax[:])\n",
    "        \n",
    "        c_tilde = target.simpleserial_read('r',32, timeout = 12000)\n",
    "        if c_tilde is None:\n",
    "            error_list.append(index_i)\n",
    "            text_out_array.append(-1)\n",
    "            print(error_list)\n",
    "            print(text_out_array[-1])\n",
    "        else:\n",
    "            text_out_array.append(np.array(c_tilde))\n",
    "        \n",
    "    return traces_array, text_in_array, text_out_array\n",
    "\n",
    "for p in tnrange(part):  # 遍历所有的part\n",
    "    traces_arr, text_in_arr, text_out_arr = mainProcess(traces_per_part)\n",
    "    np.save(filename_of_traces + \"_part{0}.npy\".format(p + part_start_index), traces_arr)"
   ]
  },
  {
   "cell_type": "code",
   "execution_count": null,
   "id": "405119b8",
   "metadata": {},
   "outputs": [],
   "source": [
    "plt.plot(traces_arr[0])"
   ]
  },
  {
   "cell_type": "code",
   "execution_count": null,
   "id": "99e291d4",
   "metadata": {},
   "outputs": [],
   "source": [
    "def revert_msg(res):\n",
    "    res_list = res.tolist()\n",
    "    \n",
    "    m = \"\"\n",
    "    for value in res:\n",
    "        hex_str = format(value, '02x')\n",
    "        m += hex_str\n",
    "    return m\n"
   ]
  },
  {
   "cell_type": "code",
   "execution_count": null,
   "id": "9869831d",
   "metadata": {},
   "outputs": [],
   "source": [
    "print(revert_msg(text_out_arr[0]))\n",
    "print(convert_msg(\"a012e309aa1fecb49f73ad69c3f763bf9afc1f41c862c7be13c4904989b0b8ce\",32))"
   ]
  },
  {
   "cell_type": "code",
   "execution_count": 37,
   "id": "32711115",
   "metadata": {},
   "outputs": [
    {
     "ename": "NameError",
     "evalue": "name 'error_list' is not defined",
     "output_type": "error",
     "traceback": [
      "\u001b[1;31m---------------------------------------------------------------------------\u001b[0m",
      "\u001b[1;31mNameError\u001b[0m                                 Traceback (most recent call last)",
      "Cell \u001b[1;32mIn[37], line 1\u001b[0m\n\u001b[1;32m----> 1\u001b[0m \u001b[38;5;28mprint\u001b[39m(\u001b[43merror_list\u001b[49m)\n",
      "\u001b[1;31mNameError\u001b[0m: name 'error_list' is not defined"
     ]
    }
   ],
   "source": []
  },
  {
   "cell_type": "code",
   "execution_count": null,
   "id": "4bec6d05",
   "metadata": {},
   "outputs": [],
   "source": [
    "gc.collect()"
   ]
  },
  {
   "cell_type": "code",
   "execution_count": null,
   "id": "8efbcb8a",
   "metadata": {},
   "outputs": [],
   "source": [
    "# Stop the scope\n",
    "# handle = chandle\n",
    "status[\"stop\"] = ps.ps5000aStop(chandle)\n",
    "assert_pico_ok(status[\"stop\"])\n",
    "\n",
    "# Close unit Disconnect the scope\n",
    "# handle = chandle\n",
    "status[\"close\"]=ps.ps5000aCloseUnit(chandle)\n",
    "assert_pico_ok(status[\"close\"])\n",
    "\n",
    "# display status returns\n",
    "print(status)"
   ]
  },
  {
   "cell_type": "code",
   "execution_count": null,
   "id": "7c6407e2",
   "metadata": {},
   "outputs": [],
   "source": []
  },
  {
   "cell_type": "code",
   "execution_count": 5,
   "id": "a19007d4",
   "metadata": {},
   "outputs": [
    {
     "ename": "NameError",
     "evalue": "name 'text_out_arr' is not defined",
     "output_type": "error",
     "traceback": [
      "\u001b[1;31m---------------------------------------------------------------------------\u001b[0m",
      "\u001b[1;31mNameError\u001b[0m                                 Traceback (most recent call last)",
      "Cell \u001b[1;32mIn[5], line 10\u001b[0m\n\u001b[0;32m      7\u001b[0m \u001b[38;5;28;01mfrom\u001b[39;00m \u001b[38;5;21;01mdilithium\u001b[39;00m \u001b[38;5;28;01mimport\u001b[39;00m Dilithium,DEFAULT_PARAMETERS\n\u001b[0;32m      9\u001b[0m D \u001b[38;5;241m=\u001b[39m Dilithium(DEFAULT_PARAMETERS[\u001b[38;5;124m\"\u001b[39m\u001b[38;5;124mdilithium2\u001b[39m\u001b[38;5;124m\"\u001b[39m])\n\u001b[1;32m---> 10\u001b[0m c_tilde \u001b[38;5;241m=\u001b[39m \u001b[43mtext_out_arr\u001b[49m[\u001b[38;5;241m0\u001b[39m]\n\u001b[0;32m     11\u001b[0m c \u001b[38;5;241m=\u001b[39m D\u001b[38;5;241m.\u001b[39m_sample_in_ball(c_tilde)\n\u001b[0;32m     12\u001b[0m \u001b[38;5;28mtype\u001b[39m(c)\n",
      "\u001b[1;31mNameError\u001b[0m: name 'text_out_arr' is not defined"
     ]
    }
   ],
   "source": [
    "import numpy as np\n",
    "from tqdm import trange\n",
    "import numba as nb\n",
    "import time\n",
    "import sys\n",
    "sys.path.append(r\"D:\\Demonstrate\\Dilithium\\attack_show\\dilithium-py-main\")   ## 注意这里\n",
    "from dilithium import Dilithium,DEFAULT_PARAMETERS\n",
    "\n",
    "D = Dilithium(DEFAULT_PARAMETERS[\"dilithium2\"])\n",
    "c_tilde = text_out_arr[0]\n",
    "c = D._sample_in_ball(c_tilde)\n",
    "type(c)\n",
    "c.to_ntt()\n"
   ]
  },
  {
   "cell_type": "code",
   "execution_count": null,
   "id": "0418e465",
   "metadata": {},
   "outputs": [],
   "source": []
  },
  {
   "cell_type": "code",
   "execution_count": null,
   "id": "354fadf0",
   "metadata": {},
   "outputs": [],
   "source": []
  },
  {
   "cell_type": "code",
   "execution_count": null,
   "id": "a47923e3",
   "metadata": {},
   "outputs": [],
   "source": []
  },
  {
   "cell_type": "code",
   "execution_count": null,
   "id": "470a42b8",
   "metadata": {},
   "outputs": [],
   "source": []
  },
  {
   "cell_type": "code",
   "execution_count": null,
   "id": "4e65f3e8",
   "metadata": {},
   "outputs": [],
   "source": [
    "import os\n",
    "import random\n",
    "import string\n",
    "\n",
    "def generate_random_hex_string(length):\n",
    "    return ''.join([format(random.randint(0, 15), 'x') for _ in range(length)])\n",
    "\n",
    "def write_random_hex_strings_to_file(file_path, count):\n",
    "    with open(file_path, 'w') as output_file:\n",
    "        for _ in range(count):\n",
    "            random_hex_string = generate_random_hex_string(32)  # 因为两位十六进制代表一位字节，所以长度除以2\n",
    "            output_file.write(f\"{random_hex_string}\\n\")\n",
    "\n",
    "# 使用示例\n",
    "output_file_name = r\"D:\\DCPA\\m.txt\"\n",
    "write_random_hex_strings_to_file(output_file_name, 200)\n",
    "\n",
    "print(f\"已成功在'{output_file_name}'文件中生成了{200}个32长度的随机字符串。\")"
   ]
  },
  {
   "cell_type": "code",
   "execution_count": null,
   "id": "e0ff1e0e",
   "metadata": {},
   "outputs": [],
   "source": [
    "def read_hex_strings_from_file(file_path):\n",
    "    with open(file_path, 'r') as input_file:\n",
    "        hex_strings = [line.strip() for line in input_file]\n",
    "    return hex_strings\n",
    "\n",
    "# 使用示例\n",
    "input_file_name = r\"D:\\DCPA\\m.txt\"\n",
    "hex_list = read_hex_strings_from_file(input_file_name)\n",
    "\n",
    "print(f\"从'{input_file_name}'文件中成功读取了以下十六进制字符串：\")\n",
    "for hex_string in hex_list:\n",
    "    print(hex_string)"
   ]
  },
  {
   "cell_type": "code",
   "execution_count": null,
   "id": "91557c31",
   "metadata": {},
   "outputs": [],
   "source": []
  },
  {
   "cell_type": "code",
   "execution_count": null,
   "id": "f9c99e8a",
   "metadata": {},
   "outputs": [],
   "source": []
  },
  {
   "cell_type": "code",
   "execution_count": null,
   "id": "9ee993df",
   "metadata": {},
   "outputs": [],
   "source": []
  },
  {
   "cell_type": "markdown",
   "id": "e888eafb",
   "metadata": {},
   "source": [
    "s1 groundtruth"
   ]
  },
  {
   "cell_type": "code",
   "execution_count": null,
   "id": "0371f62c",
   "metadata": {},
   "outputs": [],
   "source": [
    "-2 2 2 -1 2 -1 -2 1 -2 -2 1 2 2 -2 1 -1 1 -2 0 2 1 -1 0 2 0 -1 1 1 0 -2 2 2 1 1 -1 -2 -1 1 1 2 2 -1 -2 2 0 2 -1 1 -1 2 -1 1 -1 2 0 -2 0 0 -1 1 -1 0 0 -2 0 -2 -1 -1 1 0 -2 -2 2 2 -2 0 -2 0 0 0 2 -2 2 -2 -1 1 1 2 0 -1 0 2 1 -2 -2 1 2 -1 1 0 2 0 0 -2 1 -1 0 2 -2 0 1 2 0 1 -1 -2 1 0 1 -1 2 -2 -2 0 -1 -2 2 -2 2 -2 0 2 2 2 0 1 -1 2 -1 2 -1 1 0 -1 -2 0 0 2 0 0 1 -2 2 -2 -1 1 -1 0 -2 2 1 2 -1 -2 -2 -2 2 2 -1 0 0 1 -2 -1 -2 2 -2 -2 2 2 1 1 -1 -2 2 -2 -2 2 0 2 1 1 2 0 -2 0 -1 1 -2 2 2 -1 0 -1 -2 -2 -2 -2 2 2 -2 -2 0 1 -1 2 1 1 -2 -2 2 2 1 1 -2 1 1 1 -2 2 2 2 2 -2 0 0 2 2 1 -1 0 0 -1 1 1 1 2 1 -1 0 0 0 -1 0 -2 2\n",
    "2 0 -2 0 0 2 -1 0 0 -2 -1 -2 0 0 0 -2 0 0 0 0 -1 -2 -2 -1 -2 -2 1 0 2 1 -2 1 0 -2 -1 2 2 0 2 0 2 -1 -1 1 1 -1 -2 -1 1 1 -1 1 2 1 2 -2 2 -2 2 1 0 -1 2 -1 1 0 2 -1 0 -1 -1 1 -1 -1 -2 -2 -1 -2 0 1 -1 -2 -1 0 -1 1 1 -2 -1 -2 1 -2 0 0 -1 -1 1 -1 -2 -1 0 -1 -1 1 1 1 -1 -1 1 0 -1 0 -2 -2 -1 -1 2 -1 2 1 2 -1 -1 2 2 0 2 2 0 -2 2 1 -2 0 -1 -2 2 -1 1 -2 2 -1 -1 -1 0 2 2 0 0 -1 -1 -2 0 0 1 -2 0 -1 -2 0 0 -2 1 2 1 0 1 0 0 2 0 0 2 1 -1 -2 2 1 -1 -2 -1 1 1 -1 1 -1 -1 2 -2 0 1 -1 2 1 1 1 0 0 2 -2 -2 -1 0 1 1 -2 0 1 2 2 1 1 1 -2 1 2 -2 1 -2 0 0 1 -2 0 1 1 -2 -1 -2 2 -1 0 2 -2 2 -2 -1 -2 -1 -1 2 -1 0 1 1 2 2 1 -1 2 -2 -2 1 -1 2 -2\n",
    "2 -2 -2 -2 -1 2 2 -1 1 2 -1 1 2 2 1 -1 0 2 2 0 -2 1 1 2 0 2 2 1 -2 0 0 -1 1 1 -1 1 1 -2 2 -2 1 -2 -1 1 0 1 2 1 0 2 -1 -1 -1 2 1 -2 2 2 0 1 2 -2 2 0 -2 -1 -1 1 -2 2 0 -1 1 2 -1 -1 -2 -2 -2 -1 -1 -2 -2 2 1 -2 0 1 -1 0 -1 -2 -1 -2 2 1 0 1 -1 1 1 -2 -1 0 2 1 -2 2 2 -2 -1 -1 0 1 -1 0 0 1 2 -2 1 2 -1 2 2 -2 1 -2 -2 -2 1 0 0 -1 -1 0 -1 -2 1 -1 2 -2 1 0 0 -1 -2 1 -1 2 2 -2 2 0 2 1 2 -2 1 -2 2 -2 -2 2 2 -2 1 -1 0 -2 2 -2 1 1 -1 -2 -2 -2 -2 2 1 0 0 1 2 -1 0 -1 -2 2 -2 0 0 1 0 1 2 2 1 2 1 1 -2 2 0 0 -1 2 0 -2 -1 -1 -1 1 0 -1 0 1 -1 -2 0 2 2 -2 0 -1 1 -2 0 0 0 -1 2 1 1 -1 -1 -2 -2 -2 -2 0 -2 1 -1 2 2 2 -1 -1 -2 -2 -2 2 2 0\n",
    "2 1 2 -2 2 2 0 -2 -1 -1 -2 2 0 -1 2 1 2 1 -2 1 2 -1 -1 1 2 2 -1 2 0 -1 2 -2 -2 0 -1 -1 -1 0 -2 0 0 1 1 2 -2 1 -2 0 -1 2 2 -1 -1 0 1 -1 0 -2 0 1 -1 -1 2 -1 1 0 0 0 1 -1 -1 1 1 -1 -2 -2 -2 -2 1 -2 1 -1 -1 -2 2 -1 2 1 -1 0 -1 -1 2 -2 2 0 -2 -2 2 0 1 -2 -2 0 2 0 -2 0 2 2 0 2 2 2 -2 -2 0 0 2 2 -1 -1 0 -2 0 -1 -2 -2 -1 -2 -2 2 -2 -2 -1 1 -1 2 -2 2 2 -1 2 1 1 1 0 -2 -1 0 0 2 -2 -2 -2 2 0 2 2 0 2 1 -2 0 0 0 2 -2 -1 -1 0 -2 2 1 0 -2 2 2 1 -2 1 -1 0 0 1 1 2 0 -1 0 1 2 2 -1 -2 -1 -2 -1 2 -2 -1 2 1 0 2 1 0 1 0 -1 2 0 0 2 2 -1 1 -1 2 -1 0 0 2 2 0 0 0 -2 -1 1 -1 -2 1 -2 -2 0 -1 1 1 -2 -2 -1 0 2 -2 0 0 1 1 -1 0 2 2 -1 -2 1"
   ]
  },
  {
   "cell_type": "markdown",
   "id": "65b59f6d",
   "metadata": {},
   "source": [
    "NTT problems."
   ]
  },
  {
   "cell_type": "code",
   "execution_count": 4,
   "id": "60840bcc",
   "metadata": {},
   "outputs": [
    {
     "name": "stdout",
     "output_type": "stream",
     "text": [
      "[-2, 2, 2, -1, 2, -1, -2, 1, -2, -2, 1, 2, 2, -2, 1, -1, 1, -2, 0, 2, 1, -1, 0, 2, 0, -1, 1, 1, 0, -2, 2, 2, 1, 1, -1, -2, -1, 1, 1, 2, 2, -1, -2, 2, 0, 2, -1, 1, -1, 2, -1, 1, -1, 2, 0, -2, 0, 0, -1, 1, -1, 0, 0, -2, 0, -2, -1, -1, 1, 0, -2, -2, 2, 2, -2, 0, -2, 0, 0, 0, 2, -2, 2, -2, -1, 1, 1, 2, 0, -1, 0, 2, 1, -2, -2, 1, 2, -1, 1, 0, 2, 0, 0, -2, 1, -1, 0, 2, -2, 0, 1, 2, 0, 1, -1, -2, 1, 0, 1, -1, 2, -2, -2, 0, -1, -2, 2, -2, 2, -2, 0, 2, 2, 2, 0, 1, -1, 2, -1, 2, -1, 1, 0, -1, -2, 0, 0, 2, 0, 0, 1, -2, 2, -2, -1, 1, -1, 0, -2, 2, 1, 2, -1, -2, -2, -2, 2, 2, -1, 0, 0, 1, -2, -1, -2, 2, -2, -2, 2, 2, 1, 1, -1, -2, 2, -2, -2, 2, 0, 2, 1, 1, 2, 0, -2, 0, -1, 1, -2, 2, 2, -1, 0, -1, -2, -2, -2, -2, 2, 2, -2, -2, 0, 1, -1, 2, 1, 1, -2, -2, 2, 2, 1, 1, -2, 1, 1, 1, -2, 2, 2, 2, 2, -2, 0, 0, 2, 2, 1, -1, 0, 0, -1, 1, 1, 1, 2, 1, -1, 0, 0, 0, -1, 0, -2, 2, 2, 0, -2, 0, 0, 2, -1, 0, 0, -2, -1, -2, 0, 0, 0, -2, 0, 0, 0, 0, -1, -2, -2, -1, -2, -2, 1, 0, 2, 1, -2, 1, 0, -2, -1, 2, 2, 0, 2, 0, 2, -1, -1, 1, 1, -1, -2, -1, 1, 1, -1, 1, 2, 1, 2, -2, 2, -2, 2, 1, 0, -1, 2, -1, 1, 0, 2, -1, 0, -1, -1, 1, -1, -1, -2, -2, -1, -2, 0, 1, -1, -2, -1, 0, -1, 1, 1, -2, -1, -2, 1, -2, 0, 0, -1, -1, 1, -1, -2, -1, 0, -1, -1, 1, 1, 1, -1, -1, 1, 0, -1, 0, -2, -2, -1, -1, 2, -1, 2, 1, 2, -1, -1, 2, 2, 0, 2, 2, 0, -2, 2, 1, -2, 0, -1, -2, 2, -1, 1, -2, 2, -1, -1, -1, 0, 2, 2, 0, 0, -1, -1, -2, 0, 0, 1, -2, 0, -1, -2, 0, 0, -2, 1, 2, 1, 0, 1, 0, 0, 2, 0, 0, 2, 1, -1, -2, 2, 1, -1, -2, -1, 1, 1, -1, 1, -1, -1, 2, -2, 0, 1, -1, 2, 1, 1, 1, 0, 0, 2, -2, -2, -1, 0, 1, 1, -2, 0, 1, 2, 2, 1, 1, 1, -2, 1, 2, -2, 1, -2, 0, 0, 1, -2, 0, 1, 1, -2, -1, -2, 2, -1, 0, 2, -2, 2, -2, -1, -2, -1, -1, 2, -1, 0, 1, 1, 2, 2, 1, -1, 2, -2, -2, 1, -1, 2, -2, 2, -2, -2, -2, -1, 2, 2, -1, 1, 2, -1, 1, 2, 2, 1, -1, 0, 2, 2, 0, -2, 1, 1, 2, 0, 2, 2, 1, -2, 0, 0, -1, 1, 1, -1, 1, 1, -2, 2, -2, 1, -2, -1, 1, 0, 1, 2, 1, 0, 2, -1, -1, -1, 2, 1, -2, 2, 2, 0, 1, 2, -2, 2, 0, -2, -1, -1, 1, -2, 2, 0, -1, 1, 2, -1, -1, -2, -2, -2, -1, -1, -2, -2, 2, 1, -2, 0, 1, -1, 0, -1, -2, -1, -2, 2, 1, 0, 1, -1, 1, 1, -2, -1, 0, 2, 1, -2, 2, 2, -2, -1, -1, 0, 1, -1, 0, 0, 1, 2, -2, 1, 2, -1, 2, 2, -2, 1, -2, -2, -2, 1, 0, 0, -1, -1, 0, -1, -2, 1, -1, 2, -2, 1, 0, 0, -1, -2, 1, -1, 2, 2, -2, 2, 0, 2, 1, 2, -2, 1, -2, 2, -2, -2, 2, 2, -2, 1, -1, 0, -2, 2, -2, 1, 1, -1, -2, -2, -2, -2, 2, 1, 0, 0, 1, 2, -1, 0, -1, -2, 2, -2, 0, 0, 1, 0, 1, 2, 2, 1, 2, 1, 1, -2, 2, 0, 0, -1, 2, 0, -2, -1, -1, -1, 1, 0, -1, 0, 1, -1, -2, 0, 2, 2, -2, 0, -1, 1, -2, 0, 0, 0, -1, 2, 1, 1, -1, -1, -2, -2, -2, -2, 0, -2, 1, -1, 2, 2, 2, -1, -1, -2, -2, -2, 2, 2, 0, 2, 1, 2, -2, 2, 2, 0, -2, -1, -1, -2, 2, 0, -1, 2, 1, 2, 1, -2, 1, 2, -1, -1, 1, 2, 2, -1, 2, 0, -1, 2, -2, -2, 0, -1, -1, -1, 0, -2, 0, 0, 1, 1, 2, -2, 1, -2, 0, -1, 2, 2, -1, -1, 0, 1, -1, 0, -2, 0, 1, -1, -1, 2, -1, 1, 0, 0, 0, 1, -1, -1, 1, 1, -1, -2, -2, -2, -2, 1, -2, 1, -1, -1, -2, 2, -1, 2, 1, -1, 0, -1, -1, 2, -2, 2, 0, -2, -2, 2, 0, 1, -2, -2, 0, 2, 0, -2, 0, 2, 2, 0, 2, 2, 2, -2, -2, 0, 0, 2, 2, -1, -1, 0, -2, 0, -1, -2, -2, -1, -2, -2, 2, -2, -2, -1, 1, -1, 2, -2, 2, 2, -1, 2, 1, 1, 1, 0, -2, -1, 0, 0, 2, -2, -2, -2, 2, 0, 2, 2, 0, 2, 1, -2, 0, 0, 0, 2, -2, -1, -1, 0, -2, 2, 1, 0, -2, 2, 2, 1, -2, 1, -1, 0, 0, 1, 1, 2, 0, -1, 0, 1, 2, 2, -1, -2, -1, -2, -1, 2, -2, -1, 2, 1, 0, 2, 1, 0, 1, 0, -1, 2, 0, 0, 2, 2, -1, 1, -1, 2, -1, 0, 0, 2, 2, 0, 0, 0, -2, -1, 1, -1, -2, 1, -2, -2, 0, -1, 1, 1, -2, -2, -1, 0, 2, -2, 0, 0, 1, 1, -1, 0, 2, 2, -1, -2, 1]\n"
     ]
    }
   ],
   "source": [
    "s1 = \"-2 2 2 -1 2 -1 -2 1 -2 -2 1 2 2 -2 1 -1 1 -2 0 2 1 -1 0 2 0 -1 1 1 0 -2 2 2 1 1 -1 -2 -1 1 1 2 2 -1 -2 2 0 2 -1 1 -1 2 -1 1 -1 2 0 -2 0 0 -1 1 -1 0 0 -2 0 -2 -1 -1 1 0 -2 -2 2 2 -2 0 -2 0 0 0 2 -2 2 -2 -1 1 1 2 0 -1 0 2 1 -2 -2 1 2 -1 1 0 2 0 0 -2 1 -1 0 2 -2 0 1 2 0 1 -1 -2 1 0 1 -1 2 -2 -2 0 -1 -2 2 -2 2 -2 0 2 2 2 0 1 -1 2 -1 2 -1 1 0 -1 -2 0 0 2 0 0 1 -2 2 -2 -1 1 -1 0 -2 2 1 2 -1 -2 -2 -2 2 2 -1 0 0 1 -2 -1 -2 2 -2 -2 2 2 1 1 -1 -2 2 -2 -2 2 0 2 1 1 2 0 -2 0 -1 1 -2 2 2 -1 0 -1 -2 -2 -2 -2 2 2 -2 -2 0 1 -1 2 1 1 -2 -2 2 2 1 1 -2 1 1 1 -2 2 2 2 2 -2 0 0 2 2 1 -1 0 0 -1 1 1 1 2 1 -1 0 0 0 -1 0 -2 2 2 0 -2 0 0 2 -1 0 0 -2 -1 -2 0 0 0 -2 0 0 0 0 -1 -2 -2 -1 -2 -2 1 0 2 1 -2 1 0 -2 -1 2 2 0 2 0 2 -1 -1 1 1 -1 -2 -1 1 1 -1 1 2 1 2 -2 2 -2 2 1 0 -1 2 -1 1 0 2 -1 0 -1 -1 1 -1 -1 -2 -2 -1 -2 0 1 -1 -2 -1 0 -1 1 1 -2 -1 -2 1 -2 0 0 -1 -1 1 -1 -2 -1 0 -1 -1 1 1 1 -1 -1 1 0 -1 0 -2 -2 -1 -1 2 -1 2 1 2 -1 -1 2 2 0 2 2 0 -2 2 1 -2 0 -1 -2 2 -1 1 -2 2 -1 -1 -1 0 2 2 0 0 -1 -1 -2 0 0 1 -2 0 -1 -2 0 0 -2 1 2 1 0 1 0 0 2 0 0 2 1 -1 -2 2 1 -1 -2 -1 1 1 -1 1 -1 -1 2 -2 0 1 -1 2 1 1 1 0 0 2 -2 -2 -1 0 1 1 -2 0 1 2 2 1 1 1 -2 1 2 -2 1 -2 0 0 1 -2 0 1 1 -2 -1 -2 2 -1 0 2 -2 2 -2 -1 -2 -1 -1 2 -1 0 1 1 2 2 1 -1 2 -2 -2 1 -1 2 -2 2 -2 -2 -2 -1 2 2 -1 1 2 -1 1 2 2 1 -1 0 2 2 0 -2 1 1 2 0 2 2 1 -2 0 0 -1 1 1 -1 1 1 -2 2 -2 1 -2 -1 1 0 1 2 1 0 2 -1 -1 -1 2 1 -2 2 2 0 1 2 -2 2 0 -2 -1 -1 1 -2 2 0 -1 1 2 -1 -1 -2 -2 -2 -1 -1 -2 -2 2 1 -2 0 1 -1 0 -1 -2 -1 -2 2 1 0 1 -1 1 1 -2 -1 0 2 1 -2 2 2 -2 -1 -1 0 1 -1 0 0 1 2 -2 1 2 -1 2 2 -2 1 -2 -2 -2 1 0 0 -1 -1 0 -1 -2 1 -1 2 -2 1 0 0 -1 -2 1 -1 2 2 -2 2 0 2 1 2 -2 1 -2 2 -2 -2 2 2 -2 1 -1 0 -2 2 -2 1 1 -1 -2 -2 -2 -2 2 1 0 0 1 2 -1 0 -1 -2 2 -2 0 0 1 0 1 2 2 1 2 1 1 -2 2 0 0 -1 2 0 -2 -1 -1 -1 1 0 -1 0 1 -1 -2 0 2 2 -2 0 -1 1 -2 0 0 0 -1 2 1 1 -1 -1 -2 -2 -2 -2 0 -2 1 -1 2 2 2 -1 -1 -2 -2 -2 2 2 0 2 1 2 -2 2 2 0 -2 -1 -1 -2 2 0 -1 2 1 2 1 -2 1 2 -1 -1 1 2 2 -1 2 0 -1 2 -2 -2 0 -1 -1 -1 0 -2 0 0 1 1 2 -2 1 -2 0 -1 2 2 -1 -1 0 1 -1 0 -2 0 1 -1 -1 2 -1 1 0 0 0 1 -1 -1 1 1 -1 -2 -2 -2 -2 1 -2 1 -1 -1 -2 2 -1 2 1 -1 0 -1 -1 2 -2 2 0 -2 -2 2 0 1 -2 -2 0 2 0 -2 0 2 2 0 2 2 2 -2 -2 0 0 2 2 -1 -1 0 -2 0 -1 -2 -2 -1 -2 -2 2 -2 -2 -1 1 -1 2 -2 2 2 -1 2 1 1 1 0 -2 -1 0 0 2 -2 -2 -2 2 0 2 2 0 2 1 -2 0 0 0 2 -2 -1 -1 0 -2 2 1 0 -2 2 2 1 -2 1 -1 0 0 1 1 2 0 -1 0 1 2 2 -1 -2 -1 -2 -1 2 -2 -1 2 1 0 2 1 0 1 0 -1 2 0 0 2 2 -1 1 -1 2 -1 0 0 2 2 0 0 0 -2 -1 1 -1 -2 1 -2 -2 0 -1 1 1 -2 -2 -1 0 2 -2 0 0 1 1 -1 0 2 2 -1 -2 1\"\n",
    "s1 = s1.split(' ')\n",
    "s1 = [int(num) for num in s1]\n",
    "print(s1)"
   ]
  },
  {
   "cell_type": "code",
   "execution_count": null,
   "id": "60200ad1",
   "metadata": {},
   "outputs": [],
   "source": []
  },
  {
   "cell_type": "code",
   "execution_count": null,
   "id": "d59c2a5d",
   "metadata": {},
   "outputs": [],
   "source": []
  },
  {
   "cell_type": "code",
   "execution_count": null,
   "id": "eb48be04",
   "metadata": {},
   "outputs": [],
   "source": [
    "HW = [bin(n).count(\"1\") for n in range(0,256)]"
   ]
  },
  {
   "cell_type": "code",
   "execution_count": null,
   "id": "e5d85cd7",
   "metadata": {},
   "outputs": [],
   "source": [
    "def mean(x):\n",
    "    return np.sum(x,axis = 0)/len(x)\n",
    "\n",
    "def std_dev(x,x_bar):\n",
    "    return np.sqrt(np.sum(x-x_bar)**2, axis = 0))\n",
    "    \n",
    "def cov(x,x_bar,y,y_bar):\n",
    "    return np.sum((x-x_bar)*(y-y_bar),axis = 0)"
   ]
  },
  {
   "cell_type": "code",
   "execution_count": null,
   "id": "4c127f1c",
   "metadata": {},
   "outputs": [],
   "source": [
    "import sys\n",
    "sys.path.append(r\"D:\\Demonstrate\\Dilithium\\attack_show\\dilithium-py-main\")   ## 注意这里\n",
    "from dilithium import Dilithium,DEFAULT_PARAMETERS\n",
    "\n",
    "t_bar = np.sum(trace_array, axis = 0)/len(trace_array)\n",
    "o_t = np.sqrt(np.sum((trace_array - t_bar)**2, axis = 0))\n",
    "\n",
    "for bnum in trange(0,32):\n",
    "    maxcpa = [0] * 256\n",
    "    for kguess in range(0,256):\n",
    "        hws = np.array([[HW[dilithium_internal(textin[bnum],kguess)] for textin in textin_array]]).transpose()\n",
    "        hws_bar = mean(hws)\n",
    "        o_hws = std_dev(hws, hws_bar)\n",
    "        correlation = cov(trace_array, t_bar, hws, hws_bar)\n",
    "        cpaoutput = correlation/(o_t*o_hws)\n",
    "        maxcpa[kguess] = max(abs(cpaoutput))\n",
    "    bestguess[bnum] = np.argmax(maxcpa)\n",
    "    \n",
    "print(\"Best Key Guess: \", end=\"\")\n",
    "for b in bestguess: print(\"%02x \" % b, end=\"\")"
   ]
  }
 ],
 "metadata": {
  "kernelspec": {
   "display_name": "Python 3 (ipykernel)",
   "language": "python",
   "name": "python3"
  },
  "language_info": {
   "codemirror_mode": {
    "name": "ipython",
    "version": 3
   },
   "file_extension": ".py",
   "mimetype": "text/x-python",
   "name": "python",
   "nbconvert_exporter": "python",
   "pygments_lexer": "ipython3",
   "version": "3.10.8"
  }
 },
 "nbformat": 4,
 "nbformat_minor": 5
}
